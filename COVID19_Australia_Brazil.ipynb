{
  "nbformat": 4,
  "nbformat_minor": 0,
  "metadata": {
    "colab": {
      "name": "Final_project_Hossein_Arjomandfard.ipynb",
      "provenance": [],
      "collapsed_sections": []
    },
    "kernelspec": {
      "display_name": "Python 3",
      "name": "python3"
    },
    "accelerator": "GPU"
  },
  "cells": [
    {
      "cell_type": "markdown",
      "metadata": {
        "id": "4iLxrLWgtKlD"
      },
      "source": [
        "## 1- Introduction\r\n",
        "### A-) Mobility Dataset \r\n",
        "One of the most efficient ways for reducing contact rates and preventing COVID-19 transmission is the mobility restrictions. Governments and public health officials around the world are experimenting with a verity of restrictions and still their impact is not fully understood. It is necessary to understand the impact of the new alternative policies on population mobility trends and evaluate their effectiveness.\r\n",
        "The data collected from the geographical positioning system (GPS) chips included in smartphones can provide a great source of information on patterns of travel. This is the backbone for many mobile applications such as Uber and other taxi companies as it allows driver to find the end-user. The end-users must permit to track their location manually to receive these types of services. \r\n",
        "The Community Mobility Reports have been prepared by Google to help governments make critical decisions to combat COVID-19. Google used similar type of aggregated, anonymized data which is used in products such as Google Maps to prepare these reports. The main purpose of these reports is to provide insights into the impact of alternative restriction policies. The reports show how people’s movements have changed throughout the pandemic. The reports are broken down by location and display movement trends and the change in visits to places across different types of places such as parks, transit stations, retail, and groceries. Google measures change in visitor numbers to specific categories of location (e.g. parks; train stations) relative to a baseline period which is between 3rd of January to 6th of February 2020.\r\n",
        "Google note that we should not compare places across different countries or regions as there may be local differences in categories which could be misleading.\r\n",
        "\r\n",
        "The data set is publicly available at the following link: https://www.google.com/covid19/mobility/\r\n",
        "\r\n",
        "\r\n",
        "\r\n",
        "### B-) Covid Case (cc) Dataset\r\n",
        " The beginning of COVID-19 is one of the extraordinary adjustments in recent history. Only a few months after detecting the first cases, it has impacted the world dramatically. It forced the governments around the world to place different restriction policies and lockdowns to stop the pandemic. This data set is a time-series, and it contains the data for the number of confirmed new cases, total cases, daily deaths, total deaths and etc. for different continents and locations. There are also other useful information there such as the total population and the elderly population of each country. The confirmed cases and deaths are two of the most important variables for understanding and evaluating the COVID-19 pandemic. This data set contains the official data on the extent of Covid-19 testing for 94 countries. \r\n",
        "\r\n",
        "The data set is publicly available at the following link: \r\n",
        "https://ourworldindata.org/covid-cases\r\n",
        "\r\n"
      ]
    },
    {
      "cell_type": "markdown",
      "metadata": {
        "id": "5IYrY-xjuXAj"
      },
      "source": [
        "## 2- Literature Review:\r\n",
        "### A-) Mobilitty Dataset\r\n",
        "\r\n",
        "Yamamoto, N. and H. Wang (2020). \"Assess the impacts of human mobility change on COVID-19 dynamics in Arizona, US: a modeling study incorporating Google Community Mobility Reports.\" arXiv preprint arXiv:2009.02419. https://arxiv.org/abs/2009.02419 \r\n",
        "\r\n",
        "In May 2020, the stay-at-home restriction policy was lifted in Arizona in US which led to making Arizona one of the hottest spots for COVID-19 in the world in June 2020. Hence the new restrictions were imposed, and number of COVID-19 new cases were declined. Nowadays, Arizona is considered as a good model in slowing the epidemic. Yamamoto, N. and H. Wang (2020) examined the COVID-19 pandemic in Arizona and evaluate the effect of human mobility change. The study showed that the pandemic peak time was delayed, and the extent of the it was decreased by reducing human mobility. Their study recommends that fast and efficient decision making is vital to control human mobility and, therefore, COVID-19 pandemic. \r\n",
        "In order to completely grasp the insights that Google dataset provides, a multidisciplinary approach is required, including many different domains such as time series analysis, multicriteria decision making and data visualization approaches. \r\n",
        "\r\n",
        "\r\n",
        "da Silvaa, G. C., et al. (2020). \"Google COVID-19 community mobility reports: insights from multi-criteria decision making.\" arXiv preprint arXiv:2009.10648.\r\n",
        "https://arxiv.org/pdf/2009.10648.pdf \r\n",
        "\r\n",
        "\r\n",
        "da Silvaa, G. C., et al. (2020) used the Google COVID-19 community mobility data set to discuss multicriteria decision making concepts that enable a multicriteria analysis of community mobility reports data.  They discussed how to firstly ensure that the mobility reduction rates from different location categories are comparable, and secondly how to evaluate the mobility reduction rates from a pair of communities through different Pareto dominance relations. Furthermore, they proposed a way to cluster and rank a set of communities based on their mobility reduction rates in a Pareto-compliant approach. \r\n",
        "\r\n",
        "### B-) CC Dataset\r\n",
        "Bhanot, G. and C. DeLisi (2020). \"Analysis of Covid-19 Data for Eight European Countries and the United Kingdom Using a Simplified SIR Model.\"\r\n",
        "\t\r\n",
        "As the Covid-19 pandemic remains to damage the world, it is vital to understanding the characteristics to design strategies of reaction. Bhanot and DeLisi (2020) applied a Susceptible-Infective-Recovered model to cc data set for eight European countries and the United Kingdom (UK) and predict the post-peak of confirmed cases and deaths as a function of time. They showed that the predicted and actual case fatality ratio was lowest in Norway and highest for the United Kingdom . Their model describes the dynamics of the different stages of the Covid-19 pandemic with great accuracy precision. \r\n",
        "\r\n",
        "\r\n",
        "Yuan, J., et al. (2021). \"Non-linear correlation between daily new cases of COVID-19 \r\n",
        "and meteorological factors in 127 countries.\" Environmental Research 193: 110521.\r\n",
        "\r\n",
        "\r\n",
        "Yuan, J., et al. (2021) aimed to investigate the impacts of meteorological factors on daily new cases of COVID-19 in 127 countries by utilizing the log-linear generalized additive model (GAM). They showed that when temperature, relative humidity and wind speed were below 20◦C, 70% and 7 m/s respectively, then they are negatively correlated with the daily new cases. On the other hand, when temperature was above 20◦C, it was positively correlated with daily new cases. In addition, wind speed above 7 m/s and relative humidity above 70% was not statistically associated with transmission of COVID-19.This results could be useful supplement to help governments and policymakers. \r\n"
      ]
    },
    {
      "cell_type": "markdown",
      "metadata": {
        "id": "XbCdoucsvtXV"
      },
      "source": [
        "## 3- Research Question \r\n",
        "The Australia’s pandemic situation will be compared with Brazil from beginning of the pandemic. I will study how the change in the movements in the transit stations has impacted the new Covid-19 cases in Brazil and Australia. \r\n",
        "\r\n",
        "Nowadays, Australia is considered as a good example in slowing the COVID-19 pandemic. However, Brazil has shown one of the worst responses to the pandemic and has one of the largest numbers of confirmed cases with high mortality in the world. Brazil government has not formed a plan to tackle the pandemic very well. It is vital to understand and compare the effect of early countermeasures proposed to restrict mobility during epidemics. This study could help researchers to evaluate the impact of the of restrictions to combat any future pandemic. \r\n"
      ]
    },
    {
      "cell_type": "markdown",
      "metadata": {
        "id": "4qcJmXeBwHf0"
      },
      "source": [
        "## 4- Method:\r\n",
        "I will use spark as I am  dealing with big data. Apache Spark is a data processing framework and one of the most actively developed open-source project in big data. Many developers contribute to it every year since its started, and many new features and capabilities have been added to it (such as libraries) to perform different types of analytics. One the most unique features of spark at the highest level is that it’s the only software that combines data and Artificial Intelligence (AI) together. It enables users to perform large scale data transformation and analysis and then perform state of the art machine learning and AI algorithms on the data which is very important for building AI products. \r\n",
        "\r\n",
        "Let's discuss parallel computing, Hadoop and Spark . \r\n",
        "Parallel computing: It is the synchronized and concurrent use of multiple compute resources to provide solution to a computational problem. It this system, a large problem is divided into discrete parts which could then be answered concurrently. Additionally, every single part is divided to a series of instructions. Then different processors execute instructions from each part simultaneously. \r\n",
        "Hadoop: Hadoop is a distributed file system (HDFS), and it enables users to store and process large datasets on a cloud of machines. It is a cheap platform for distributed storage and parallel processing. Hadoop stores different types of data as blocks in a distributed system and it has a master and slave topology. In this environment, data is stored in a number of nodes and each node process the data stored on it rather than moving the data over the network.\r\n",
        "Spark: Spark is a fast cluster computing system which utilizes Resilient Distributed Datasets (RDD) to execute parallel processing across a group of computers which are attached together and harmonize with each other to process data. RDD apply parallel processing across a cluster and enables data operations executes faster .\r\n",
        "\r\n",
        "Why did I choose spark over Hadoop MapReduce? \r\n",
        "Hadoop keep the data in the hard disk. When MapReduce is run, it reads the data from hard disk into RAM. This process takes a long time. Then after processing, it put the data from RAM into hard disk. This process is slow and expensive. Spark create the RDD in the RAM and process tasks in-memory, but MapReduce has to read from and write to a hard disk. Hence, Spark processing speed is significantly better (may be up to 100 times faster). That is the main difference between Spark and Hadoop MapReduce. \r\n",
        " "
      ]
    },
    {
      "cell_type": "markdown",
      "metadata": {
        "id": "XYN0UOMq1tkT"
      },
      "source": [
        "## 5- Prepare The Spark"
      ]
    },
    {
      "cell_type": "code",
      "metadata": {
        "id": "x3nz7NDotINd"
      },
      "source": [
        "import pandas as pd\r\n",
        "import numpy as np\r\n",
        "%matplotlib inline\r\n",
        "import matplotlib.pyplot as plt\r\n",
        "import pymongo\r\n",
        "from pymongo import MongoClient\r\n",
        "import seaborn as sns\r\n",
        "import datetime\r\n",
        "from bson.objectid import ObjectId\r\n"
      ],
      "execution_count": 8,
      "outputs": []
    },
    {
      "cell_type": "code",
      "metadata": {
        "colab": {
          "base_uri": "https://localhost:8080/"
        },
        "id": "0lD6AUydkDue",
        "outputId": "6f35364a-b18c-42d9-c995-0c96fc4d4463"
      },
      "source": [
        "from google.colab import drive\r\n",
        "drive.mount('googledrive')"
      ],
      "execution_count": 3,
      "outputs": [
        {
          "output_type": "stream",
          "text": [
            "Drive already mounted at googledrive; to attempt to forcibly remount, call drive.mount(\"googledrive\", force_remount=True).\n"
          ],
          "name": "stdout"
        }
      ]
    },
    {
      "cell_type": "code",
      "metadata": {
        "colab": {
          "base_uri": "https://localhost:8080/"
        },
        "id": "sYQJD_eEi9T6",
        "outputId": "424dc10e-8796-47bf-c130-17edf6a464ca"
      },
      "source": [
        "!apt-get update"
      ],
      "execution_count": 4,
      "outputs": [
        {
          "output_type": "stream",
          "text": [
            "\r0% [Working]\r            \rIgn:1 https://developer.download.nvidia.com/compute/cuda/repos/ubuntu1804/x86_64  InRelease\n",
            "\r0% [Connecting to archive.ubuntu.com (91.189.88.152)] [Connecting to security.u\r                                                                               \rGet:2 https://cloud.r-project.org/bin/linux/ubuntu bionic-cran40/ InRelease [3,626 B]\n",
            "\r0% [Connecting to archive.ubuntu.com (91.189.88.152)] [Connecting to security.u\r0% [Connecting to archive.ubuntu.com (91.189.88.152)] [Connecting to security.u\r0% [2 InRelease gpgv 3,626 B] [Connecting to archive.ubuntu.com (91.189.88.152)\r                                                                               \rIgn:3 https://developer.download.nvidia.com/compute/machine-learning/repos/ubuntu1804/x86_64  InRelease\n",
            "\r0% [2 InRelease gpgv 3,626 B] [Connecting to archive.ubuntu.com (91.189.88.152)\r                                                                               \rHit:4 https://developer.download.nvidia.com/compute/cuda/repos/ubuntu1804/x86_64  Release\n",
            "Hit:5 https://developer.download.nvidia.com/compute/machine-learning/repos/ubuntu1804/x86_64  Release\n",
            "Get:6 http://security.ubuntu.com/ubuntu bionic-security InRelease [88.7 kB]\n",
            "Hit:7 http://archive.ubuntu.com/ubuntu bionic InRelease\n",
            "Get:8 http://ppa.launchpad.net/c2d4u.team/c2d4u4.0+/ubuntu bionic InRelease [15.9 kB]\n",
            "Get:9 http://archive.ubuntu.com/ubuntu bionic-updates InRelease [88.7 kB]\n",
            "Hit:12 http://ppa.launchpad.net/cran/libgit2/ubuntu bionic InRelease\n",
            "Get:13 http://archive.ubuntu.com/ubuntu bionic-backports InRelease [74.6 kB]\n",
            "Hit:14 http://ppa.launchpad.net/deadsnakes/ppa/ubuntu bionic InRelease\n",
            "Get:15 http://archive.ubuntu.com/ubuntu bionic-updates/universe amd64 Packages [2,163 kB]\n",
            "Hit:16 http://ppa.launchpad.net/graphics-drivers/ppa/ubuntu bionic InRelease\n",
            "Get:17 http://ppa.launchpad.net/c2d4u.team/c2d4u4.0+/ubuntu bionic/main Sources [1,738 kB]\n",
            "Get:18 http://archive.ubuntu.com/ubuntu bionic-updates/main amd64 Packages [2,394 kB]\n",
            "Get:19 http://ppa.launchpad.net/c2d4u.team/c2d4u4.0+/ubuntu bionic/main amd64 Packages [889 kB]\n",
            "Fetched 7,457 kB in 4s (1,998 kB/s)\n",
            "Reading package lists... Done\n"
          ],
          "name": "stdout"
        }
      ]
    },
    {
      "cell_type": "code",
      "metadata": {
        "id": "AzHWc8FDkF6L"
      },
      "source": [
        "!apt-get install openjdk-8-jdk-headless -qq > /dev/null\r\n"
      ],
      "execution_count": 9,
      "outputs": []
    },
    {
      "cell_type": "code",
      "metadata": {
        "id": "U1KCEGHc0syA"
      },
      "source": [
        "!wget -q https://downloads.apache.org/spark/spark-3.0.2/spark-3.0.2-bin-hadoop2.7.tgz\r\n"
      ],
      "execution_count": 10,
      "outputs": []
    },
    {
      "cell_type": "code",
      "metadata": {
        "id": "nsknJWar0s0h"
      },
      "source": [
        "!pip3 install -q findspark"
      ],
      "execution_count": 11,
      "outputs": []
    },
    {
      "cell_type": "code",
      "metadata": {
        "colab": {
          "base_uri": "https://localhost:8080/"
        },
        "id": "ba9jG1nG0s33",
        "outputId": "39f644b2-2871-46c9-c1bf-4a96e3c788a7"
      },
      "source": [
        "!tar zxvf /content/spark-3.0.2-bin-hadoop2.7.tgz"
      ],
      "execution_count": 12,
      "outputs": [
        {
          "output_type": "stream",
          "text": [
            "spark-3.0.2-bin-hadoop2.7/\n",
            "spark-3.0.2-bin-hadoop2.7/R/\n",
            "spark-3.0.2-bin-hadoop2.7/R/lib/\n",
            "spark-3.0.2-bin-hadoop2.7/R/lib/sparkr.zip\n",
            "spark-3.0.2-bin-hadoop2.7/R/lib/SparkR/\n",
            "spark-3.0.2-bin-hadoop2.7/R/lib/SparkR/worker/\n",
            "spark-3.0.2-bin-hadoop2.7/R/lib/SparkR/worker/worker.R\n",
            "spark-3.0.2-bin-hadoop2.7/R/lib/SparkR/worker/daemon.R\n",
            "spark-3.0.2-bin-hadoop2.7/R/lib/SparkR/tests/\n",
            "spark-3.0.2-bin-hadoop2.7/R/lib/SparkR/tests/testthat/\n",
            "spark-3.0.2-bin-hadoop2.7/R/lib/SparkR/tests/testthat/test_basic.R\n",
            "spark-3.0.2-bin-hadoop2.7/R/lib/SparkR/profile/\n",
            "spark-3.0.2-bin-hadoop2.7/R/lib/SparkR/profile/shell.R\n",
            "spark-3.0.2-bin-hadoop2.7/R/lib/SparkR/profile/general.R\n",
            "spark-3.0.2-bin-hadoop2.7/R/lib/SparkR/doc/\n",
            "spark-3.0.2-bin-hadoop2.7/R/lib/SparkR/doc/sparkr-vignettes.html\n",
            "spark-3.0.2-bin-hadoop2.7/R/lib/SparkR/doc/sparkr-vignettes.Rmd\n",
            "spark-3.0.2-bin-hadoop2.7/R/lib/SparkR/doc/sparkr-vignettes.R\n",
            "spark-3.0.2-bin-hadoop2.7/R/lib/SparkR/doc/index.html\n",
            "spark-3.0.2-bin-hadoop2.7/R/lib/SparkR/R/\n",
            "spark-3.0.2-bin-hadoop2.7/R/lib/SparkR/R/SparkR\n",
            "spark-3.0.2-bin-hadoop2.7/R/lib/SparkR/R/SparkR.rdx\n",
            "spark-3.0.2-bin-hadoop2.7/R/lib/SparkR/R/SparkR.rdb\n",
            "spark-3.0.2-bin-hadoop2.7/R/lib/SparkR/Meta/\n",
            "spark-3.0.2-bin-hadoop2.7/R/lib/SparkR/Meta/features.rds\n",
            "spark-3.0.2-bin-hadoop2.7/R/lib/SparkR/Meta/package.rds\n",
            "spark-3.0.2-bin-hadoop2.7/R/lib/SparkR/Meta/links.rds\n",
            "spark-3.0.2-bin-hadoop2.7/R/lib/SparkR/Meta/hsearch.rds\n",
            "spark-3.0.2-bin-hadoop2.7/R/lib/SparkR/Meta/nsInfo.rds\n",
            "spark-3.0.2-bin-hadoop2.7/R/lib/SparkR/Meta/vignette.rds\n",
            "spark-3.0.2-bin-hadoop2.7/R/lib/SparkR/Meta/Rd.rds\n",
            "spark-3.0.2-bin-hadoop2.7/R/lib/SparkR/DESCRIPTION\n",
            "spark-3.0.2-bin-hadoop2.7/R/lib/SparkR/NAMESPACE\n",
            "spark-3.0.2-bin-hadoop2.7/R/lib/SparkR/INDEX\n",
            "spark-3.0.2-bin-hadoop2.7/R/lib/SparkR/html/\n",
            "spark-3.0.2-bin-hadoop2.7/R/lib/SparkR/html/R.css\n",
            "spark-3.0.2-bin-hadoop2.7/R/lib/SparkR/html/00Index.html\n",
            "spark-3.0.2-bin-hadoop2.7/R/lib/SparkR/help/\n",
            "spark-3.0.2-bin-hadoop2.7/R/lib/SparkR/help/aliases.rds\n",
            "spark-3.0.2-bin-hadoop2.7/R/lib/SparkR/help/AnIndex\n",
            "spark-3.0.2-bin-hadoop2.7/R/lib/SparkR/help/SparkR.rdx\n",
            "spark-3.0.2-bin-hadoop2.7/R/lib/SparkR/help/SparkR.rdb\n",
            "spark-3.0.2-bin-hadoop2.7/R/lib/SparkR/help/paths.rds\n",
            "spark-3.0.2-bin-hadoop2.7/sbin/\n",
            "spark-3.0.2-bin-hadoop2.7/sbin/stop-slaves.sh\n",
            "spark-3.0.2-bin-hadoop2.7/sbin/stop-slave.sh\n",
            "spark-3.0.2-bin-hadoop2.7/sbin/stop-all.sh\n",
            "spark-3.0.2-bin-hadoop2.7/sbin/start-slaves.sh\n",
            "spark-3.0.2-bin-hadoop2.7/sbin/start-slave.sh\n",
            "spark-3.0.2-bin-hadoop2.7/sbin/start-all.sh\n",
            "spark-3.0.2-bin-hadoop2.7/sbin/spark-daemons.sh\n",
            "spark-3.0.2-bin-hadoop2.7/sbin/spark-daemon.sh\n",
            "spark-3.0.2-bin-hadoop2.7/sbin/spark-config.sh\n",
            "spark-3.0.2-bin-hadoop2.7/sbin/slaves.sh\n",
            "spark-3.0.2-bin-hadoop2.7/sbin/stop-thriftserver.sh\n",
            "spark-3.0.2-bin-hadoop2.7/sbin/stop-mesos-shuffle-service.sh\n",
            "spark-3.0.2-bin-hadoop2.7/sbin/stop-mesos-dispatcher.sh\n",
            "spark-3.0.2-bin-hadoop2.7/sbin/stop-master.sh\n",
            "spark-3.0.2-bin-hadoop2.7/sbin/stop-history-server.sh\n",
            "spark-3.0.2-bin-hadoop2.7/sbin/start-thriftserver.sh\n",
            "spark-3.0.2-bin-hadoop2.7/sbin/start-mesos-shuffle-service.sh\n",
            "spark-3.0.2-bin-hadoop2.7/sbin/start-mesos-dispatcher.sh\n",
            "spark-3.0.2-bin-hadoop2.7/sbin/start-master.sh\n",
            "spark-3.0.2-bin-hadoop2.7/sbin/start-history-server.sh\n",
            "spark-3.0.2-bin-hadoop2.7/python/\n",
            "spark-3.0.2-bin-hadoop2.7/python/pyspark.egg-info/\n",
            "spark-3.0.2-bin-hadoop2.7/python/pyspark.egg-info/SOURCES.txt\n",
            "spark-3.0.2-bin-hadoop2.7/python/pyspark.egg-info/top_level.txt\n",
            "spark-3.0.2-bin-hadoop2.7/python/pyspark.egg-info/requires.txt\n",
            "spark-3.0.2-bin-hadoop2.7/python/pyspark.egg-info/dependency_links.txt\n",
            "spark-3.0.2-bin-hadoop2.7/python/pyspark.egg-info/PKG-INFO\n",
            "spark-3.0.2-bin-hadoop2.7/python/pyspark/\n",
            "spark-3.0.2-bin-hadoop2.7/python/pyspark/python/\n",
            "spark-3.0.2-bin-hadoop2.7/python/pyspark/python/pyspark/\n",
            "spark-3.0.2-bin-hadoop2.7/python/pyspark/python/pyspark/shell.py\n",
            "spark-3.0.2-bin-hadoop2.7/python/pyspark/tests/\n",
            "spark-3.0.2-bin-hadoop2.7/python/pyspark/tests/test_worker.py\n",
            "spark-3.0.2-bin-hadoop2.7/python/pyspark/tests/test_util.py\n",
            "spark-3.0.2-bin-hadoop2.7/python/pyspark/tests/test_taskcontext.py\n",
            "spark-3.0.2-bin-hadoop2.7/python/pyspark/tests/test_shuffle.py\n",
            "spark-3.0.2-bin-hadoop2.7/python/pyspark/tests/test_serializers.py\n",
            "spark-3.0.2-bin-hadoop2.7/python/pyspark/tests/test_readwrite.py\n",
            "spark-3.0.2-bin-hadoop2.7/python/pyspark/tests/test_rddbarrier.py\n",
            "spark-3.0.2-bin-hadoop2.7/python/pyspark/tests/test_rdd.py\n",
            "spark-3.0.2-bin-hadoop2.7/python/pyspark/tests/test_profiler.py\n",
            "spark-3.0.2-bin-hadoop2.7/python/pyspark/tests/test_pin_thread.py\n",
            "spark-3.0.2-bin-hadoop2.7/python/pyspark/tests/test_join.py\n",
            "spark-3.0.2-bin-hadoop2.7/python/pyspark/tests/test_daemon.py\n",
            "spark-3.0.2-bin-hadoop2.7/python/pyspark/tests/test_context.py\n",
            "spark-3.0.2-bin-hadoop2.7/python/pyspark/tests/test_conf.py\n",
            "spark-3.0.2-bin-hadoop2.7/python/pyspark/tests/test_broadcast.py\n",
            "spark-3.0.2-bin-hadoop2.7/python/pyspark/tests/test_appsubmit.py\n",
            "spark-3.0.2-bin-hadoop2.7/python/pyspark/tests/__init__.py\n",
            "spark-3.0.2-bin-hadoop2.7/python/pyspark/testing/\n",
            "spark-3.0.2-bin-hadoop2.7/python/pyspark/testing/mllibutils.py\n",
            "spark-3.0.2-bin-hadoop2.7/python/pyspark/testing/__init__.py\n",
            "spark-3.0.2-bin-hadoop2.7/python/pyspark/testing/utils.py\n",
            "spark-3.0.2-bin-hadoop2.7/python/pyspark/testing/streamingutils.py\n",
            "spark-3.0.2-bin-hadoop2.7/python/pyspark/testing/sqlutils.py\n",
            "spark-3.0.2-bin-hadoop2.7/python/pyspark/testing/mlutils.py\n",
            "spark-3.0.2-bin-hadoop2.7/python/pyspark/streaming/\n",
            "spark-3.0.2-bin-hadoop2.7/python/pyspark/streaming/tests/\n",
            "spark-3.0.2-bin-hadoop2.7/python/pyspark/streaming/tests/__init__.py\n",
            "spark-3.0.2-bin-hadoop2.7/python/pyspark/streaming/tests/test_listener.py\n",
            "spark-3.0.2-bin-hadoop2.7/python/pyspark/streaming/tests/test_kinesis.py\n",
            "spark-3.0.2-bin-hadoop2.7/python/pyspark/streaming/tests/test_dstream.py\n",
            "spark-3.0.2-bin-hadoop2.7/python/pyspark/streaming/tests/test_context.py\n",
            "spark-3.0.2-bin-hadoop2.7/python/pyspark/streaming/listener.py\n",
            "spark-3.0.2-bin-hadoop2.7/python/pyspark/streaming/__init__.py\n",
            "spark-3.0.2-bin-hadoop2.7/python/pyspark/streaming/util.py\n",
            "spark-3.0.2-bin-hadoop2.7/python/pyspark/streaming/kinesis.py\n",
            "spark-3.0.2-bin-hadoop2.7/python/pyspark/streaming/dstream.py\n",
            "spark-3.0.2-bin-hadoop2.7/python/pyspark/streaming/context.py\n",
            "spark-3.0.2-bin-hadoop2.7/python/pyspark/status.py\n",
            "spark-3.0.2-bin-hadoop2.7/python/pyspark/sql/\n",
            "spark-3.0.2-bin-hadoop2.7/python/pyspark/sql/streaming.py\n",
            "spark-3.0.2-bin-hadoop2.7/python/pyspark/sql/session.py\n",
            "spark-3.0.2-bin-hadoop2.7/python/pyspark/sql/readwriter.py\n",
            "spark-3.0.2-bin-hadoop2.7/python/pyspark/sql/group.py\n",
            "spark-3.0.2-bin-hadoop2.7/python/pyspark/sql/functions.py\n",
            "spark-3.0.2-bin-hadoop2.7/python/pyspark/sql/dataframe.py\n",
            "spark-3.0.2-bin-hadoop2.7/python/pyspark/sql/context.py\n",
            "spark-3.0.2-bin-hadoop2.7/python/pyspark/sql/conf.py\n",
            "spark-3.0.2-bin-hadoop2.7/python/pyspark/sql/column.py\n",
            "spark-3.0.2-bin-hadoop2.7/python/pyspark/sql/catalog.py\n",
            "spark-3.0.2-bin-hadoop2.7/python/pyspark/sql/__init__.py\n",
            "spark-3.0.2-bin-hadoop2.7/python/pyspark/sql/tests/\n",
            "spark-3.0.2-bin-hadoop2.7/python/pyspark/sql/tests/test_pandas_cogrouped_map.py\n",
            "spark-3.0.2-bin-hadoop2.7/python/pyspark/sql/tests/test_group.py\n",
            "spark-3.0.2-bin-hadoop2.7/python/pyspark/sql/tests/test_functions.py\n",
            "spark-3.0.2-bin-hadoop2.7/python/pyspark/sql/tests/test_datasources.py\n",
            "spark-3.0.2-bin-hadoop2.7/python/pyspark/sql/tests/test_dataframe.py\n",
            "spark-3.0.2-bin-hadoop2.7/python/pyspark/sql/tests/test_context.py\n",
            "spark-3.0.2-bin-hadoop2.7/python/pyspark/sql/tests/test_conf.py\n",
            "spark-3.0.2-bin-hadoop2.7/python/pyspark/sql/tests/test_column.py\n",
            "spark-3.0.2-bin-hadoop2.7/python/pyspark/sql/tests/test_catalog.py\n",
            "spark-3.0.2-bin-hadoop2.7/python/pyspark/sql/tests/test_arrow.py\n",
            "spark-3.0.2-bin-hadoop2.7/python/pyspark/sql/tests/__init__.py\n",
            "spark-3.0.2-bin-hadoop2.7/python/pyspark/sql/tests/test_utils.py\n",
            "spark-3.0.2-bin-hadoop2.7/python/pyspark/sql/tests/test_udf.py\n",
            "spark-3.0.2-bin-hadoop2.7/python/pyspark/sql/tests/test_types.py\n",
            "spark-3.0.2-bin-hadoop2.7/python/pyspark/sql/tests/test_streaming.py\n",
            "spark-3.0.2-bin-hadoop2.7/python/pyspark/sql/tests/test_session.py\n",
            "spark-3.0.2-bin-hadoop2.7/python/pyspark/sql/tests/test_serde.py\n",
            "spark-3.0.2-bin-hadoop2.7/python/pyspark/sql/tests/test_readwriter.py\n",
            "spark-3.0.2-bin-hadoop2.7/python/pyspark/sql/tests/test_pandas_udf_window.py\n",
            "spark-3.0.2-bin-hadoop2.7/python/pyspark/sql/tests/test_pandas_udf_typehints.py\n",
            "spark-3.0.2-bin-hadoop2.7/python/pyspark/sql/tests/test_pandas_udf_scalar.py\n",
            "spark-3.0.2-bin-hadoop2.7/python/pyspark/sql/tests/test_pandas_udf_grouped_agg.py\n",
            "spark-3.0.2-bin-hadoop2.7/python/pyspark/sql/tests/test_pandas_udf.py\n",
            "spark-3.0.2-bin-hadoop2.7/python/pyspark/sql/tests/test_pandas_map.py\n",
            "spark-3.0.2-bin-hadoop2.7/python/pyspark/sql/tests/test_pandas_grouped_map.py\n",
            "spark-3.0.2-bin-hadoop2.7/python/pyspark/sql/pandas/\n",
            "spark-3.0.2-bin-hadoop2.7/python/pyspark/sql/pandas/utils.py\n",
            "spark-3.0.2-bin-hadoop2.7/python/pyspark/sql/pandas/types.py\n",
            "spark-3.0.2-bin-hadoop2.7/python/pyspark/sql/pandas/typehints.py\n",
            "spark-3.0.2-bin-hadoop2.7/python/pyspark/sql/pandas/serializers.py\n",
            "spark-3.0.2-bin-hadoop2.7/python/pyspark/sql/pandas/map_ops.py\n",
            "spark-3.0.2-bin-hadoop2.7/python/pyspark/sql/pandas/group_ops.py\n",
            "spark-3.0.2-bin-hadoop2.7/python/pyspark/sql/pandas/functions.py\n",
            "spark-3.0.2-bin-hadoop2.7/python/pyspark/sql/pandas/conversion.py\n",
            "spark-3.0.2-bin-hadoop2.7/python/pyspark/sql/pandas/__init__.py\n",
            "spark-3.0.2-bin-hadoop2.7/python/pyspark/sql/avro/\n",
            "spark-3.0.2-bin-hadoop2.7/python/pyspark/sql/avro/functions.py\n",
            "spark-3.0.2-bin-hadoop2.7/python/pyspark/sql/avro/__init__.py\n",
            "spark-3.0.2-bin-hadoop2.7/python/pyspark/sql/window.py\n",
            "spark-3.0.2-bin-hadoop2.7/python/pyspark/sql/utils.py\n",
            "spark-3.0.2-bin-hadoop2.7/python/pyspark/sql/udf.py\n",
            "spark-3.0.2-bin-hadoop2.7/python/pyspark/sql/types.py\n",
            "spark-3.0.2-bin-hadoop2.7/python/pyspark/rddsampler.py\n",
            "spark-3.0.2-bin-hadoop2.7/python/pyspark/mllib/\n",
            "spark-3.0.2-bin-hadoop2.7/python/pyspark/mllib/util.py\n",
            "spark-3.0.2-bin-hadoop2.7/python/pyspark/mllib/tree.py\n",
            "spark-3.0.2-bin-hadoop2.7/python/pyspark/mllib/regression.py\n",
            "spark-3.0.2-bin-hadoop2.7/python/pyspark/mllib/recommendation.py\n",
            "spark-3.0.2-bin-hadoop2.7/python/pyspark/mllib/random.py\n",
            "spark-3.0.2-bin-hadoop2.7/python/pyspark/mllib/fpm.py\n",
            "spark-3.0.2-bin-hadoop2.7/python/pyspark/mllib/feature.py\n",
            "spark-3.0.2-bin-hadoop2.7/python/pyspark/mllib/evaluation.py\n",
            "spark-3.0.2-bin-hadoop2.7/python/pyspark/mllib/common.py\n",
            "spark-3.0.2-bin-hadoop2.7/python/pyspark/mllib/clustering.py\n",
            "spark-3.0.2-bin-hadoop2.7/python/pyspark/mllib/classification.py\n",
            "spark-3.0.2-bin-hadoop2.7/python/pyspark/mllib/__init__.py\n",
            "spark-3.0.2-bin-hadoop2.7/python/pyspark/mllib/tests/\n",
            "spark-3.0.2-bin-hadoop2.7/python/pyspark/mllib/tests/test_util.py\n",
            "spark-3.0.2-bin-hadoop2.7/python/pyspark/mllib/tests/test_streaming_algorithms.py\n",
            "spark-3.0.2-bin-hadoop2.7/python/pyspark/mllib/tests/test_stat.py\n",
            "spark-3.0.2-bin-hadoop2.7/python/pyspark/mllib/tests/test_linalg.py\n",
            "spark-3.0.2-bin-hadoop2.7/python/pyspark/mllib/tests/test_feature.py\n",
            "spark-3.0.2-bin-hadoop2.7/python/pyspark/mllib/tests/test_algorithms.py\n",
            "spark-3.0.2-bin-hadoop2.7/python/pyspark/mllib/tests/__init__.py\n",
            "spark-3.0.2-bin-hadoop2.7/python/pyspark/mllib/stat/\n",
            "spark-3.0.2-bin-hadoop2.7/python/pyspark/mllib/stat/distribution.py\n",
            "spark-3.0.2-bin-hadoop2.7/python/pyspark/mllib/stat/_statistics.py\n",
            "spark-3.0.2-bin-hadoop2.7/python/pyspark/mllib/stat/__init__.py\n",
            "spark-3.0.2-bin-hadoop2.7/python/pyspark/mllib/stat/KernelDensity.py\n",
            "spark-3.0.2-bin-hadoop2.7/python/pyspark/mllib/stat/test.py\n",
            "spark-3.0.2-bin-hadoop2.7/python/pyspark/mllib/linalg/\n",
            "spark-3.0.2-bin-hadoop2.7/python/pyspark/mllib/linalg/distributed.py\n",
            "spark-3.0.2-bin-hadoop2.7/python/pyspark/mllib/linalg/__init__.py\n",
            "spark-3.0.2-bin-hadoop2.7/python/pyspark/ml/\n",
            "spark-3.0.2-bin-hadoop2.7/python/pyspark/ml/wrapper.py\n",
            "spark-3.0.2-bin-hadoop2.7/python/pyspark/ml/util.py\n",
            "spark-3.0.2-bin-hadoop2.7/python/pyspark/ml/tuning.py\n",
            "spark-3.0.2-bin-hadoop2.7/python/pyspark/ml/tree.py\n",
            "spark-3.0.2-bin-hadoop2.7/python/pyspark/ml/stat.py\n",
            "spark-3.0.2-bin-hadoop2.7/python/pyspark/ml/regression.py\n",
            "spark-3.0.2-bin-hadoop2.7/python/pyspark/ml/recommendation.py\n",
            "spark-3.0.2-bin-hadoop2.7/python/pyspark/ml/pipeline.py\n",
            "spark-3.0.2-bin-hadoop2.7/python/pyspark/ml/image.py\n",
            "spark-3.0.2-bin-hadoop2.7/python/pyspark/ml/functions.py\n",
            "spark-3.0.2-bin-hadoop2.7/python/pyspark/ml/fpm.py\n",
            "spark-3.0.2-bin-hadoop2.7/python/pyspark/ml/feature.py\n",
            "spark-3.0.2-bin-hadoop2.7/python/pyspark/ml/evaluation.py\n",
            "spark-3.0.2-bin-hadoop2.7/python/pyspark/ml/common.py\n",
            "spark-3.0.2-bin-hadoop2.7/python/pyspark/ml/clustering.py\n",
            "spark-3.0.2-bin-hadoop2.7/python/pyspark/ml/classification.py\n",
            "spark-3.0.2-bin-hadoop2.7/python/pyspark/ml/base.py\n",
            "spark-3.0.2-bin-hadoop2.7/python/pyspark/ml/__init__.py\n",
            "spark-3.0.2-bin-hadoop2.7/python/pyspark/ml/tests/\n",
            "spark-3.0.2-bin-hadoop2.7/python/pyspark/ml/tests/test_wrapper.py\n",
            "spark-3.0.2-bin-hadoop2.7/python/pyspark/ml/tests/test_tuning.py\n",
            "spark-3.0.2-bin-hadoop2.7/python/pyspark/ml/tests/test_training_summary.py\n",
            "spark-3.0.2-bin-hadoop2.7/python/pyspark/ml/tests/test_stat.py\n",
            "spark-3.0.2-bin-hadoop2.7/python/pyspark/ml/tests/test_pipeline.py\n",
            "spark-3.0.2-bin-hadoop2.7/python/pyspark/ml/tests/test_persistence.py\n",
            "spark-3.0.2-bin-hadoop2.7/python/pyspark/ml/tests/test_param.py\n",
            "spark-3.0.2-bin-hadoop2.7/python/pyspark/ml/tests/test_linalg.py\n",
            "spark-3.0.2-bin-hadoop2.7/python/pyspark/ml/tests/test_image.py\n",
            "spark-3.0.2-bin-hadoop2.7/python/pyspark/ml/tests/test_feature.py\n",
            "spark-3.0.2-bin-hadoop2.7/python/pyspark/ml/tests/test_evaluation.py\n",
            "spark-3.0.2-bin-hadoop2.7/python/pyspark/ml/tests/test_base.py\n",
            "spark-3.0.2-bin-hadoop2.7/python/pyspark/ml/tests/test_algorithms.py\n",
            "spark-3.0.2-bin-hadoop2.7/python/pyspark/ml/tests/test_util.py\n",
            "spark-3.0.2-bin-hadoop2.7/python/pyspark/ml/tests/__init__.py\n",
            "spark-3.0.2-bin-hadoop2.7/python/pyspark/ml/param/\n",
            "spark-3.0.2-bin-hadoop2.7/python/pyspark/ml/param/shared.py\n",
            "spark-3.0.2-bin-hadoop2.7/python/pyspark/ml/param/_shared_params_code_gen.py\n",
            "spark-3.0.2-bin-hadoop2.7/python/pyspark/ml/param/__init__.py\n",
            "spark-3.0.2-bin-hadoop2.7/python/pyspark/ml/linalg/\n",
            "spark-3.0.2-bin-hadoop2.7/python/pyspark/ml/linalg/__init__.py\n",
            "spark-3.0.2-bin-hadoop2.7/python/pyspark/join.py\n",
            "spark-3.0.2-bin-hadoop2.7/python/pyspark/files.py\n",
            "spark-3.0.2-bin-hadoop2.7/python/pyspark/daemon.py\n",
            "spark-3.0.2-bin-hadoop2.7/python/pyspark/_globals.py\n",
            "spark-3.0.2-bin-hadoop2.7/python/pyspark/worker.py\n",
            "spark-3.0.2-bin-hadoop2.7/python/pyspark/version.py\n",
            "spark-3.0.2-bin-hadoop2.7/python/pyspark/util.py\n",
            "spark-3.0.2-bin-hadoop2.7/python/pyspark/taskcontext.py\n",
            "spark-3.0.2-bin-hadoop2.7/python/pyspark/storagelevel.py\n",
            "spark-3.0.2-bin-hadoop2.7/python/pyspark/statcounter.py\n",
            "spark-3.0.2-bin-hadoop2.7/python/pyspark/shuffle.py\n",
            "spark-3.0.2-bin-hadoop2.7/python/pyspark/shell.py\n",
            "spark-3.0.2-bin-hadoop2.7/python/pyspark/serializers.py\n",
            "spark-3.0.2-bin-hadoop2.7/python/pyspark/resultiterable.py\n",
            "spark-3.0.2-bin-hadoop2.7/python/pyspark/resource.py\n",
            "spark-3.0.2-bin-hadoop2.7/python/pyspark/rdd.py\n",
            "spark-3.0.2-bin-hadoop2.7/python/pyspark/profiler.py\n",
            "spark-3.0.2-bin-hadoop2.7/python/pyspark/java_gateway.py\n",
            "spark-3.0.2-bin-hadoop2.7/python/pyspark/heapq3.py\n",
            "spark-3.0.2-bin-hadoop2.7/python/pyspark/find_spark_home.py\n",
            "spark-3.0.2-bin-hadoop2.7/python/pyspark/context.py\n",
            "spark-3.0.2-bin-hadoop2.7/python/pyspark/conf.py\n",
            "spark-3.0.2-bin-hadoop2.7/python/pyspark/cloudpickle.py\n",
            "spark-3.0.2-bin-hadoop2.7/python/pyspark/broadcast.py\n",
            "spark-3.0.2-bin-hadoop2.7/python/pyspark/accumulators.py\n",
            "spark-3.0.2-bin-hadoop2.7/python/pyspark/__init__.py\n",
            "spark-3.0.2-bin-hadoop2.7/python/pyspark/traceback_utils.py\n",
            "spark-3.0.2-bin-hadoop2.7/python/lib/\n",
            "spark-3.0.2-bin-hadoop2.7/python/lib/py4j-0.10.9-src.zip\n",
            "spark-3.0.2-bin-hadoop2.7/python/lib/PY4J_LICENSE.txt\n",
            "spark-3.0.2-bin-hadoop2.7/python/lib/pyspark.zip\n",
            "spark-3.0.2-bin-hadoop2.7/python/docs/\n",
            "spark-3.0.2-bin-hadoop2.7/python/docs/pyspark.streaming.rst\n",
            "spark-3.0.2-bin-hadoop2.7/python/docs/pyspark.sql.rst\n",
            "spark-3.0.2-bin-hadoop2.7/python/docs/pyspark.rst\n",
            "spark-3.0.2-bin-hadoop2.7/python/docs/pyspark.resource.rst\n",
            "spark-3.0.2-bin-hadoop2.7/python/docs/pyspark.mllib.rst\n",
            "spark-3.0.2-bin-hadoop2.7/python/docs/pyspark.ml.rst\n",
            "spark-3.0.2-bin-hadoop2.7/python/docs/make2.bat\n",
            "spark-3.0.2-bin-hadoop2.7/python/docs/index.rst\n",
            "spark-3.0.2-bin-hadoop2.7/python/docs/conf.py\n",
            "spark-3.0.2-bin-hadoop2.7/python/docs/_templates/\n",
            "spark-3.0.2-bin-hadoop2.7/python/docs/_templates/layout.html\n",
            "spark-3.0.2-bin-hadoop2.7/python/docs/_static/\n",
            "spark-3.0.2-bin-hadoop2.7/python/docs/_static/pyspark.js\n",
            "spark-3.0.2-bin-hadoop2.7/python/docs/_static/pyspark.css\n",
            "spark-3.0.2-bin-hadoop2.7/python/docs/_static/copybutton.js\n",
            "spark-3.0.2-bin-hadoop2.7/python/docs/Makefile\n",
            "spark-3.0.2-bin-hadoop2.7/python/docs/make.bat\n",
            "spark-3.0.2-bin-hadoop2.7/python/README.md\n",
            "spark-3.0.2-bin-hadoop2.7/python/.gitignore\n",
            "spark-3.0.2-bin-hadoop2.7/python/.coveragerc\n",
            "spark-3.0.2-bin-hadoop2.7/python/setup.py\n",
            "spark-3.0.2-bin-hadoop2.7/python/run-tests.py\n",
            "spark-3.0.2-bin-hadoop2.7/python/pylintrc\n",
            "spark-3.0.2-bin-hadoop2.7/python/MANIFEST.in\n",
            "spark-3.0.2-bin-hadoop2.7/python/test_support/\n",
            "spark-3.0.2-bin-hadoop2.7/python/test_support/userlib-0.1.zip\n",
            "spark-3.0.2-bin-hadoop2.7/python/test_support/sql/\n",
            "spark-3.0.2-bin-hadoop2.7/python/test_support/sql/text-test.txt\n",
            "spark-3.0.2-bin-hadoop2.7/python/test_support/sql/streaming/\n",
            "spark-3.0.2-bin-hadoop2.7/python/test_support/sql/streaming/text-test.txt\n",
            "spark-3.0.2-bin-hadoop2.7/python/test_support/sql/people_array_utf16le.json\n",
            "spark-3.0.2-bin-hadoop2.7/python/test_support/sql/people_array.json\n",
            "spark-3.0.2-bin-hadoop2.7/python/test_support/sql/people1.json\n",
            "spark-3.0.2-bin-hadoop2.7/python/test_support/sql/people.json\n",
            "spark-3.0.2-bin-hadoop2.7/python/test_support/sql/parquet_partitioned/\n",
            "spark-3.0.2-bin-hadoop2.7/python/test_support/sql/parquet_partitioned/year=2015/\n",
            "spark-3.0.2-bin-hadoop2.7/python/test_support/sql/parquet_partitioned/year=2015/month=9/\n",
            "spark-3.0.2-bin-hadoop2.7/python/test_support/sql/parquet_partitioned/year=2015/month=9/day=1/\n",
            "spark-3.0.2-bin-hadoop2.7/python/test_support/sql/parquet_partitioned/year=2015/month=9/day=1/part-r-00007.gz.parquet\n",
            "spark-3.0.2-bin-hadoop2.7/python/test_support/sql/parquet_partitioned/year=2015/month=9/day=1/.part-r-00007.gz.parquet.crc\n",
            "spark-3.0.2-bin-hadoop2.7/python/test_support/sql/parquet_partitioned/year=2015/month=10/\n",
            "spark-3.0.2-bin-hadoop2.7/python/test_support/sql/parquet_partitioned/year=2015/month=10/day=26/\n",
            "spark-3.0.2-bin-hadoop2.7/python/test_support/sql/parquet_partitioned/year=2015/month=10/day=26/part-r-00005.gz.parquet\n",
            "spark-3.0.2-bin-hadoop2.7/python/test_support/sql/parquet_partitioned/year=2015/month=10/day=26/.part-r-00005.gz.parquet.crc\n",
            "spark-3.0.2-bin-hadoop2.7/python/test_support/sql/parquet_partitioned/year=2015/month=10/day=25/\n",
            "spark-3.0.2-bin-hadoop2.7/python/test_support/sql/parquet_partitioned/year=2015/month=10/day=25/part-r-00004.gz.parquet\n",
            "spark-3.0.2-bin-hadoop2.7/python/test_support/sql/parquet_partitioned/year=2015/month=10/day=25/part-r-00002.gz.parquet\n",
            "spark-3.0.2-bin-hadoop2.7/python/test_support/sql/parquet_partitioned/year=2015/month=10/day=25/.part-r-00004.gz.parquet.crc\n",
            "spark-3.0.2-bin-hadoop2.7/python/test_support/sql/parquet_partitioned/year=2015/month=10/day=25/.part-r-00002.gz.parquet.crc\n",
            "spark-3.0.2-bin-hadoop2.7/python/test_support/sql/parquet_partitioned/year=2014/\n",
            "spark-3.0.2-bin-hadoop2.7/python/test_support/sql/parquet_partitioned/year=2014/month=9/\n",
            "spark-3.0.2-bin-hadoop2.7/python/test_support/sql/parquet_partitioned/year=2014/month=9/day=1/\n",
            "spark-3.0.2-bin-hadoop2.7/python/test_support/sql/parquet_partitioned/year=2014/month=9/day=1/part-r-00008.gz.parquet\n",
            "spark-3.0.2-bin-hadoop2.7/python/test_support/sql/parquet_partitioned/year=2014/month=9/day=1/.part-r-00008.gz.parquet.crc\n",
            "spark-3.0.2-bin-hadoop2.7/python/test_support/sql/parquet_partitioned/_metadata\n",
            "spark-3.0.2-bin-hadoop2.7/python/test_support/sql/parquet_partitioned/_common_metadata\n",
            "spark-3.0.2-bin-hadoop2.7/python/test_support/sql/parquet_partitioned/_SUCCESS\n",
            "spark-3.0.2-bin-hadoop2.7/python/test_support/sql/orc_partitioned/\n",
            "spark-3.0.2-bin-hadoop2.7/python/test_support/sql/orc_partitioned/b=1/\n",
            "spark-3.0.2-bin-hadoop2.7/python/test_support/sql/orc_partitioned/b=1/c=1/\n",
            "spark-3.0.2-bin-hadoop2.7/python/test_support/sql/orc_partitioned/b=1/c=1/part-r-00000-829af031-b970-49d6-ad39-30460a0be2c8.orc\n",
            "spark-3.0.2-bin-hadoop2.7/python/test_support/sql/orc_partitioned/b=1/c=1/.part-r-00000-829af031-b970-49d6-ad39-30460a0be2c8.orc.crc\n",
            "spark-3.0.2-bin-hadoop2.7/python/test_support/sql/orc_partitioned/b=0/\n",
            "spark-3.0.2-bin-hadoop2.7/python/test_support/sql/orc_partitioned/b=0/c=0/\n",
            "spark-3.0.2-bin-hadoop2.7/python/test_support/sql/orc_partitioned/b=0/c=0/part-r-00000-829af031-b970-49d6-ad39-30460a0be2c8.orc\n",
            "spark-3.0.2-bin-hadoop2.7/python/test_support/sql/orc_partitioned/b=0/c=0/.part-r-00000-829af031-b970-49d6-ad39-30460a0be2c8.orc.crc\n",
            "spark-3.0.2-bin-hadoop2.7/python/test_support/sql/orc_partitioned/_SUCCESS\n",
            "spark-3.0.2-bin-hadoop2.7/python/test_support/sql/ages_newlines.csv\n",
            "spark-3.0.2-bin-hadoop2.7/python/test_support/sql/ages.csv\n",
            "spark-3.0.2-bin-hadoop2.7/python/test_support/hello/\n",
            "spark-3.0.2-bin-hadoop2.7/python/test_support/hello/sub_hello/\n",
            "spark-3.0.2-bin-hadoop2.7/python/test_support/hello/sub_hello/sub_hello.txt\n",
            "spark-3.0.2-bin-hadoop2.7/python/test_support/hello/hello.txt\n",
            "spark-3.0.2-bin-hadoop2.7/python/test_support/SimpleHTTPServer.py\n",
            "spark-3.0.2-bin-hadoop2.7/python/test_support/userlibrary.py\n",
            "spark-3.0.2-bin-hadoop2.7/python/test_coverage/\n",
            "spark-3.0.2-bin-hadoop2.7/python/test_coverage/sitecustomize.py\n",
            "spark-3.0.2-bin-hadoop2.7/python/test_coverage/coverage_daemon.py\n",
            "spark-3.0.2-bin-hadoop2.7/python/test_coverage/conf/\n",
            "spark-3.0.2-bin-hadoop2.7/python/test_coverage/conf/spark-defaults.conf\n",
            "spark-3.0.2-bin-hadoop2.7/python/setup.cfg\n",
            "spark-3.0.2-bin-hadoop2.7/python/run-tests-with-coverage\n",
            "spark-3.0.2-bin-hadoop2.7/python/run-tests\n",
            "spark-3.0.2-bin-hadoop2.7/python/dist/\n",
            "spark-3.0.2-bin-hadoop2.7/bin/\n",
            "spark-3.0.2-bin-hadoop2.7/bin/sparkR2.cmd\n",
            "spark-3.0.2-bin-hadoop2.7/bin/sparkR.cmd\n",
            "spark-3.0.2-bin-hadoop2.7/bin/sparkR\n",
            "spark-3.0.2-bin-hadoop2.7/bin/spark-submit2.cmd\n",
            "spark-3.0.2-bin-hadoop2.7/bin/spark-submit.cmd\n",
            "spark-3.0.2-bin-hadoop2.7/bin/spark-submit\n",
            "spark-3.0.2-bin-hadoop2.7/bin/spark-sql2.cmd\n",
            "spark-3.0.2-bin-hadoop2.7/bin/spark-sql.cmd\n",
            "spark-3.0.2-bin-hadoop2.7/bin/spark-sql\n",
            "spark-3.0.2-bin-hadoop2.7/bin/spark-shell2.cmd\n",
            "spark-3.0.2-bin-hadoop2.7/bin/spark-shell.cmd\n",
            "spark-3.0.2-bin-hadoop2.7/bin/spark-shell\n",
            "spark-3.0.2-bin-hadoop2.7/bin/spark-class.cmd\n",
            "spark-3.0.2-bin-hadoop2.7/bin/spark-class\n",
            "spark-3.0.2-bin-hadoop2.7/bin/run-example.cmd\n",
            "spark-3.0.2-bin-hadoop2.7/bin/run-example\n",
            "spark-3.0.2-bin-hadoop2.7/bin/pyspark.cmd\n",
            "spark-3.0.2-bin-hadoop2.7/bin/beeline.cmd\n",
            "spark-3.0.2-bin-hadoop2.7/bin/beeline\n",
            "spark-3.0.2-bin-hadoop2.7/bin/spark-class2.cmd\n",
            "spark-3.0.2-bin-hadoop2.7/bin/pyspark2.cmd\n",
            "spark-3.0.2-bin-hadoop2.7/bin/pyspark\n",
            "spark-3.0.2-bin-hadoop2.7/bin/load-spark-env.sh\n",
            "spark-3.0.2-bin-hadoop2.7/bin/load-spark-env.cmd\n",
            "spark-3.0.2-bin-hadoop2.7/bin/find-spark-home.cmd\n",
            "spark-3.0.2-bin-hadoop2.7/bin/find-spark-home\n",
            "spark-3.0.2-bin-hadoop2.7/bin/docker-image-tool.sh\n",
            "spark-3.0.2-bin-hadoop2.7/README.md\n",
            "spark-3.0.2-bin-hadoop2.7/conf/\n",
            "spark-3.0.2-bin-hadoop2.7/conf/spark-env.sh.template\n",
            "spark-3.0.2-bin-hadoop2.7/conf/spark-defaults.conf.template\n",
            "spark-3.0.2-bin-hadoop2.7/conf/slaves.template\n",
            "spark-3.0.2-bin-hadoop2.7/conf/metrics.properties.template\n",
            "spark-3.0.2-bin-hadoop2.7/conf/log4j.properties.template\n",
            "spark-3.0.2-bin-hadoop2.7/conf/fairscheduler.xml.template\n",
            "spark-3.0.2-bin-hadoop2.7/data/\n",
            "spark-3.0.2-bin-hadoop2.7/data/streaming/\n",
            "spark-3.0.2-bin-hadoop2.7/data/streaming/AFINN-111.txt\n",
            "spark-3.0.2-bin-hadoop2.7/data/mllib/\n",
            "spark-3.0.2-bin-hadoop2.7/data/mllib/streaming_kmeans_data_test.txt\n",
            "spark-3.0.2-bin-hadoop2.7/data/mllib/sample_svm_data.txt\n",
            "spark-3.0.2-bin-hadoop2.7/data/mllib/sample_multiclass_classification_data.txt\n",
            "spark-3.0.2-bin-hadoop2.7/data/mllib/sample_movielens_data.txt\n",
            "spark-3.0.2-bin-hadoop2.7/data/mllib/sample_linear_regression_data.txt\n",
            "spark-3.0.2-bin-hadoop2.7/data/mllib/sample_libsvm_data.txt\n",
            "spark-3.0.2-bin-hadoop2.7/data/mllib/sample_lda_libsvm_data.txt\n",
            "spark-3.0.2-bin-hadoop2.7/data/mllib/sample_lda_data.txt\n",
            "spark-3.0.2-bin-hadoop2.7/data/mllib/sample_kmeans_data.txt\n",
            "spark-3.0.2-bin-hadoop2.7/data/mllib/sample_isotonic_regression_libsvm_data.txt\n",
            "spark-3.0.2-bin-hadoop2.7/data/mllib/sample_fpgrowth.txt\n",
            "spark-3.0.2-bin-hadoop2.7/data/mllib/sample_binary_classification_data.txt\n",
            "spark-3.0.2-bin-hadoop2.7/data/mllib/ridge-data/\n",
            "spark-3.0.2-bin-hadoop2.7/data/mllib/ridge-data/lpsa.data\n",
            "spark-3.0.2-bin-hadoop2.7/data/mllib/pic_data.txt\n",
            "spark-3.0.2-bin-hadoop2.7/data/mllib/pagerank_data.txt\n",
            "spark-3.0.2-bin-hadoop2.7/data/mllib/kmeans_data.txt\n",
            "spark-3.0.2-bin-hadoop2.7/data/mllib/iris_libsvm.txt\n",
            "spark-3.0.2-bin-hadoop2.7/data/mllib/images/\n",
            "spark-3.0.2-bin-hadoop2.7/data/mllib/images/partitioned/\n",
            "spark-3.0.2-bin-hadoop2.7/data/mllib/images/partitioned/cls=multichannel/\n",
            "spark-3.0.2-bin-hadoop2.7/data/mllib/images/partitioned/cls=multichannel/date=2018-02/\n",
            "spark-3.0.2-bin-hadoop2.7/data/mllib/images/partitioned/cls=multichannel/date=2018-02/grayscale.jpg\n",
            "spark-3.0.2-bin-hadoop2.7/data/mllib/images/partitioned/cls=multichannel/date=2018-02/chr30.4.184.jpg\n",
            "spark-3.0.2-bin-hadoop2.7/data/mllib/images/partitioned/cls=multichannel/date=2018-01/\n",
            "spark-3.0.2-bin-hadoop2.7/data/mllib/images/partitioned/cls=multichannel/date=2018-01/BGRA_alpha_60.png\n",
            "spark-3.0.2-bin-hadoop2.7/data/mllib/images/partitioned/cls=multichannel/date=2018-01/BGRA.png\n",
            "spark-3.0.2-bin-hadoop2.7/data/mllib/images/partitioned/cls=kittens/\n",
            "spark-3.0.2-bin-hadoop2.7/data/mllib/images/partitioned/cls=kittens/date=2018-02/\n",
            "spark-3.0.2-bin-hadoop2.7/data/mllib/images/partitioned/cls=kittens/date=2018-02/DP802813.jpg\n",
            "spark-3.0.2-bin-hadoop2.7/data/mllib/images/partitioned/cls=kittens/date=2018-02/DP153539.jpg\n",
            "spark-3.0.2-bin-hadoop2.7/data/mllib/images/partitioned/cls=kittens/date=2018-02/54893.jpg\n",
            "spark-3.0.2-bin-hadoop2.7/data/mllib/images/partitioned/cls=kittens/date=2018-01/\n",
            "spark-3.0.2-bin-hadoop2.7/data/mllib/images/partitioned/cls=kittens/date=2018-01/not-image.txt\n",
            "spark-3.0.2-bin-hadoop2.7/data/mllib/images/partitioned/cls=kittens/date=2018-01/29.5.a_b_EGDP022204.jpg\n",
            "spark-3.0.2-bin-hadoop2.7/data/mllib/images/origin/\n",
            "spark-3.0.2-bin-hadoop2.7/data/mllib/images/origin/multi-channel/\n",
            "spark-3.0.2-bin-hadoop2.7/data/mllib/images/origin/multi-channel/grayscale.jpg\n",
            "spark-3.0.2-bin-hadoop2.7/data/mllib/images/origin/multi-channel/chr30.4.184.jpg\n",
            "spark-3.0.2-bin-hadoop2.7/data/mllib/images/origin/multi-channel/BGRA_alpha_60.png\n",
            "spark-3.0.2-bin-hadoop2.7/data/mllib/images/origin/multi-channel/BGRA.png\n",
            "spark-3.0.2-bin-hadoop2.7/data/mllib/images/origin/license.txt\n",
            "spark-3.0.2-bin-hadoop2.7/data/mllib/images/origin/kittens/\n",
            "spark-3.0.2-bin-hadoop2.7/data/mllib/images/origin/kittens/not-image.txt\n",
            "spark-3.0.2-bin-hadoop2.7/data/mllib/images/origin/kittens/DP802813.jpg\n",
            "spark-3.0.2-bin-hadoop2.7/data/mllib/images/origin/kittens/DP153539.jpg\n",
            "spark-3.0.2-bin-hadoop2.7/data/mllib/images/origin/kittens/54893.jpg\n",
            "spark-3.0.2-bin-hadoop2.7/data/mllib/images/origin/kittens/29.5.a_b_EGDP022204.jpg\n",
            "spark-3.0.2-bin-hadoop2.7/data/mllib/images/license.txt\n",
            "spark-3.0.2-bin-hadoop2.7/data/mllib/gmm_data.txt\n",
            "spark-3.0.2-bin-hadoop2.7/data/mllib/als/\n",
            "spark-3.0.2-bin-hadoop2.7/data/mllib/als/test.data\n",
            "spark-3.0.2-bin-hadoop2.7/data/mllib/als/sample_movielens_ratings.txt\n",
            "spark-3.0.2-bin-hadoop2.7/data/graphx/\n",
            "spark-3.0.2-bin-hadoop2.7/data/graphx/users.txt\n",
            "spark-3.0.2-bin-hadoop2.7/data/graphx/followers.txt\n",
            "spark-3.0.2-bin-hadoop2.7/NOTICE\n",
            "spark-3.0.2-bin-hadoop2.7/licenses/\n",
            "spark-3.0.2-bin-hadoop2.7/licenses/LICENSE-heapq.txt\n",
            "spark-3.0.2-bin-hadoop2.7/licenses/LICENSE-datatables.txt\n",
            "spark-3.0.2-bin-hadoop2.7/licenses/LICENSE-bootstrap.txt\n",
            "spark-3.0.2-bin-hadoop2.7/licenses/LICENSE-zstd.txt\n",
            "spark-3.0.2-bin-hadoop2.7/licenses/LICENSE-zstd-jni.txt\n",
            "spark-3.0.2-bin-hadoop2.7/licenses/LICENSE-xmlenc.txt\n",
            "spark-3.0.2-bin-hadoop2.7/licenses/LICENSE-vis-timeline.txt\n",
            "spark-3.0.2-bin-hadoop2.7/licenses/LICENSE-spire.txt\n",
            "spark-3.0.2-bin-hadoop2.7/licenses/LICENSE-sorttable.js.txt\n",
            "spark-3.0.2-bin-hadoop2.7/licenses/LICENSE-slf4j.txt\n",
            "spark-3.0.2-bin-hadoop2.7/licenses/LICENSE-scopt.txt\n",
            "spark-3.0.2-bin-hadoop2.7/licenses/LICENSE-scala.txt\n",
            "spark-3.0.2-bin-hadoop2.7/licenses/LICENSE-sbt-launch-lib.txt\n",
            "spark-3.0.2-bin-hadoop2.7/licenses/LICENSE-respond.txt\n",
            "spark-3.0.2-bin-hadoop2.7/licenses/LICENSE-reflectasm.txt\n",
            "spark-3.0.2-bin-hadoop2.7/licenses/LICENSE-re2j.txt\n",
            "spark-3.0.2-bin-hadoop2.7/licenses/LICENSE-pyrolite.txt\n",
            "spark-3.0.2-bin-hadoop2.7/licenses/LICENSE-py4j.txt\n",
            "spark-3.0.2-bin-hadoop2.7/licenses/LICENSE-protobuf.txt\n",
            "spark-3.0.2-bin-hadoop2.7/licenses/LICENSE-pmml-model.txt\n",
            "spark-3.0.2-bin-hadoop2.7/licenses/LICENSE-paranamer.txt\n",
            "spark-3.0.2-bin-hadoop2.7/licenses/LICENSE-netlib.txt\n",
            "spark-3.0.2-bin-hadoop2.7/licenses/LICENSE-mustache.txt\n",
            "spark-3.0.2-bin-hadoop2.7/licenses/LICENSE-modernizr.txt\n",
            "spark-3.0.2-bin-hadoop2.7/licenses/LICENSE-minlog.txt\n",
            "spark-3.0.2-bin-hadoop2.7/licenses/LICENSE-matchMedia-polyfill.txt\n",
            "spark-3.0.2-bin-hadoop2.7/licenses/LICENSE-machinist.txt\n",
            "spark-3.0.2-bin-hadoop2.7/licenses/LICENSE-leveldbjni.txt\n",
            "spark-3.0.2-bin-hadoop2.7/licenses/LICENSE-kryo.txt\n",
            "spark-3.0.2-bin-hadoop2.7/licenses/LICENSE-jsp-api.txt\n",
            "spark-3.0.2-bin-hadoop2.7/licenses/LICENSE-json-formatter.txt\n",
            "spark-3.0.2-bin-hadoop2.7/licenses/LICENSE-jquery.txt\n",
            "spark-3.0.2-bin-hadoop2.7/licenses/LICENSE-join.txt\n",
            "spark-3.0.2-bin-hadoop2.7/licenses/LICENSE-jodd.txt\n",
            "spark-3.0.2-bin-hadoop2.7/licenses/LICENSE-jline.txt\n",
            "spark-3.0.2-bin-hadoop2.7/licenses/LICENSE-jaxb-runtime.txt\n",
            "spark-3.0.2-bin-hadoop2.7/licenses/LICENSE-javolution.txt\n",
            "spark-3.0.2-bin-hadoop2.7/licenses/LICENSE-javax-transaction-transaction-api.txt\n",
            "spark-3.0.2-bin-hadoop2.7/licenses/LICENSE-javassist.html\n",
            "spark-3.0.2-bin-hadoop2.7/licenses/LICENSE-janino.txt\n",
            "spark-3.0.2-bin-hadoop2.7/licenses/LICENSE-jakarta.xml.bind-api.txt\n",
            "spark-3.0.2-bin-hadoop2.7/licenses/LICENSE-jakarta.activation-api.txt\n",
            "spark-3.0.2-bin-hadoop2.7/licenses/LICENSE-jakarta-ws-rs-api\n",
            "spark-3.0.2-bin-hadoop2.7/licenses/LICENSE-jakarta-annotation-api\n",
            "spark-3.0.2-bin-hadoop2.7/licenses/LICENSE-istack-commons-runtime.txt\n",
            "spark-3.0.2-bin-hadoop2.7/licenses/LICENSE-graphlib-dot.txt\n",
            "spark-3.0.2-bin-hadoop2.7/licenses/LICENSE-f2j.txt\n",
            "spark-3.0.2-bin-hadoop2.7/licenses/LICENSE-dnsjava.txt\n",
            "spark-3.0.2-bin-hadoop2.7/licenses/LICENSE-dagre-d3.txt\n",
            "spark-3.0.2-bin-hadoop2.7/licenses/LICENSE-d3.min.js.txt\n",
            "spark-3.0.2-bin-hadoop2.7/licenses/LICENSE-cloudpickle.txt\n",
            "spark-3.0.2-bin-hadoop2.7/licenses/LICENSE-automaton.txt\n",
            "spark-3.0.2-bin-hadoop2.7/licenses/LICENSE-arpack.txt\n",
            "spark-3.0.2-bin-hadoop2.7/licenses/LICENSE-antlr.txt\n",
            "spark-3.0.2-bin-hadoop2.7/licenses/LICENSE-JTransforms.txt\n",
            "spark-3.0.2-bin-hadoop2.7/licenses/LICENSE-JLargeArrays.txt\n",
            "spark-3.0.2-bin-hadoop2.7/licenses/LICENSE-CC0.txt\n",
            "spark-3.0.2-bin-hadoop2.7/licenses/LICENSE-AnchorJS.txt\n",
            "spark-3.0.2-bin-hadoop2.7/LICENSE\n",
            "spark-3.0.2-bin-hadoop2.7/examples/\n",
            "spark-3.0.2-bin-hadoop2.7/examples/src/\n",
            "spark-3.0.2-bin-hadoop2.7/examples/src/main/\n",
            "spark-3.0.2-bin-hadoop2.7/examples/src/main/python/\n",
            "spark-3.0.2-bin-hadoop2.7/examples/src/main/python/mllib/\n",
            "spark-3.0.2-bin-hadoop2.7/examples/src/main/python/mllib/gradient_boosting_regression_example.py\n",
            "spark-3.0.2-bin-hadoop2.7/examples/src/main/python/mllib/gradient_boosting_classification_example.py\n",
            "spark-3.0.2-bin-hadoop2.7/examples/src/main/python/mllib/gaussian_mixture_model.py\n",
            "spark-3.0.2-bin-hadoop2.7/examples/src/main/python/mllib/gaussian_mixture_example.py\n",
            "spark-3.0.2-bin-hadoop2.7/examples/src/main/python/mllib/elementwise_product_example.py\n",
            "spark-3.0.2-bin-hadoop2.7/examples/src/main/python/mllib/decision_tree_regression_example.py\n",
            "spark-3.0.2-bin-hadoop2.7/examples/src/main/python/mllib/decision_tree_classification_example.py\n",
            "spark-3.0.2-bin-hadoop2.7/examples/src/main/python/mllib/correlations_example.py\n",
            "spark-3.0.2-bin-hadoop2.7/examples/src/main/python/mllib/correlations.py\n",
            "spark-3.0.2-bin-hadoop2.7/examples/src/main/python/mllib/bisecting_k_means_example.py\n",
            "spark-3.0.2-bin-hadoop2.7/examples/src/main/python/mllib/binary_classification_metrics_example.py\n",
            "spark-3.0.2-bin-hadoop2.7/examples/src/main/python/mllib/svm_with_sgd_example.py\n",
            "spark-3.0.2-bin-hadoop2.7/examples/src/main/python/mllib/svd_example.py\n",
            "spark-3.0.2-bin-hadoop2.7/examples/src/main/python/mllib/regression_metrics_example.py\n",
            "spark-3.0.2-bin-hadoop2.7/examples/src/main/python/mllib/ranking_metrics_example.py\n",
            "spark-3.0.2-bin-hadoop2.7/examples/src/main/python/mllib/pca_rowmatrix_example.py\n",
            "spark-3.0.2-bin-hadoop2.7/examples/src/main/python/mllib/multi_label_metrics_example.py\n",
            "spark-3.0.2-bin-hadoop2.7/examples/src/main/python/mllib/multi_class_metrics_example.py\n",
            "spark-3.0.2-bin-hadoop2.7/examples/src/main/python/mllib/fpgrowth_example.py\n",
            "spark-3.0.2-bin-hadoop2.7/examples/src/main/python/mllib/word2vec_example.py\n",
            "spark-3.0.2-bin-hadoop2.7/examples/src/main/python/mllib/word2vec.py\n",
            "spark-3.0.2-bin-hadoop2.7/examples/src/main/python/mllib/tf_idf_example.py\n",
            "spark-3.0.2-bin-hadoop2.7/examples/src/main/python/mllib/summary_statistics_example.py\n",
            "spark-3.0.2-bin-hadoop2.7/examples/src/main/python/mllib/streaming_linear_regression_example.py\n",
            "spark-3.0.2-bin-hadoop2.7/examples/src/main/python/mllib/streaming_k_means_example.py\n",
            "spark-3.0.2-bin-hadoop2.7/examples/src/main/python/mllib/stratified_sampling_example.py\n",
            "spark-3.0.2-bin-hadoop2.7/examples/src/main/python/mllib/standard_scaler_example.py\n",
            "spark-3.0.2-bin-hadoop2.7/examples/src/main/python/mllib/sampled_rdds.py\n",
            "spark-3.0.2-bin-hadoop2.7/examples/src/main/python/mllib/recommendation_example.py\n",
            "spark-3.0.2-bin-hadoop2.7/examples/src/main/python/mllib/random_rdd_generation.py\n",
            "spark-3.0.2-bin-hadoop2.7/examples/src/main/python/mllib/random_forest_regression_example.py\n",
            "spark-3.0.2-bin-hadoop2.7/examples/src/main/python/mllib/random_forest_classification_example.py\n",
            "spark-3.0.2-bin-hadoop2.7/examples/src/main/python/mllib/power_iteration_clustering_example.py\n",
            "spark-3.0.2-bin-hadoop2.7/examples/src/main/python/mllib/normalizer_example.py\n",
            "spark-3.0.2-bin-hadoop2.7/examples/src/main/python/mllib/naive_bayes_example.py\n",
            "spark-3.0.2-bin-hadoop2.7/examples/src/main/python/mllib/logistic_regression_with_lbfgs_example.py\n",
            "spark-3.0.2-bin-hadoop2.7/examples/src/main/python/mllib/logistic_regression.py\n",
            "spark-3.0.2-bin-hadoop2.7/examples/src/main/python/mllib/linear_regression_with_sgd_example.py\n",
            "spark-3.0.2-bin-hadoop2.7/examples/src/main/python/mllib/latent_dirichlet_allocation_example.py\n",
            "spark-3.0.2-bin-hadoop2.7/examples/src/main/python/mllib/kmeans.py\n",
            "spark-3.0.2-bin-hadoop2.7/examples/src/main/python/mllib/kernel_density_estimation_example.py\n",
            "spark-3.0.2-bin-hadoop2.7/examples/src/main/python/mllib/k_means_example.py\n",
            "spark-3.0.2-bin-hadoop2.7/examples/src/main/python/mllib/isotonic_regression_example.py\n",
            "spark-3.0.2-bin-hadoop2.7/examples/src/main/python/mllib/hypothesis_testing_kolmogorov_smirnov_test_example.py\n",
            "spark-3.0.2-bin-hadoop2.7/examples/src/main/python/mllib/hypothesis_testing_example.py\n",
            "spark-3.0.2-bin-hadoop2.7/examples/src/main/python/ml/\n",
            "spark-3.0.2-bin-hadoop2.7/examples/src/main/python/ml/word2vec_example.py\n",
            "spark-3.0.2-bin-hadoop2.7/examples/src/main/python/ml/vector_slicer_example.py\n",
            "spark-3.0.2-bin-hadoop2.7/examples/src/main/python/ml/vector_size_hint_example.py\n",
            "spark-3.0.2-bin-hadoop2.7/examples/src/main/python/ml/vector_indexer_example.py\n",
            "spark-3.0.2-bin-hadoop2.7/examples/src/main/python/ml/vector_assembler_example.py\n",
            "spark-3.0.2-bin-hadoop2.7/examples/src/main/python/ml/tokenizer_example.py\n",
            "spark-3.0.2-bin-hadoop2.7/examples/src/main/python/ml/tf_idf_example.py\n",
            "spark-3.0.2-bin-hadoop2.7/examples/src/main/python/ml/summarizer_example.py\n",
            "spark-3.0.2-bin-hadoop2.7/examples/src/main/python/ml/string_indexer_example.py\n",
            "spark-3.0.2-bin-hadoop2.7/examples/src/main/python/ml/stopwords_remover_example.py\n",
            "spark-3.0.2-bin-hadoop2.7/examples/src/main/python/ml/standard_scaler_example.py\n",
            "spark-3.0.2-bin-hadoop2.7/examples/src/main/python/ml/sql_transformer.py\n",
            "spark-3.0.2-bin-hadoop2.7/examples/src/main/python/ml/robust_scaler_example.py\n",
            "spark-3.0.2-bin-hadoop2.7/examples/src/main/python/ml/rformula_example.py\n",
            "spark-3.0.2-bin-hadoop2.7/examples/src/main/python/ml/random_forest_regressor_example.py\n",
            "spark-3.0.2-bin-hadoop2.7/examples/src/main/python/ml/random_forest_classifier_example.py\n",
            "spark-3.0.2-bin-hadoop2.7/examples/src/main/python/ml/quantile_discretizer_example.py\n",
            "spark-3.0.2-bin-hadoop2.7/examples/src/main/python/ml/polynomial_expansion_example.py\n",
            "spark-3.0.2-bin-hadoop2.7/examples/src/main/python/ml/pipeline_example.py\n",
            "spark-3.0.2-bin-hadoop2.7/examples/src/main/python/ml/train_validation_split.py\n",
            "spark-3.0.2-bin-hadoop2.7/examples/src/main/python/ml/prefixspan_example.py\n",
            "spark-3.0.2-bin-hadoop2.7/examples/src/main/python/ml/power_iteration_clustering_example.py\n",
            "spark-3.0.2-bin-hadoop2.7/examples/src/main/python/ml/imputer_example.py\n",
            "spark-3.0.2-bin-hadoop2.7/examples/src/main/python/ml/fpgrowth_example.py\n",
            "spark-3.0.2-bin-hadoop2.7/examples/src/main/python/ml/pca_example.py\n",
            "spark-3.0.2-bin-hadoop2.7/examples/src/main/python/ml/onehot_encoder_example.py\n",
            "spark-3.0.2-bin-hadoop2.7/examples/src/main/python/ml/one_vs_rest_example.py\n",
            "spark-3.0.2-bin-hadoop2.7/examples/src/main/python/ml/normalizer_example.py\n",
            "spark-3.0.2-bin-hadoop2.7/examples/src/main/python/ml/naive_bayes_example.py\n",
            "spark-3.0.2-bin-hadoop2.7/examples/src/main/python/ml/n_gram_example.py\n",
            "spark-3.0.2-bin-hadoop2.7/examples/src/main/python/ml/multilayer_perceptron_classification.py\n",
            "spark-3.0.2-bin-hadoop2.7/examples/src/main/python/ml/multiclass_logistic_regression_with_elastic_net.py\n",
            "spark-3.0.2-bin-hadoop2.7/examples/src/main/python/ml/min_max_scaler_example.py\n",
            "spark-3.0.2-bin-hadoop2.7/examples/src/main/python/ml/min_hash_lsh_example.py\n",
            "spark-3.0.2-bin-hadoop2.7/examples/src/main/python/ml/max_abs_scaler_example.py\n",
            "spark-3.0.2-bin-hadoop2.7/examples/src/main/python/ml/logistic_regression_with_elastic_net.py\n",
            "spark-3.0.2-bin-hadoop2.7/examples/src/main/python/ml/logistic_regression_summary_example.py\n",
            "spark-3.0.2-bin-hadoop2.7/examples/src/main/python/ml/linearsvc.py\n",
            "spark-3.0.2-bin-hadoop2.7/examples/src/main/python/ml/linear_regression_with_elastic_net.py\n",
            "spark-3.0.2-bin-hadoop2.7/examples/src/main/python/ml/lda_example.py\n",
            "spark-3.0.2-bin-hadoop2.7/examples/src/main/python/ml/kmeans_example.py\n",
            "spark-3.0.2-bin-hadoop2.7/examples/src/main/python/ml/isotonic_regression_example.py\n",
            "spark-3.0.2-bin-hadoop2.7/examples/src/main/python/ml/interaction_example.py\n",
            "spark-3.0.2-bin-hadoop2.7/examples/src/main/python/ml/index_to_string_example.py\n",
            "spark-3.0.2-bin-hadoop2.7/examples/src/main/python/ml/gradient_boosted_tree_regressor_example.py\n",
            "spark-3.0.2-bin-hadoop2.7/examples/src/main/python/ml/gradient_boosted_tree_classifier_example.py\n",
            "spark-3.0.2-bin-hadoop2.7/examples/src/main/python/ml/generalized_linear_regression_example.py\n",
            "spark-3.0.2-bin-hadoop2.7/examples/src/main/python/ml/gaussian_mixture_example.py\n",
            "spark-3.0.2-bin-hadoop2.7/examples/src/main/python/ml/fm_regressor_example.py\n",
            "spark-3.0.2-bin-hadoop2.7/examples/src/main/python/ml/fm_classifier_example.py\n",
            "spark-3.0.2-bin-hadoop2.7/examples/src/main/python/ml/feature_hasher_example.py\n",
            "spark-3.0.2-bin-hadoop2.7/examples/src/main/python/ml/estimator_transformer_param_example.py\n",
            "spark-3.0.2-bin-hadoop2.7/examples/src/main/python/ml/elementwise_product_example.py\n",
            "spark-3.0.2-bin-hadoop2.7/examples/src/main/python/ml/decision_tree_regression_example.py\n",
            "spark-3.0.2-bin-hadoop2.7/examples/src/main/python/ml/decision_tree_classification_example.py\n",
            "spark-3.0.2-bin-hadoop2.7/examples/src/main/python/ml/dct_example.py\n",
            "spark-3.0.2-bin-hadoop2.7/examples/src/main/python/ml/dataframe_example.py\n",
            "spark-3.0.2-bin-hadoop2.7/examples/src/main/python/ml/cross_validator.py\n",
            "spark-3.0.2-bin-hadoop2.7/examples/src/main/python/ml/count_vectorizer_example.py\n",
            "spark-3.0.2-bin-hadoop2.7/examples/src/main/python/ml/correlation_example.py\n",
            "spark-3.0.2-bin-hadoop2.7/examples/src/main/python/ml/chisq_selector_example.py\n",
            "spark-3.0.2-bin-hadoop2.7/examples/src/main/python/ml/chi_square_test_example.py\n",
            "spark-3.0.2-bin-hadoop2.7/examples/src/main/python/ml/bucketizer_example.py\n",
            "spark-3.0.2-bin-hadoop2.7/examples/src/main/python/ml/bucketed_random_projection_lsh_example.py\n",
            "spark-3.0.2-bin-hadoop2.7/examples/src/main/python/ml/bisecting_k_means_example.py\n",
            "spark-3.0.2-bin-hadoop2.7/examples/src/main/python/ml/binarizer_example.py\n",
            "spark-3.0.2-bin-hadoop2.7/examples/src/main/python/ml/als_example.py\n",
            "spark-3.0.2-bin-hadoop2.7/examples/src/main/python/ml/aft_survival_regression.py\n",
            "spark-3.0.2-bin-hadoop2.7/examples/src/main/python/logistic_regression.py\n",
            "spark-3.0.2-bin-hadoop2.7/examples/src/main/python/kmeans.py\n",
            "spark-3.0.2-bin-hadoop2.7/examples/src/main/python/avro_inputformat.py\n",
            "spark-3.0.2-bin-hadoop2.7/examples/src/main/python/als.py\n",
            "spark-3.0.2-bin-hadoop2.7/examples/src/main/python/wordcount.py\n",
            "spark-3.0.2-bin-hadoop2.7/examples/src/main/python/transitive_closure.py\n",
            "spark-3.0.2-bin-hadoop2.7/examples/src/main/python/status_api_demo.py\n",
            "spark-3.0.2-bin-hadoop2.7/examples/src/main/python/sort.py\n",
            "spark-3.0.2-bin-hadoop2.7/examples/src/main/python/pi.py\n",
            "spark-3.0.2-bin-hadoop2.7/examples/src/main/python/parquet_inputformat.py\n",
            "spark-3.0.2-bin-hadoop2.7/examples/src/main/python/pagerank.py\n",
            "spark-3.0.2-bin-hadoop2.7/examples/src/main/python/streaming/\n",
            "spark-3.0.2-bin-hadoop2.7/examples/src/main/python/streaming/stateful_network_wordcount.py\n",
            "spark-3.0.2-bin-hadoop2.7/examples/src/main/python/streaming/sql_network_wordcount.py\n",
            "spark-3.0.2-bin-hadoop2.7/examples/src/main/python/streaming/recoverable_network_wordcount.py\n",
            "spark-3.0.2-bin-hadoop2.7/examples/src/main/python/streaming/network_wordjoinsentiments.py\n",
            "spark-3.0.2-bin-hadoop2.7/examples/src/main/python/streaming/network_wordcount.py\n",
            "spark-3.0.2-bin-hadoop2.7/examples/src/main/python/streaming/hdfs_wordcount.py\n",
            "spark-3.0.2-bin-hadoop2.7/examples/src/main/python/streaming/queue_stream.py\n",
            "spark-3.0.2-bin-hadoop2.7/examples/src/main/python/sql/\n",
            "spark-3.0.2-bin-hadoop2.7/examples/src/main/python/sql/hive.py\n",
            "spark-3.0.2-bin-hadoop2.7/examples/src/main/python/sql/datasource.py\n",
            "spark-3.0.2-bin-hadoop2.7/examples/src/main/python/sql/basic.py\n",
            "spark-3.0.2-bin-hadoop2.7/examples/src/main/python/sql/arrow.py\n",
            "spark-3.0.2-bin-hadoop2.7/examples/src/main/python/sql/streaming/\n",
            "spark-3.0.2-bin-hadoop2.7/examples/src/main/python/sql/streaming/structured_network_wordcount_windowed.py\n",
            "spark-3.0.2-bin-hadoop2.7/examples/src/main/python/sql/streaming/structured_network_wordcount.py\n",
            "spark-3.0.2-bin-hadoop2.7/examples/src/main/python/sql/streaming/structured_kafka_wordcount.py\n",
            "spark-3.0.2-bin-hadoop2.7/examples/src/main/java/\n",
            "spark-3.0.2-bin-hadoop2.7/examples/src/main/java/org/\n",
            "spark-3.0.2-bin-hadoop2.7/examples/src/main/java/org/apache/\n",
            "spark-3.0.2-bin-hadoop2.7/examples/src/main/java/org/apache/spark/\n",
            "spark-3.0.2-bin-hadoop2.7/examples/src/main/java/org/apache/spark/examples/\n",
            "spark-3.0.2-bin-hadoop2.7/examples/src/main/java/org/apache/spark/examples/streaming/\n",
            "spark-3.0.2-bin-hadoop2.7/examples/src/main/java/org/apache/spark/examples/streaming/JavaStatefulNetworkWordCount.java\n",
            "spark-3.0.2-bin-hadoop2.7/examples/src/main/java/org/apache/spark/examples/streaming/JavaSqlNetworkWordCount.java\n",
            "spark-3.0.2-bin-hadoop2.7/examples/src/main/java/org/apache/spark/examples/streaming/JavaRecord.java\n",
            "spark-3.0.2-bin-hadoop2.7/examples/src/main/java/org/apache/spark/examples/streaming/JavaQueueStream.java\n",
            "spark-3.0.2-bin-hadoop2.7/examples/src/main/java/org/apache/spark/examples/streaming/JavaNetworkWordCount.java\n",
            "spark-3.0.2-bin-hadoop2.7/examples/src/main/java/org/apache/spark/examples/streaming/JavaDirectKerberizedKafkaWordCount.java\n",
            "spark-3.0.2-bin-hadoop2.7/examples/src/main/java/org/apache/spark/examples/streaming/JavaDirectKafkaWordCount.java\n",
            "spark-3.0.2-bin-hadoop2.7/examples/src/main/java/org/apache/spark/examples/streaming/JavaCustomReceiver.java\n",
            "spark-3.0.2-bin-hadoop2.7/examples/src/main/java/org/apache/spark/examples/streaming/JavaRecoverableNetworkWordCount.java\n",
            "spark-3.0.2-bin-hadoop2.7/examples/src/main/java/org/apache/spark/examples/sql/\n",
            "spark-3.0.2-bin-hadoop2.7/examples/src/main/java/org/apache/spark/examples/sql/streaming/\n",
            "spark-3.0.2-bin-hadoop2.7/examples/src/main/java/org/apache/spark/examples/sql/streaming/JavaStructuredSessionization.java\n",
            "spark-3.0.2-bin-hadoop2.7/examples/src/main/java/org/apache/spark/examples/sql/streaming/JavaStructuredNetworkWordCountWindowed.java\n",
            "spark-3.0.2-bin-hadoop2.7/examples/src/main/java/org/apache/spark/examples/sql/streaming/JavaStructuredNetworkWordCount.java\n",
            "spark-3.0.2-bin-hadoop2.7/examples/src/main/java/org/apache/spark/examples/sql/streaming/JavaStructuredKerberizedKafkaWordCount.java\n",
            "spark-3.0.2-bin-hadoop2.7/examples/src/main/java/org/apache/spark/examples/sql/streaming/JavaStructuredKafkaWordCount.java\n",
            "spark-3.0.2-bin-hadoop2.7/examples/src/main/java/org/apache/spark/examples/sql/hive/\n",
            "spark-3.0.2-bin-hadoop2.7/examples/src/main/java/org/apache/spark/examples/sql/hive/JavaSparkHiveExample.java\n",
            "spark-3.0.2-bin-hadoop2.7/examples/src/main/java/org/apache/spark/examples/sql/JavaUserDefinedUntypedAggregation.java\n",
            "spark-3.0.2-bin-hadoop2.7/examples/src/main/java/org/apache/spark/examples/sql/JavaUserDefinedTypedAggregation.java\n",
            "spark-3.0.2-bin-hadoop2.7/examples/src/main/java/org/apache/spark/examples/sql/JavaUserDefinedScalar.java\n",
            "spark-3.0.2-bin-hadoop2.7/examples/src/main/java/org/apache/spark/examples/sql/JavaSparkSQLExample.java\n",
            "spark-3.0.2-bin-hadoop2.7/examples/src/main/java/org/apache/spark/examples/sql/JavaSQLDataSourceExample.java\n",
            "spark-3.0.2-bin-hadoop2.7/examples/src/main/java/org/apache/spark/examples/mllib/\n",
            "spark-3.0.2-bin-hadoop2.7/examples/src/main/java/org/apache/spark/examples/mllib/JavaSummaryStatisticsExample.java\n",
            "spark-3.0.2-bin-hadoop2.7/examples/src/main/java/org/apache/spark/examples/mllib/JavaStreamingTestExample.java\n",
            "spark-3.0.2-bin-hadoop2.7/examples/src/main/java/org/apache/spark/examples/mllib/JavaStratifiedSamplingExample.java\n",
            "spark-3.0.2-bin-hadoop2.7/examples/src/main/java/org/apache/spark/examples/mllib/JavaSimpleFPGrowth.java\n",
            "spark-3.0.2-bin-hadoop2.7/examples/src/main/java/org/apache/spark/examples/mllib/JavaSVMWithSGDExample.java\n",
            "spark-3.0.2-bin-hadoop2.7/examples/src/main/java/org/apache/spark/examples/mllib/JavaSVDExample.java\n",
            "spark-3.0.2-bin-hadoop2.7/examples/src/main/java/org/apache/spark/examples/mllib/JavaRecommendationExample.java\n",
            "spark-3.0.2-bin-hadoop2.7/examples/src/main/java/org/apache/spark/examples/mllib/JavaRankingMetricsExample.java\n",
            "spark-3.0.2-bin-hadoop2.7/examples/src/main/java/org/apache/spark/examples/mllib/JavaRandomForestRegressionExample.java\n",
            "spark-3.0.2-bin-hadoop2.7/examples/src/main/java/org/apache/spark/examples/mllib/JavaRandomForestClassificationExample.java\n",
            "spark-3.0.2-bin-hadoop2.7/examples/src/main/java/org/apache/spark/examples/mllib/JavaPrefixSpanExample.java\n",
            "spark-3.0.2-bin-hadoop2.7/examples/src/main/java/org/apache/spark/examples/mllib/JavaPowerIterationClusteringExample.java\n",
            "spark-3.0.2-bin-hadoop2.7/examples/src/main/java/org/apache/spark/examples/mllib/JavaPCAExample.java\n",
            "spark-3.0.2-bin-hadoop2.7/examples/src/main/java/org/apache/spark/examples/mllib/JavaNaiveBayesExample.java\n",
            "spark-3.0.2-bin-hadoop2.7/examples/src/main/java/org/apache/spark/examples/mllib/JavaMulticlassClassificationMetricsExample.java\n",
            "spark-3.0.2-bin-hadoop2.7/examples/src/main/java/org/apache/spark/examples/mllib/JavaMultiLabelClassificationMetricsExample.java\n",
            "spark-3.0.2-bin-hadoop2.7/examples/src/main/java/org/apache/spark/examples/mllib/JavaLogisticRegressionWithLBFGSExample.java\n",
            "spark-3.0.2-bin-hadoop2.7/examples/src/main/java/org/apache/spark/examples/mllib/JavaLatentDirichletAllocationExample.java\n",
            "spark-3.0.2-bin-hadoop2.7/examples/src/main/java/org/apache/spark/examples/mllib/JavaLBFGSExample.java\n",
            "spark-3.0.2-bin-hadoop2.7/examples/src/main/java/org/apache/spark/examples/mllib/JavaKernelDensityEstimationExample.java\n",
            "spark-3.0.2-bin-hadoop2.7/examples/src/main/java/org/apache/spark/examples/mllib/JavaKMeansExample.java\n",
            "spark-3.0.2-bin-hadoop2.7/examples/src/main/java/org/apache/spark/examples/mllib/JavaIsotonicRegressionExample.java\n",
            "spark-3.0.2-bin-hadoop2.7/examples/src/main/java/org/apache/spark/examples/mllib/JavaHypothesisTestingKolmogorovSmirnovTestExample.java\n",
            "spark-3.0.2-bin-hadoop2.7/examples/src/main/java/org/apache/spark/examples/mllib/JavaHypothesisTestingExample.java\n",
            "spark-3.0.2-bin-hadoop2.7/examples/src/main/java/org/apache/spark/examples/mllib/JavaGradientBoostingRegressionExample.java\n",
            "spark-3.0.2-bin-hadoop2.7/examples/src/main/java/org/apache/spark/examples/mllib/JavaGradientBoostingClassificationExample.java\n",
            "spark-3.0.2-bin-hadoop2.7/examples/src/main/java/org/apache/spark/examples/mllib/JavaGaussianMixtureExample.java\n",
            "spark-3.0.2-bin-hadoop2.7/examples/src/main/java/org/apache/spark/examples/mllib/JavaElementwiseProductExample.java\n",
            "spark-3.0.2-bin-hadoop2.7/examples/src/main/java/org/apache/spark/examples/mllib/JavaDecisionTreeRegressionExample.java\n",
            "spark-3.0.2-bin-hadoop2.7/examples/src/main/java/org/apache/spark/examples/mllib/JavaDecisionTreeClassificationExample.java\n",
            "spark-3.0.2-bin-hadoop2.7/examples/src/main/java/org/apache/spark/examples/mllib/JavaCorrelationsExample.java\n",
            "spark-3.0.2-bin-hadoop2.7/examples/src/main/java/org/apache/spark/examples/mllib/JavaChiSqSelectorExample.java\n",
            "spark-3.0.2-bin-hadoop2.7/examples/src/main/java/org/apache/spark/examples/mllib/JavaBisectingKMeansExample.java\n",
            "spark-3.0.2-bin-hadoop2.7/examples/src/main/java/org/apache/spark/examples/mllib/JavaBinaryClassificationMetricsExample.java\n",
            "spark-3.0.2-bin-hadoop2.7/examples/src/main/java/org/apache/spark/examples/mllib/JavaAssociationRulesExample.java\n",
            "spark-3.0.2-bin-hadoop2.7/examples/src/main/java/org/apache/spark/examples/mllib/JavaALS.java\n",
            "spark-3.0.2-bin-hadoop2.7/examples/src/main/java/org/apache/spark/examples/ml/\n",
            "spark-3.0.2-bin-hadoop2.7/examples/src/main/java/org/apache/spark/examples/ml/JavaWord2VecExample.java\n",
            "spark-3.0.2-bin-hadoop2.7/examples/src/main/java/org/apache/spark/examples/ml/JavaVectorSlicerExample.java\n",
            "spark-3.0.2-bin-hadoop2.7/examples/src/main/java/org/apache/spark/examples/ml/JavaVectorSizeHintExample.java\n",
            "spark-3.0.2-bin-hadoop2.7/examples/src/main/java/org/apache/spark/examples/ml/JavaVectorIndexerExample.java\n",
            "spark-3.0.2-bin-hadoop2.7/examples/src/main/java/org/apache/spark/examples/ml/JavaVectorAssemblerExample.java\n",
            "spark-3.0.2-bin-hadoop2.7/examples/src/main/java/org/apache/spark/examples/ml/JavaTfIdfExample.java\n",
            "spark-3.0.2-bin-hadoop2.7/examples/src/main/java/org/apache/spark/examples/ml/JavaSummarizerExample.java\n",
            "spark-3.0.2-bin-hadoop2.7/examples/src/main/java/org/apache/spark/examples/ml/JavaStringIndexerExample.java\n",
            "spark-3.0.2-bin-hadoop2.7/examples/src/main/java/org/apache/spark/examples/ml/JavaStopWordsRemoverExample.java\n",
            "spark-3.0.2-bin-hadoop2.7/examples/src/main/java/org/apache/spark/examples/ml/JavaStandardScalerExample.java\n",
            "spark-3.0.2-bin-hadoop2.7/examples/src/main/java/org/apache/spark/examples/ml/JavaSQLTransformerExample.java\n",
            "spark-3.0.2-bin-hadoop2.7/examples/src/main/java/org/apache/spark/examples/ml/JavaRobustScalerExample.java\n",
            "spark-3.0.2-bin-hadoop2.7/examples/src/main/java/org/apache/spark/examples/ml/JavaRandomForestRegressorExample.java\n",
            "spark-3.0.2-bin-hadoop2.7/examples/src/main/java/org/apache/spark/examples/ml/JavaRandomForestClassifierExample.java\n",
            "spark-3.0.2-bin-hadoop2.7/examples/src/main/java/org/apache/spark/examples/ml/JavaRFormulaExample.java\n",
            "spark-3.0.2-bin-hadoop2.7/examples/src/main/java/org/apache/spark/examples/ml/JavaQuantileDiscretizerExample.java\n",
            "spark-3.0.2-bin-hadoop2.7/examples/src/main/java/org/apache/spark/examples/ml/JavaPrefixSpanExample.java\n",
            "spark-3.0.2-bin-hadoop2.7/examples/src/main/java/org/apache/spark/examples/ml/JavaPowerIterationClusteringExample.java\n",
            "spark-3.0.2-bin-hadoop2.7/examples/src/main/java/org/apache/spark/examples/ml/JavaPolynomialExpansionExample.java\n",
            "spark-3.0.2-bin-hadoop2.7/examples/src/main/java/org/apache/spark/examples/ml/JavaPipelineExample.java\n",
            "spark-3.0.2-bin-hadoop2.7/examples/src/main/java/org/apache/spark/examples/ml/JavaPCAExample.java\n",
            "spark-3.0.2-bin-hadoop2.7/examples/src/main/java/org/apache/spark/examples/ml/JavaOneVsRestExample.java\n",
            "spark-3.0.2-bin-hadoop2.7/examples/src/main/java/org/apache/spark/examples/ml/JavaOneHotEncoderExample.java\n",
            "spark-3.0.2-bin-hadoop2.7/examples/src/main/java/org/apache/spark/examples/ml/JavaNormalizerExample.java\n",
            "spark-3.0.2-bin-hadoop2.7/examples/src/main/java/org/apache/spark/examples/ml/JavaNaiveBayesExample.java\n",
            "spark-3.0.2-bin-hadoop2.7/examples/src/main/java/org/apache/spark/examples/ml/JavaNGramExample.java\n",
            "spark-3.0.2-bin-hadoop2.7/examples/src/main/java/org/apache/spark/examples/ml/JavaMultilayerPerceptronClassifierExample.java\n",
            "spark-3.0.2-bin-hadoop2.7/examples/src/main/java/org/apache/spark/examples/ml/JavaMulticlassLogisticRegressionWithElasticNetExample.java\n",
            "spark-3.0.2-bin-hadoop2.7/examples/src/main/java/org/apache/spark/examples/ml/JavaModelSelectionViaTrainValidationSplitExample.java\n",
            "spark-3.0.2-bin-hadoop2.7/examples/src/main/java/org/apache/spark/examples/ml/JavaModelSelectionViaCrossValidationExample.java\n",
            "spark-3.0.2-bin-hadoop2.7/examples/src/main/java/org/apache/spark/examples/ml/JavaMinMaxScalerExample.java\n",
            "spark-3.0.2-bin-hadoop2.7/examples/src/main/java/org/apache/spark/examples/ml/JavaMinHashLSHExample.java\n",
            "spark-3.0.2-bin-hadoop2.7/examples/src/main/java/org/apache/spark/examples/ml/JavaMaxAbsScalerExample.java\n",
            "spark-3.0.2-bin-hadoop2.7/examples/src/main/java/org/apache/spark/examples/ml/JavaLogisticRegressionWithElasticNetExample.java\n",
            "spark-3.0.2-bin-hadoop2.7/examples/src/main/java/org/apache/spark/examples/ml/JavaLogisticRegressionSummaryExample.java\n",
            "spark-3.0.2-bin-hadoop2.7/examples/src/main/java/org/apache/spark/examples/ml/JavaLinearSVCExample.java\n",
            "spark-3.0.2-bin-hadoop2.7/examples/src/main/java/org/apache/spark/examples/ml/JavaLinearRegressionWithElasticNetExample.java\n",
            "spark-3.0.2-bin-hadoop2.7/examples/src/main/java/org/apache/spark/examples/ml/JavaLabeledDocument.java\n",
            "spark-3.0.2-bin-hadoop2.7/examples/src/main/java/org/apache/spark/examples/ml/JavaLDAExample.java\n",
            "spark-3.0.2-bin-hadoop2.7/examples/src/main/java/org/apache/spark/examples/ml/JavaKMeansExample.java\n",
            "spark-3.0.2-bin-hadoop2.7/examples/src/main/java/org/apache/spark/examples/ml/JavaIsotonicRegressionExample.java\n",
            "spark-3.0.2-bin-hadoop2.7/examples/src/main/java/org/apache/spark/examples/ml/JavaInteractionExample.java\n",
            "spark-3.0.2-bin-hadoop2.7/examples/src/main/java/org/apache/spark/examples/ml/JavaIndexToStringExample.java\n",
            "spark-3.0.2-bin-hadoop2.7/examples/src/main/java/org/apache/spark/examples/ml/JavaImputerExample.java\n",
            "spark-3.0.2-bin-hadoop2.7/examples/src/main/java/org/apache/spark/examples/ml/JavaGradientBoostedTreeRegressorExample.java\n",
            "spark-3.0.2-bin-hadoop2.7/examples/src/main/java/org/apache/spark/examples/ml/JavaGradientBoostedTreeClassifierExample.java\n",
            "spark-3.0.2-bin-hadoop2.7/examples/src/main/java/org/apache/spark/examples/ml/JavaGeneralizedLinearRegressionExample.java\n",
            "spark-3.0.2-bin-hadoop2.7/examples/src/main/java/org/apache/spark/examples/ml/JavaGaussianMixtureExample.java\n",
            "spark-3.0.2-bin-hadoop2.7/examples/src/main/java/org/apache/spark/examples/ml/JavaFeatureHasherExample.java\n",
            "spark-3.0.2-bin-hadoop2.7/examples/src/main/java/org/apache/spark/examples/ml/JavaFPGrowthExample.java\n",
            "spark-3.0.2-bin-hadoop2.7/examples/src/main/java/org/apache/spark/examples/ml/JavaFMRegressorExample.java\n",
            "spark-3.0.2-bin-hadoop2.7/examples/src/main/java/org/apache/spark/examples/ml/JavaFMClassifierExample.java\n",
            "spark-3.0.2-bin-hadoop2.7/examples/src/main/java/org/apache/spark/examples/ml/JavaEstimatorTransformerParamExample.java\n",
            "spark-3.0.2-bin-hadoop2.7/examples/src/main/java/org/apache/spark/examples/ml/JavaElementwiseProductExample.java\n",
            "spark-3.0.2-bin-hadoop2.7/examples/src/main/java/org/apache/spark/examples/ml/JavaDocument.java\n",
            "spark-3.0.2-bin-hadoop2.7/examples/src/main/java/org/apache/spark/examples/ml/JavaDecisionTreeRegressionExample.java\n",
            "spark-3.0.2-bin-hadoop2.7/examples/src/main/java/org/apache/spark/examples/ml/JavaDecisionTreeClassificationExample.java\n",
            "spark-3.0.2-bin-hadoop2.7/examples/src/main/java/org/apache/spark/examples/ml/JavaDCTExample.java\n",
            "spark-3.0.2-bin-hadoop2.7/examples/src/main/java/org/apache/spark/examples/ml/JavaCountVectorizerExample.java\n",
            "spark-3.0.2-bin-hadoop2.7/examples/src/main/java/org/apache/spark/examples/ml/JavaCorrelationExample.java\n",
            "spark-3.0.2-bin-hadoop2.7/examples/src/main/java/org/apache/spark/examples/ml/JavaChiSquareTestExample.java\n",
            "spark-3.0.2-bin-hadoop2.7/examples/src/main/java/org/apache/spark/examples/ml/JavaChiSqSelectorExample.java\n",
            "spark-3.0.2-bin-hadoop2.7/examples/src/main/java/org/apache/spark/examples/ml/JavaBucketizerExample.java\n",
            "spark-3.0.2-bin-hadoop2.7/examples/src/main/java/org/apache/spark/examples/ml/JavaBucketedRandomProjectionLSHExample.java\n",
            "spark-3.0.2-bin-hadoop2.7/examples/src/main/java/org/apache/spark/examples/ml/JavaBisectingKMeansExample.java\n",
            "spark-3.0.2-bin-hadoop2.7/examples/src/main/java/org/apache/spark/examples/ml/JavaBinarizerExample.java\n",
            "spark-3.0.2-bin-hadoop2.7/examples/src/main/java/org/apache/spark/examples/ml/JavaALSExample.java\n",
            "spark-3.0.2-bin-hadoop2.7/examples/src/main/java/org/apache/spark/examples/ml/JavaAFTSurvivalRegressionExample.java\n",
            "spark-3.0.2-bin-hadoop2.7/examples/src/main/java/org/apache/spark/examples/ml/JavaTokenizerExample.java\n",
            "spark-3.0.2-bin-hadoop2.7/examples/src/main/java/org/apache/spark/examples/JavaWordCount.java\n",
            "spark-3.0.2-bin-hadoop2.7/examples/src/main/java/org/apache/spark/examples/JavaTC.java\n",
            "spark-3.0.2-bin-hadoop2.7/examples/src/main/java/org/apache/spark/examples/JavaStatusTrackerDemo.java\n",
            "spark-3.0.2-bin-hadoop2.7/examples/src/main/java/org/apache/spark/examples/JavaSparkPi.java\n",
            "spark-3.0.2-bin-hadoop2.7/examples/src/main/java/org/apache/spark/examples/JavaPageRank.java\n",
            "spark-3.0.2-bin-hadoop2.7/examples/src/main/java/org/apache/spark/examples/JavaLogQuery.java\n",
            "spark-3.0.2-bin-hadoop2.7/examples/src/main/java/org/apache/spark/examples/JavaHdfsLR.java\n",
            "spark-3.0.2-bin-hadoop2.7/examples/src/main/scripts/\n",
            "spark-3.0.2-bin-hadoop2.7/examples/src/main/scripts/getGpusResources.sh\n",
            "spark-3.0.2-bin-hadoop2.7/examples/src/main/scala/\n",
            "spark-3.0.2-bin-hadoop2.7/examples/src/main/scala/org/\n",
            "spark-3.0.2-bin-hadoop2.7/examples/src/main/scala/org/apache/\n",
            "spark-3.0.2-bin-hadoop2.7/examples/src/main/scala/org/apache/spark/\n",
            "spark-3.0.2-bin-hadoop2.7/examples/src/main/scala/org/apache/spark/examples/\n",
            "spark-3.0.2-bin-hadoop2.7/examples/src/main/scala/org/apache/spark/examples/SparkKMeans.scala\n",
            "spark-3.0.2-bin-hadoop2.7/examples/src/main/scala/org/apache/spark/examples/LocalKMeans.scala\n",
            "spark-3.0.2-bin-hadoop2.7/examples/src/main/scala/org/apache/spark/examples/streaming/\n",
            "spark-3.0.2-bin-hadoop2.7/examples/src/main/scala/org/apache/spark/examples/streaming/RecoverableNetworkWordCount.scala\n",
            "spark-3.0.2-bin-hadoop2.7/examples/src/main/scala/org/apache/spark/examples/streaming/clickstream/\n",
            "spark-3.0.2-bin-hadoop2.7/examples/src/main/scala/org/apache/spark/examples/streaming/clickstream/PageViewStream.scala\n",
            "spark-3.0.2-bin-hadoop2.7/examples/src/main/scala/org/apache/spark/examples/streaming/clickstream/PageViewGenerator.scala\n",
            "spark-3.0.2-bin-hadoop2.7/examples/src/main/scala/org/apache/spark/examples/streaming/StreamingExamples.scala\n",
            "spark-3.0.2-bin-hadoop2.7/examples/src/main/scala/org/apache/spark/examples/streaming/StatefulNetworkWordCount.scala\n",
            "spark-3.0.2-bin-hadoop2.7/examples/src/main/scala/org/apache/spark/examples/streaming/SqlNetworkWordCount.scala\n",
            "spark-3.0.2-bin-hadoop2.7/examples/src/main/scala/org/apache/spark/examples/streaming/RawNetworkGrep.scala\n",
            "spark-3.0.2-bin-hadoop2.7/examples/src/main/scala/org/apache/spark/examples/streaming/QueueStream.scala\n",
            "spark-3.0.2-bin-hadoop2.7/examples/src/main/scala/org/apache/spark/examples/streaming/NetworkWordCount.scala\n",
            "spark-3.0.2-bin-hadoop2.7/examples/src/main/scala/org/apache/spark/examples/streaming/HdfsWordCount.scala\n",
            "spark-3.0.2-bin-hadoop2.7/examples/src/main/scala/org/apache/spark/examples/streaming/DirectKerberizedKafkaWordCount.scala\n",
            "spark-3.0.2-bin-hadoop2.7/examples/src/main/scala/org/apache/spark/examples/streaming/DirectKafkaWordCount.scala\n",
            "spark-3.0.2-bin-hadoop2.7/examples/src/main/scala/org/apache/spark/examples/streaming/CustomReceiver.scala\n",
            "spark-3.0.2-bin-hadoop2.7/examples/src/main/scala/org/apache/spark/examples/sql/\n",
            "spark-3.0.2-bin-hadoop2.7/examples/src/main/scala/org/apache/spark/examples/sql/SparkSQLExample.scala\n",
            "spark-3.0.2-bin-hadoop2.7/examples/src/main/scala/org/apache/spark/examples/sql/SQLDataSourceExample.scala\n",
            "spark-3.0.2-bin-hadoop2.7/examples/src/main/scala/org/apache/spark/examples/sql/streaming/\n",
            "spark-3.0.2-bin-hadoop2.7/examples/src/main/scala/org/apache/spark/examples/sql/streaming/StructuredSessionization.scala\n",
            "spark-3.0.2-bin-hadoop2.7/examples/src/main/scala/org/apache/spark/examples/sql/streaming/StructuredNetworkWordCountWindowed.scala\n",
            "spark-3.0.2-bin-hadoop2.7/examples/src/main/scala/org/apache/spark/examples/sql/streaming/StructuredNetworkWordCount.scala\n",
            "spark-3.0.2-bin-hadoop2.7/examples/src/main/scala/org/apache/spark/examples/sql/streaming/StructuredKerberizedKafkaWordCount.scala\n",
            "spark-3.0.2-bin-hadoop2.7/examples/src/main/scala/org/apache/spark/examples/sql/streaming/StructuredKafkaWordCount.scala\n",
            "spark-3.0.2-bin-hadoop2.7/examples/src/main/scala/org/apache/spark/examples/sql/hive/\n",
            "spark-3.0.2-bin-hadoop2.7/examples/src/main/scala/org/apache/spark/examples/sql/hive/SparkHiveExample.scala\n",
            "spark-3.0.2-bin-hadoop2.7/examples/src/main/scala/org/apache/spark/examples/sql/UserDefinedUntypedAggregation.scala\n",
            "spark-3.0.2-bin-hadoop2.7/examples/src/main/scala/org/apache/spark/examples/sql/UserDefinedTypedAggregation.scala\n",
            "spark-3.0.2-bin-hadoop2.7/examples/src/main/scala/org/apache/spark/examples/sql/UserDefinedScalar.scala\n",
            "spark-3.0.2-bin-hadoop2.7/examples/src/main/scala/org/apache/spark/examples/sql/SimpleTypedAggregator.scala\n",
            "spark-3.0.2-bin-hadoop2.7/examples/src/main/scala/org/apache/spark/examples/sql/RDDRelation.scala\n",
            "spark-3.0.2-bin-hadoop2.7/examples/src/main/scala/org/apache/spark/examples/pythonconverters/\n",
            "spark-3.0.2-bin-hadoop2.7/examples/src/main/scala/org/apache/spark/examples/pythonconverters/AvroConverters.scala\n",
            "spark-3.0.2-bin-hadoop2.7/examples/src/main/scala/org/apache/spark/examples/mllib/\n",
            "spark-3.0.2-bin-hadoop2.7/examples/src/main/scala/org/apache/spark/examples/mllib/RankingMetricsExample.scala\n",
            "spark-3.0.2-bin-hadoop2.7/examples/src/main/scala/org/apache/spark/examples/mllib/Word2VecExample.scala\n",
            "spark-3.0.2-bin-hadoop2.7/examples/src/main/scala/org/apache/spark/examples/mllib/TallSkinnySVD.scala\n",
            "spark-3.0.2-bin-hadoop2.7/examples/src/main/scala/org/apache/spark/examples/mllib/TallSkinnyPCA.scala\n",
            "spark-3.0.2-bin-hadoop2.7/examples/src/main/scala/org/apache/spark/examples/mllib/TFIDFExample.scala\n",
            "spark-3.0.2-bin-hadoop2.7/examples/src/main/scala/org/apache/spark/examples/mllib/SummaryStatisticsExample.scala\n",
            "spark-3.0.2-bin-hadoop2.7/examples/src/main/scala/org/apache/spark/examples/mllib/StreamingTestExample.scala\n",
            "spark-3.0.2-bin-hadoop2.7/examples/src/main/scala/org/apache/spark/examples/mllib/StreamingLogisticRegression.scala\n",
            "spark-3.0.2-bin-hadoop2.7/examples/src/main/scala/org/apache/spark/examples/mllib/StreamingLinearRegressionExample.scala\n",
            "spark-3.0.2-bin-hadoop2.7/examples/src/main/scala/org/apache/spark/examples/mllib/StreamingKMeansExample.scala\n",
            "spark-3.0.2-bin-hadoop2.7/examples/src/main/scala/org/apache/spark/examples/mllib/StratifiedSamplingExample.scala\n",
            "spark-3.0.2-bin-hadoop2.7/examples/src/main/scala/org/apache/spark/examples/mllib/StandardScalerExample.scala\n",
            "spark-3.0.2-bin-hadoop2.7/examples/src/main/scala/org/apache/spark/examples/mllib/SparseNaiveBayes.scala\n",
            "spark-3.0.2-bin-hadoop2.7/examples/src/main/scala/org/apache/spark/examples/mllib/SimpleFPGrowth.scala\n",
            "spark-3.0.2-bin-hadoop2.7/examples/src/main/scala/org/apache/spark/examples/mllib/SampledRDDs.scala\n",
            "spark-3.0.2-bin-hadoop2.7/examples/src/main/scala/org/apache/spark/examples/mllib/SVMWithSGDExample.scala\n",
            "spark-3.0.2-bin-hadoop2.7/examples/src/main/scala/org/apache/spark/examples/mllib/SVDExample.scala\n",
            "spark-3.0.2-bin-hadoop2.7/examples/src/main/scala/org/apache/spark/examples/mllib/RecommendationExample.scala\n",
            "spark-3.0.2-bin-hadoop2.7/examples/src/main/scala/org/apache/spark/examples/mllib/RandomRDDGeneration.scala\n",
            "spark-3.0.2-bin-hadoop2.7/examples/src/main/scala/org/apache/spark/examples/mllib/RandomForestRegressionExample.scala\n",
            "spark-3.0.2-bin-hadoop2.7/examples/src/main/scala/org/apache/spark/examples/mllib/RandomForestClassificationExample.scala\n",
            "spark-3.0.2-bin-hadoop2.7/examples/src/main/scala/org/apache/spark/examples/mllib/PrefixSpanExample.scala\n",
            "spark-3.0.2-bin-hadoop2.7/examples/src/main/scala/org/apache/spark/examples/mllib/PowerIterationClusteringExample.scala\n",
            "spark-3.0.2-bin-hadoop2.7/examples/src/main/scala/org/apache/spark/examples/mllib/PMMLModelExportExample.scala\n",
            "spark-3.0.2-bin-hadoop2.7/examples/src/main/scala/org/apache/spark/examples/mllib/PCAOnSourceVectorExample.scala\n",
            "spark-3.0.2-bin-hadoop2.7/examples/src/main/scala/org/apache/spark/examples/mllib/PCAOnRowMatrixExample.scala\n",
            "spark-3.0.2-bin-hadoop2.7/examples/src/main/scala/org/apache/spark/examples/mllib/NormalizerExample.scala\n",
            "spark-3.0.2-bin-hadoop2.7/examples/src/main/scala/org/apache/spark/examples/mllib/NaiveBayesExample.scala\n",
            "spark-3.0.2-bin-hadoop2.7/examples/src/main/scala/org/apache/spark/examples/mllib/MultivariateSummarizer.scala\n",
            "spark-3.0.2-bin-hadoop2.7/examples/src/main/scala/org/apache/spark/examples/mllib/MulticlassMetricsExample.scala\n",
            "spark-3.0.2-bin-hadoop2.7/examples/src/main/scala/org/apache/spark/examples/mllib/MultiLabelMetricsExample.scala\n",
            "spark-3.0.2-bin-hadoop2.7/examples/src/main/scala/org/apache/spark/examples/mllib/MovieLensALS.scala\n",
            "spark-3.0.2-bin-hadoop2.7/examples/src/main/scala/org/apache/spark/examples/mllib/LogisticRegressionWithLBFGSExample.scala\n",
            "spark-3.0.2-bin-hadoop2.7/examples/src/main/scala/org/apache/spark/examples/mllib/LatentDirichletAllocationExample.scala\n",
            "spark-3.0.2-bin-hadoop2.7/examples/src/main/scala/org/apache/spark/examples/mllib/LDAExample.scala\n",
            "spark-3.0.2-bin-hadoop2.7/examples/src/main/scala/org/apache/spark/examples/mllib/LBFGSExample.scala\n",
            "spark-3.0.2-bin-hadoop2.7/examples/src/main/scala/org/apache/spark/examples/mllib/KernelDensityEstimationExample.scala\n",
            "spark-3.0.2-bin-hadoop2.7/examples/src/main/scala/org/apache/spark/examples/mllib/KMeansExample.scala\n",
            "spark-3.0.2-bin-hadoop2.7/examples/src/main/scala/org/apache/spark/examples/mllib/IsotonicRegressionExample.scala\n",
            "spark-3.0.2-bin-hadoop2.7/examples/src/main/scala/org/apache/spark/examples/mllib/HypothesisTestingKolmogorovSmirnovTestExample.scala\n",
            "spark-3.0.2-bin-hadoop2.7/examples/src/main/scala/org/apache/spark/examples/mllib/HypothesisTestingExample.scala\n",
            "spark-3.0.2-bin-hadoop2.7/examples/src/main/scala/org/apache/spark/examples/mllib/GradientBoostingRegressionExample.scala\n",
            "spark-3.0.2-bin-hadoop2.7/examples/src/main/scala/org/apache/spark/examples/mllib/GradientBoostingClassificationExample.scala\n",
            "spark-3.0.2-bin-hadoop2.7/examples/src/main/scala/org/apache/spark/examples/mllib/GradientBoostedTreesRunner.scala\n",
            "spark-3.0.2-bin-hadoop2.7/examples/src/main/scala/org/apache/spark/examples/mllib/GaussianMixtureExample.scala\n",
            "spark-3.0.2-bin-hadoop2.7/examples/src/main/scala/org/apache/spark/examples/mllib/FPGrowthExample.scala\n",
            "spark-3.0.2-bin-hadoop2.7/examples/src/main/scala/org/apache/spark/examples/mllib/ElementwiseProductExample.scala\n",
            "spark-3.0.2-bin-hadoop2.7/examples/src/main/scala/org/apache/spark/examples/mllib/DenseKMeans.scala\n",
            "spark-3.0.2-bin-hadoop2.7/examples/src/main/scala/org/apache/spark/examples/mllib/DecisionTreeRunner.scala\n",
            "spark-3.0.2-bin-hadoop2.7/examples/src/main/scala/org/apache/spark/examples/mllib/DecisionTreeRegressionExample.scala\n",
            "spark-3.0.2-bin-hadoop2.7/examples/src/main/scala/org/apache/spark/examples/mllib/DecisionTreeClassificationExample.scala\n",
            "spark-3.0.2-bin-hadoop2.7/examples/src/main/scala/org/apache/spark/examples/mllib/CosineSimilarity.scala\n",
            "spark-3.0.2-bin-hadoop2.7/examples/src/main/scala/org/apache/spark/examples/mllib/CorrelationsExample.scala\n",
            "spark-3.0.2-bin-hadoop2.7/examples/src/main/scala/org/apache/spark/examples/mllib/Correlations.scala\n",
            "spark-3.0.2-bin-hadoop2.7/examples/src/main/scala/org/apache/spark/examples/mllib/ChiSqSelectorExample.scala\n",
            "spark-3.0.2-bin-hadoop2.7/examples/src/main/scala/org/apache/spark/examples/mllib/BisectingKMeansExample.scala\n",
            "spark-3.0.2-bin-hadoop2.7/examples/src/main/scala/org/apache/spark/examples/mllib/BinaryClassificationMetricsExample.scala\n",
            "spark-3.0.2-bin-hadoop2.7/examples/src/main/scala/org/apache/spark/examples/mllib/BinaryClassification.scala\n",
            "spark-3.0.2-bin-hadoop2.7/examples/src/main/scala/org/apache/spark/examples/mllib/AssociationRulesExample.scala\n",
            "spark-3.0.2-bin-hadoop2.7/examples/src/main/scala/org/apache/spark/examples/mllib/AbstractParams.scala\n",
            "spark-3.0.2-bin-hadoop2.7/examples/src/main/scala/org/apache/spark/examples/ml/\n",
            "spark-3.0.2-bin-hadoop2.7/examples/src/main/scala/org/apache/spark/examples/ml/DeveloperApiExample.scala\n",
            "spark-3.0.2-bin-hadoop2.7/examples/src/main/scala/org/apache/spark/examples/ml/Word2VecExample.scala\n",
            "spark-3.0.2-bin-hadoop2.7/examples/src/main/scala/org/apache/spark/examples/ml/VectorSlicerExample.scala\n",
            "spark-3.0.2-bin-hadoop2.7/examples/src/main/scala/org/apache/spark/examples/ml/VectorSizeHintExample.scala\n",
            "spark-3.0.2-bin-hadoop2.7/examples/src/main/scala/org/apache/spark/examples/ml/VectorIndexerExample.scala\n",
            "spark-3.0.2-bin-hadoop2.7/examples/src/main/scala/org/apache/spark/examples/ml/VectorAssemblerExample.scala\n",
            "spark-3.0.2-bin-hadoop2.7/examples/src/main/scala/org/apache/spark/examples/ml/UnaryTransformerExample.scala\n",
            "spark-3.0.2-bin-hadoop2.7/examples/src/main/scala/org/apache/spark/examples/ml/TokenizerExample.scala\n",
            "spark-3.0.2-bin-hadoop2.7/examples/src/main/scala/org/apache/spark/examples/ml/TfIdfExample.scala\n",
            "spark-3.0.2-bin-hadoop2.7/examples/src/main/scala/org/apache/spark/examples/ml/SummarizerExample.scala\n",
            "spark-3.0.2-bin-hadoop2.7/examples/src/main/scala/org/apache/spark/examples/ml/StringIndexerExample.scala\n",
            "spark-3.0.2-bin-hadoop2.7/examples/src/main/scala/org/apache/spark/examples/ml/StopWordsRemoverExample.scala\n",
            "spark-3.0.2-bin-hadoop2.7/examples/src/main/scala/org/apache/spark/examples/ml/StandardScalerExample.scala\n",
            "spark-3.0.2-bin-hadoop2.7/examples/src/main/scala/org/apache/spark/examples/ml/SQLTransformerExample.scala\n",
            "spark-3.0.2-bin-hadoop2.7/examples/src/main/scala/org/apache/spark/examples/ml/RobustScalerExample.scala\n",
            "spark-3.0.2-bin-hadoop2.7/examples/src/main/scala/org/apache/spark/examples/ml/RandomForestRegressorExample.scala\n",
            "spark-3.0.2-bin-hadoop2.7/examples/src/main/scala/org/apache/spark/examples/ml/RandomForestExample.scala\n",
            "spark-3.0.2-bin-hadoop2.7/examples/src/main/scala/org/apache/spark/examples/ml/RandomForestClassifierExample.scala\n",
            "spark-3.0.2-bin-hadoop2.7/examples/src/main/scala/org/apache/spark/examples/ml/RFormulaExample.scala\n",
            "spark-3.0.2-bin-hadoop2.7/examples/src/main/scala/org/apache/spark/examples/ml/QuantileDiscretizerExample.scala\n",
            "spark-3.0.2-bin-hadoop2.7/examples/src/main/scala/org/apache/spark/examples/ml/PrefixSpanExample.scala\n",
            "spark-3.0.2-bin-hadoop2.7/examples/src/main/scala/org/apache/spark/examples/ml/PowerIterationClusteringExample.scala\n",
            "spark-3.0.2-bin-hadoop2.7/examples/src/main/scala/org/apache/spark/examples/ml/PolynomialExpansionExample.scala\n",
            "spark-3.0.2-bin-hadoop2.7/examples/src/main/scala/org/apache/spark/examples/ml/PipelineExample.scala\n",
            "spark-3.0.2-bin-hadoop2.7/examples/src/main/scala/org/apache/spark/examples/ml/PCAExample.scala\n",
            "spark-3.0.2-bin-hadoop2.7/examples/src/main/scala/org/apache/spark/examples/ml/OneVsRestExample.scala\n",
            "spark-3.0.2-bin-hadoop2.7/examples/src/main/scala/org/apache/spark/examples/ml/OneHotEncoderExample.scala\n",
            "spark-3.0.2-bin-hadoop2.7/examples/src/main/scala/org/apache/spark/examples/ml/NormalizerExample.scala\n",
            "spark-3.0.2-bin-hadoop2.7/examples/src/main/scala/org/apache/spark/examples/ml/NaiveBayesExample.scala\n",
            "spark-3.0.2-bin-hadoop2.7/examples/src/main/scala/org/apache/spark/examples/ml/NGramExample.scala\n",
            "spark-3.0.2-bin-hadoop2.7/examples/src/main/scala/org/apache/spark/examples/ml/MultilayerPerceptronClassifierExample.scala\n",
            "spark-3.0.2-bin-hadoop2.7/examples/src/main/scala/org/apache/spark/examples/ml/MulticlassLogisticRegressionWithElasticNetExample.scala\n",
            "spark-3.0.2-bin-hadoop2.7/examples/src/main/scala/org/apache/spark/examples/ml/ModelSelectionViaTrainValidationSplitExample.scala\n",
            "spark-3.0.2-bin-hadoop2.7/examples/src/main/scala/org/apache/spark/examples/ml/ModelSelectionViaCrossValidationExample.scala\n",
            "spark-3.0.2-bin-hadoop2.7/examples/src/main/scala/org/apache/spark/examples/ml/MinMaxScalerExample.scala\n",
            "spark-3.0.2-bin-hadoop2.7/examples/src/main/scala/org/apache/spark/examples/ml/MinHashLSHExample.scala\n",
            "spark-3.0.2-bin-hadoop2.7/examples/src/main/scala/org/apache/spark/examples/ml/MaxAbsScalerExample.scala\n",
            "spark-3.0.2-bin-hadoop2.7/examples/src/main/scala/org/apache/spark/examples/ml/LogisticRegressionWithElasticNetExample.scala\n",
            "spark-3.0.2-bin-hadoop2.7/examples/src/main/scala/org/apache/spark/examples/ml/LogisticRegressionSummaryExample.scala\n",
            "spark-3.0.2-bin-hadoop2.7/examples/src/main/scala/org/apache/spark/examples/ml/LogisticRegressionExample.scala\n",
            "spark-3.0.2-bin-hadoop2.7/examples/src/main/scala/org/apache/spark/examples/ml/LinearSVCExample.scala\n",
            "spark-3.0.2-bin-hadoop2.7/examples/src/main/scala/org/apache/spark/examples/ml/LinearRegressionWithElasticNetExample.scala\n",
            "spark-3.0.2-bin-hadoop2.7/examples/src/main/scala/org/apache/spark/examples/ml/LinearRegressionExample.scala\n",
            "spark-3.0.2-bin-hadoop2.7/examples/src/main/scala/org/apache/spark/examples/ml/LDAExample.scala\n",
            "spark-3.0.2-bin-hadoop2.7/examples/src/main/scala/org/apache/spark/examples/ml/KMeansExample.scala\n",
            "spark-3.0.2-bin-hadoop2.7/examples/src/main/scala/org/apache/spark/examples/ml/IsotonicRegressionExample.scala\n",
            "spark-3.0.2-bin-hadoop2.7/examples/src/main/scala/org/apache/spark/examples/ml/InteractionExample.scala\n",
            "spark-3.0.2-bin-hadoop2.7/examples/src/main/scala/org/apache/spark/examples/ml/IndexToStringExample.scala\n",
            "spark-3.0.2-bin-hadoop2.7/examples/src/main/scala/org/apache/spark/examples/ml/ImputerExample.scala\n",
            "spark-3.0.2-bin-hadoop2.7/examples/src/main/scala/org/apache/spark/examples/ml/GradientBoostedTreeRegressorExample.scala\n",
            "spark-3.0.2-bin-hadoop2.7/examples/src/main/scala/org/apache/spark/examples/ml/GradientBoostedTreeClassifierExample.scala\n",
            "spark-3.0.2-bin-hadoop2.7/examples/src/main/scala/org/apache/spark/examples/ml/GeneralizedLinearRegressionExample.scala\n",
            "spark-3.0.2-bin-hadoop2.7/examples/src/main/scala/org/apache/spark/examples/ml/GaussianMixtureExample.scala\n",
            "spark-3.0.2-bin-hadoop2.7/examples/src/main/scala/org/apache/spark/examples/ml/GBTExample.scala\n",
            "spark-3.0.2-bin-hadoop2.7/examples/src/main/scala/org/apache/spark/examples/ml/FeatureHasherExample.scala\n",
            "spark-3.0.2-bin-hadoop2.7/examples/src/main/scala/org/apache/spark/examples/ml/FPGrowthExample.scala\n",
            "spark-3.0.2-bin-hadoop2.7/examples/src/main/scala/org/apache/spark/examples/ml/FMRegressorExample.scala\n",
            "spark-3.0.2-bin-hadoop2.7/examples/src/main/scala/org/apache/spark/examples/ml/FMClassifierExample.scala\n",
            "spark-3.0.2-bin-hadoop2.7/examples/src/main/scala/org/apache/spark/examples/ml/EstimatorTransformerParamExample.scala\n",
            "spark-3.0.2-bin-hadoop2.7/examples/src/main/scala/org/apache/spark/examples/ml/ElementwiseProductExample.scala\n",
            "spark-3.0.2-bin-hadoop2.7/examples/src/main/scala/org/apache/spark/examples/ml/DecisionTreeRegressionExample.scala\n",
            "spark-3.0.2-bin-hadoop2.7/examples/src/main/scala/org/apache/spark/examples/ml/DecisionTreeExample.scala\n",
            "spark-3.0.2-bin-hadoop2.7/examples/src/main/scala/org/apache/spark/examples/ml/DecisionTreeClassificationExample.scala\n",
            "spark-3.0.2-bin-hadoop2.7/examples/src/main/scala/org/apache/spark/examples/ml/DataFrameExample.scala\n",
            "spark-3.0.2-bin-hadoop2.7/examples/src/main/scala/org/apache/spark/examples/ml/DCTExample.scala\n",
            "spark-3.0.2-bin-hadoop2.7/examples/src/main/scala/org/apache/spark/examples/ml/CountVectorizerExample.scala\n",
            "spark-3.0.2-bin-hadoop2.7/examples/src/main/scala/org/apache/spark/examples/ml/CorrelationExample.scala\n",
            "spark-3.0.2-bin-hadoop2.7/examples/src/main/scala/org/apache/spark/examples/ml/ChiSquareTestExample.scala\n",
            "spark-3.0.2-bin-hadoop2.7/examples/src/main/scala/org/apache/spark/examples/ml/ChiSqSelectorExample.scala\n",
            "spark-3.0.2-bin-hadoop2.7/examples/src/main/scala/org/apache/spark/examples/ml/BucketizerExample.scala\n",
            "spark-3.0.2-bin-hadoop2.7/examples/src/main/scala/org/apache/spark/examples/ml/BucketedRandomProjectionLSHExample.scala\n",
            "spark-3.0.2-bin-hadoop2.7/examples/src/main/scala/org/apache/spark/examples/ml/BisectingKMeansExample.scala\n",
            "spark-3.0.2-bin-hadoop2.7/examples/src/main/scala/org/apache/spark/examples/ml/BinarizerExample.scala\n",
            "spark-3.0.2-bin-hadoop2.7/examples/src/main/scala/org/apache/spark/examples/ml/ALSExample.scala\n",
            "spark-3.0.2-bin-hadoop2.7/examples/src/main/scala/org/apache/spark/examples/ml/AFTSurvivalRegressionExample.scala\n",
            "spark-3.0.2-bin-hadoop2.7/examples/src/main/scala/org/apache/spark/examples/graphx/\n",
            "spark-3.0.2-bin-hadoop2.7/examples/src/main/scala/org/apache/spark/examples/graphx/TriangleCountingExample.scala\n",
            "spark-3.0.2-bin-hadoop2.7/examples/src/main/scala/org/apache/spark/examples/graphx/SynthBenchmark.scala\n",
            "spark-3.0.2-bin-hadoop2.7/examples/src/main/scala/org/apache/spark/examples/graphx/SSSPExample.scala\n",
            "spark-3.0.2-bin-hadoop2.7/examples/src/main/scala/org/apache/spark/examples/graphx/PageRankExample.scala\n",
            "spark-3.0.2-bin-hadoop2.7/examples/src/main/scala/org/apache/spark/examples/graphx/LiveJournalPageRank.scala\n",
            "spark-3.0.2-bin-hadoop2.7/examples/src/main/scala/org/apache/spark/examples/graphx/ConnectedComponentsExample.scala\n",
            "spark-3.0.2-bin-hadoop2.7/examples/src/main/scala/org/apache/spark/examples/graphx/ComprehensiveExample.scala\n",
            "spark-3.0.2-bin-hadoop2.7/examples/src/main/scala/org/apache/spark/examples/graphx/Analytics.scala\n",
            "spark-3.0.2-bin-hadoop2.7/examples/src/main/scala/org/apache/spark/examples/graphx/AggregateMessagesExample.scala\n",
            "spark-3.0.2-bin-hadoop2.7/examples/src/main/scala/org/apache/spark/examples/SparkTC.scala\n",
            "spark-3.0.2-bin-hadoop2.7/examples/src/main/scala/org/apache/spark/examples/SparkRemoteFileTest.scala\n",
            "spark-3.0.2-bin-hadoop2.7/examples/src/main/scala/org/apache/spark/examples/SparkPi.scala\n",
            "spark-3.0.2-bin-hadoop2.7/examples/src/main/scala/org/apache/spark/examples/SparkPageRank.scala\n",
            "spark-3.0.2-bin-hadoop2.7/examples/src/main/scala/org/apache/spark/examples/SparkLR.scala\n",
            "spark-3.0.2-bin-hadoop2.7/examples/src/main/scala/org/apache/spark/examples/SparkHdfsLR.scala\n",
            "spark-3.0.2-bin-hadoop2.7/examples/src/main/scala/org/apache/spark/examples/SparkALS.scala\n",
            "spark-3.0.2-bin-hadoop2.7/examples/src/main/scala/org/apache/spark/examples/SkewedGroupByTest.scala\n",
            "spark-3.0.2-bin-hadoop2.7/examples/src/main/scala/org/apache/spark/examples/SimpleSkewedGroupByTest.scala\n",
            "spark-3.0.2-bin-hadoop2.7/examples/src/main/scala/org/apache/spark/examples/MultiBroadcastTest.scala\n",
            "spark-3.0.2-bin-hadoop2.7/examples/src/main/scala/org/apache/spark/examples/LogQuery.scala\n",
            "spark-3.0.2-bin-hadoop2.7/examples/src/main/scala/org/apache/spark/examples/LocalPi.scala\n",
            "spark-3.0.2-bin-hadoop2.7/examples/src/main/scala/org/apache/spark/examples/LocalLR.scala\n",
            "spark-3.0.2-bin-hadoop2.7/examples/src/main/scala/org/apache/spark/examples/LocalFileLR.scala\n",
            "spark-3.0.2-bin-hadoop2.7/examples/src/main/scala/org/apache/spark/examples/LocalALS.scala\n",
            "spark-3.0.2-bin-hadoop2.7/examples/src/main/scala/org/apache/spark/examples/HdfsTest.scala\n",
            "spark-3.0.2-bin-hadoop2.7/examples/src/main/scala/org/apache/spark/examples/GroupByTest.scala\n",
            "spark-3.0.2-bin-hadoop2.7/examples/src/main/scala/org/apache/spark/examples/ExceptionHandlingTest.scala\n",
            "spark-3.0.2-bin-hadoop2.7/examples/src/main/scala/org/apache/spark/examples/DriverSubmissionTest.scala\n",
            "spark-3.0.2-bin-hadoop2.7/examples/src/main/scala/org/apache/spark/examples/DFSReadWriteTest.scala\n",
            "spark-3.0.2-bin-hadoop2.7/examples/src/main/scala/org/apache/spark/examples/BroadcastTest.scala\n",
            "spark-3.0.2-bin-hadoop2.7/examples/src/main/scala/org/apache/spark/examples/AccumulatorMetricsTest.scala\n",
            "spark-3.0.2-bin-hadoop2.7/examples/src/main/resources/\n",
            "spark-3.0.2-bin-hadoop2.7/examples/src/main/resources/users.parquet\n",
            "spark-3.0.2-bin-hadoop2.7/examples/src/main/resources/users.orc\n",
            "spark-3.0.2-bin-hadoop2.7/examples/src/main/resources/users.avro\n",
            "spark-3.0.2-bin-hadoop2.7/examples/src/main/resources/user.avsc\n",
            "spark-3.0.2-bin-hadoop2.7/examples/src/main/resources/people.txt\n",
            "spark-3.0.2-bin-hadoop2.7/examples/src/main/resources/people.json\n",
            "spark-3.0.2-bin-hadoop2.7/examples/src/main/resources/people.csv\n",
            "spark-3.0.2-bin-hadoop2.7/examples/src/main/resources/kv1.txt\n",
            "spark-3.0.2-bin-hadoop2.7/examples/src/main/resources/full_user.avsc\n",
            "spark-3.0.2-bin-hadoop2.7/examples/src/main/resources/employees.json\n",
            "spark-3.0.2-bin-hadoop2.7/examples/src/main/resources/dir1/\n",
            "spark-3.0.2-bin-hadoop2.7/examples/src/main/resources/dir1/file3.json\n",
            "spark-3.0.2-bin-hadoop2.7/examples/src/main/resources/dir1/file1.parquet\n",
            "spark-3.0.2-bin-hadoop2.7/examples/src/main/resources/dir1/dir2/\n",
            "spark-3.0.2-bin-hadoop2.7/examples/src/main/resources/dir1/dir2/file2.parquet\n",
            "spark-3.0.2-bin-hadoop2.7/examples/src/main/r/\n",
            "spark-3.0.2-bin-hadoop2.7/examples/src/main/r/RSparkSQLExample.R\n",
            "spark-3.0.2-bin-hadoop2.7/examples/src/main/r/streaming/\n",
            "spark-3.0.2-bin-hadoop2.7/examples/src/main/r/streaming/structured_network_wordcount.R\n",
            "spark-3.0.2-bin-hadoop2.7/examples/src/main/r/ml/\n",
            "spark-3.0.2-bin-hadoop2.7/examples/src/main/r/ml/svmLinear.R\n",
            "spark-3.0.2-bin-hadoop2.7/examples/src/main/r/ml/survreg.R\n",
            "spark-3.0.2-bin-hadoop2.7/examples/src/main/r/ml/randomForest.R\n",
            "spark-3.0.2-bin-hadoop2.7/examples/src/main/r/ml/prefixSpan.R\n",
            "spark-3.0.2-bin-hadoop2.7/examples/src/main/r/ml/powerIterationClustering.R\n",
            "spark-3.0.2-bin-hadoop2.7/examples/src/main/r/ml/naiveBayes.R\n",
            "spark-3.0.2-bin-hadoop2.7/examples/src/main/r/ml/mlp.R\n",
            "spark-3.0.2-bin-hadoop2.7/examples/src/main/r/ml/ml.R\n",
            "spark-3.0.2-bin-hadoop2.7/examples/src/main/r/ml/logit.R\n",
            "spark-3.0.2-bin-hadoop2.7/examples/src/main/r/ml/lda.R\n",
            "spark-3.0.2-bin-hadoop2.7/examples/src/main/r/ml/kstest.R\n",
            "spark-3.0.2-bin-hadoop2.7/examples/src/main/r/ml/kmeans.R\n",
            "spark-3.0.2-bin-hadoop2.7/examples/src/main/r/ml/isoreg.R\n",
            "spark-3.0.2-bin-hadoop2.7/examples/src/main/r/ml/glm.R\n",
            "spark-3.0.2-bin-hadoop2.7/examples/src/main/r/ml/gbt.R\n",
            "spark-3.0.2-bin-hadoop2.7/examples/src/main/r/ml/gaussianMixture.R\n",
            "spark-3.0.2-bin-hadoop2.7/examples/src/main/r/ml/fpm.R\n",
            "spark-3.0.2-bin-hadoop2.7/examples/src/main/r/ml/decisionTree.R\n",
            "spark-3.0.2-bin-hadoop2.7/examples/src/main/r/ml/bisectingKmeans.R\n",
            "spark-3.0.2-bin-hadoop2.7/examples/src/main/r/ml/als.R\n",
            "spark-3.0.2-bin-hadoop2.7/examples/src/main/r/dataframe.R\n",
            "spark-3.0.2-bin-hadoop2.7/examples/src/main/r/data-manipulation.R\n",
            "spark-3.0.2-bin-hadoop2.7/examples/jars/\n",
            "spark-3.0.2-bin-hadoop2.7/examples/jars/spark-examples_2.12-3.0.2.jar\n",
            "spark-3.0.2-bin-hadoop2.7/examples/jars/scopt_2.12-3.7.1.jar\n",
            "spark-3.0.2-bin-hadoop2.7/kubernetes/\n",
            "spark-3.0.2-bin-hadoop2.7/kubernetes/tests/\n",
            "spark-3.0.2-bin-hadoop2.7/kubernetes/tests/worker_memory_check.py\n",
            "spark-3.0.2-bin-hadoop2.7/kubernetes/tests/pyfiles.py\n",
            "spark-3.0.2-bin-hadoop2.7/kubernetes/tests/py_container_checks.py\n",
            "spark-3.0.2-bin-hadoop2.7/kubernetes/dockerfiles/\n",
            "spark-3.0.2-bin-hadoop2.7/kubernetes/dockerfiles/spark/\n",
            "spark-3.0.2-bin-hadoop2.7/kubernetes/dockerfiles/spark/bindings/\n",
            "spark-3.0.2-bin-hadoop2.7/kubernetes/dockerfiles/spark/bindings/python/\n",
            "spark-3.0.2-bin-hadoop2.7/kubernetes/dockerfiles/spark/bindings/python/Dockerfile\n",
            "spark-3.0.2-bin-hadoop2.7/kubernetes/dockerfiles/spark/bindings/R/\n",
            "spark-3.0.2-bin-hadoop2.7/kubernetes/dockerfiles/spark/bindings/R/Dockerfile\n",
            "spark-3.0.2-bin-hadoop2.7/kubernetes/dockerfiles/spark/entrypoint.sh\n",
            "spark-3.0.2-bin-hadoop2.7/kubernetes/dockerfiles/spark/Dockerfile\n",
            "spark-3.0.2-bin-hadoop2.7/yarn/\n",
            "spark-3.0.2-bin-hadoop2.7/yarn/spark-3.0.2-yarn-shuffle.jar\n",
            "spark-3.0.2-bin-hadoop2.7/jars/\n",
            "spark-3.0.2-bin-hadoop2.7/jars/zstd-jni-1.4.4-3.jar\n",
            "spark-3.0.2-bin-hadoop2.7/jars/zookeeper-3.4.14.jar\n",
            "spark-3.0.2-bin-hadoop2.7/jars/zjsonpatch-0.3.0.jar\n",
            "spark-3.0.2-bin-hadoop2.7/jars/xz-1.5.jar\n",
            "spark-3.0.2-bin-hadoop2.7/jars/xmlenc-0.52.jar\n",
            "spark-3.0.2-bin-hadoop2.7/jars/xml-apis-1.4.01.jar\n",
            "spark-3.0.2-bin-hadoop2.7/jars/xercesImpl-2.12.0.jar\n",
            "spark-3.0.2-bin-hadoop2.7/jars/xbean-asm7-shaded-4.15.jar\n",
            "spark-3.0.2-bin-hadoop2.7/jars/velocity-1.5.jar\n",
            "spark-3.0.2-bin-hadoop2.7/jars/univocity-parsers-2.9.0.jar\n",
            "spark-3.0.2-bin-hadoop2.7/jars/transaction-api-1.1.jar\n",
            "spark-3.0.2-bin-hadoop2.7/jars/threeten-extra-1.5.0.jar\n",
            "spark-3.0.2-bin-hadoop2.7/jars/super-csv-2.2.0.jar\n",
            "spark-3.0.2-bin-hadoop2.7/jars/stream-2.9.6.jar\n",
            "spark-3.0.2-bin-hadoop2.7/jars/stax-api-1.0.1.jar\n",
            "spark-3.0.2-bin-hadoop2.7/jars/stax-api-1.0-2.jar\n",
            "spark-3.0.2-bin-hadoop2.7/jars/spire_2.12-0.17.0-M1.jar\n",
            "spark-3.0.2-bin-hadoop2.7/jars/spire-util_2.12-0.17.0-M1.jar\n",
            "spark-3.0.2-bin-hadoop2.7/jars/spire-platform_2.12-0.17.0-M1.jar\n",
            "spark-3.0.2-bin-hadoop2.7/jars/spire-macros_2.12-0.17.0-M1.jar\n",
            "spark-3.0.2-bin-hadoop2.7/jars/spark-yarn_2.12-3.0.2.jar\n",
            "spark-3.0.2-bin-hadoop2.7/jars/spark-unsafe_2.12-3.0.2.jar\n",
            "spark-3.0.2-bin-hadoop2.7/jars/spark-tags_2.12-3.0.2.jar\n",
            "spark-3.0.2-bin-hadoop2.7/jars/spark-tags_2.12-3.0.2-tests.jar\n",
            "spark-3.0.2-bin-hadoop2.7/jars/spark-streaming_2.12-3.0.2.jar\n",
            "spark-3.0.2-bin-hadoop2.7/jars/spark-sql_2.12-3.0.2.jar\n",
            "spark-3.0.2-bin-hadoop2.7/jars/spark-sketch_2.12-3.0.2.jar\n",
            "spark-3.0.2-bin-hadoop2.7/jars/spark-repl_2.12-3.0.2.jar\n",
            "spark-3.0.2-bin-hadoop2.7/jars/spark-network-shuffle_2.12-3.0.2.jar\n",
            "spark-3.0.2-bin-hadoop2.7/jars/spark-network-common_2.12-3.0.2.jar\n",
            "spark-3.0.2-bin-hadoop2.7/jars/spark-mllib_2.12-3.0.2.jar\n",
            "spark-3.0.2-bin-hadoop2.7/jars/spark-mllib-local_2.12-3.0.2.jar\n",
            "spark-3.0.2-bin-hadoop2.7/jars/spark-mesos_2.12-3.0.2.jar\n",
            "spark-3.0.2-bin-hadoop2.7/jars/spark-launcher_2.12-3.0.2.jar\n",
            "spark-3.0.2-bin-hadoop2.7/jars/spark-kvstore_2.12-3.0.2.jar\n",
            "spark-3.0.2-bin-hadoop2.7/jars/spark-kubernetes_2.12-3.0.2.jar\n",
            "spark-3.0.2-bin-hadoop2.7/jars/spark-hive_2.12-3.0.2.jar\n",
            "spark-3.0.2-bin-hadoop2.7/jars/spark-hive-thriftserver_2.12-3.0.2.jar\n",
            "spark-3.0.2-bin-hadoop2.7/jars/spark-graphx_2.12-3.0.2.jar\n",
            "spark-3.0.2-bin-hadoop2.7/jars/spark-core_2.12-3.0.2.jar\n",
            "spark-3.0.2-bin-hadoop2.7/jars/scala-reflect-2.12.10.jar\n",
            "spark-3.0.2-bin-hadoop2.7/jars/scala-parser-combinators_2.12-1.1.2.jar\n",
            "spark-3.0.2-bin-hadoop2.7/jars/scala-library-2.12.10.jar\n",
            "spark-3.0.2-bin-hadoop2.7/jars/scala-compiler-2.12.10.jar\n",
            "spark-3.0.2-bin-hadoop2.7/jars/scala-collection-compat_2.12-2.1.1.jar\n",
            "spark-3.0.2-bin-hadoop2.7/jars/pyrolite-4.30.jar\n",
            "spark-3.0.2-bin-hadoop2.7/jars/py4j-0.10.9.jar\n",
            "spark-3.0.2-bin-hadoop2.7/jars/protobuf-java-2.5.0.jar\n",
            "spark-3.0.2-bin-hadoop2.7/jars/parquet-jackson-1.10.1.jar\n",
            "spark-3.0.2-bin-hadoop2.7/jars/parquet-hadoop-1.10.1.jar\n",
            "spark-3.0.2-bin-hadoop2.7/jars/parquet-format-2.4.0.jar\n",
            "spark-3.0.2-bin-hadoop2.7/jars/parquet-encoding-1.10.1.jar\n",
            "spark-3.0.2-bin-hadoop2.7/jars/parquet-common-1.10.1.jar\n",
            "spark-3.0.2-bin-hadoop2.7/jars/parquet-column-1.10.1.jar\n",
            "spark-3.0.2-bin-hadoop2.7/jars/paranamer-2.8.jar\n",
            "spark-3.0.2-bin-hadoop2.7/jars/osgi-resource-locator-1.0.3.jar\n",
            "spark-3.0.2-bin-hadoop2.7/jars/oro-2.0.8.jar\n",
            "spark-3.0.2-bin-hadoop2.7/jars/orc-shims-1.5.10.jar\n",
            "spark-3.0.2-bin-hadoop2.7/jars/orc-mapreduce-1.5.10.jar\n",
            "spark-3.0.2-bin-hadoop2.7/jars/orc-core-1.5.10.jar\n",
            "spark-3.0.2-bin-hadoop2.7/jars/opencsv-2.3.jar\n",
            "spark-3.0.2-bin-hadoop2.7/jars/okio-1.15.0.jar\n",
            "spark-3.0.2-bin-hadoop2.7/jars/okhttp-3.12.6.jar\n",
            "spark-3.0.2-bin-hadoop2.7/jars/objenesis-2.5.1.jar\n",
            "spark-3.0.2-bin-hadoop2.7/jars/netty-all-4.1.47.Final.jar\n",
            "spark-3.0.2-bin-hadoop2.7/jars/minlog-1.3.0.jar\n",
            "spark-3.0.2-bin-hadoop2.7/jars/metrics-jvm-4.1.1.jar\n",
            "spark-3.0.2-bin-hadoop2.7/jars/metrics-json-4.1.1.jar\n",
            "spark-3.0.2-bin-hadoop2.7/jars/metrics-jmx-4.1.1.jar\n",
            "spark-3.0.2-bin-hadoop2.7/jars/metrics-graphite-4.1.1.jar\n",
            "spark-3.0.2-bin-hadoop2.7/jars/metrics-core-4.1.1.jar\n",
            "spark-3.0.2-bin-hadoop2.7/jars/mesos-1.4.0-shaded-protobuf.jar\n",
            "spark-3.0.2-bin-hadoop2.7/jars/macro-compat_2.12-1.1.1.jar\n",
            "spark-3.0.2-bin-hadoop2.7/jars/machinist_2.12-0.6.8.jar\n",
            "spark-3.0.2-bin-hadoop2.7/jars/lz4-java-1.7.1.jar\n",
            "spark-3.0.2-bin-hadoop2.7/jars/logging-interceptor-3.12.6.jar\n",
            "spark-3.0.2-bin-hadoop2.7/jars/log4j-1.2.17.jar\n",
            "spark-3.0.2-bin-hadoop2.7/jars/libthrift-0.12.0.jar\n",
            "spark-3.0.2-bin-hadoop2.7/jars/libfb303-0.9.3.jar\n",
            "spark-3.0.2-bin-hadoop2.7/jars/leveldbjni-all-1.8.jar\n",
            "spark-3.0.2-bin-hadoop2.7/jars/kubernetes-model-common-4.9.2.jar\n",
            "spark-3.0.2-bin-hadoop2.7/jars/kubernetes-model-4.9.2.jar\n",
            "spark-3.0.2-bin-hadoop2.7/jars/kubernetes-client-4.9.2.jar\n",
            "spark-3.0.2-bin-hadoop2.7/jars/kryo-shaded-4.0.2.jar\n",
            "spark-3.0.2-bin-hadoop2.7/jars/jul-to-slf4j-1.7.30.jar\n",
            "spark-3.0.2-bin-hadoop2.7/jars/jta-1.1.jar\n",
            "spark-3.0.2-bin-hadoop2.7/jars/jsr305-3.0.0.jar\n",
            "spark-3.0.2-bin-hadoop2.7/jars/jsp-api-2.1.jar\n",
            "spark-3.0.2-bin-hadoop2.7/jars/json4s-scalap_2.12-3.6.6.jar\n",
            "spark-3.0.2-bin-hadoop2.7/jars/json4s-jackson_2.12-3.6.6.jar\n",
            "spark-3.0.2-bin-hadoop2.7/jars/json4s-core_2.12-3.6.6.jar\n",
            "spark-3.0.2-bin-hadoop2.7/jars/json4s-ast_2.12-3.6.6.jar\n",
            "spark-3.0.2-bin-hadoop2.7/jars/json-1.8.jar\n",
            "spark-3.0.2-bin-hadoop2.7/jars/jpam-1.1.jar\n",
            "spark-3.0.2-bin-hadoop2.7/jars/jodd-core-3.5.2.jar\n",
            "spark-3.0.2-bin-hadoop2.7/jars/joda-time-2.10.5.jar\n",
            "spark-3.0.2-bin-hadoop2.7/jars/jline-2.14.6.jar\n",
            "spark-3.0.2-bin-hadoop2.7/jars/jetty-util-6.1.26.jar\n",
            "spark-3.0.2-bin-hadoop2.7/jars/jetty-sslengine-6.1.26.jar\n",
            "spark-3.0.2-bin-hadoop2.7/jars/jetty-6.1.26.jar\n",
            "spark-3.0.2-bin-hadoop2.7/jars/jersey-server-2.30.jar\n",
            "spark-3.0.2-bin-hadoop2.7/jars/jersey-media-jaxb-2.30.jar\n",
            "spark-3.0.2-bin-hadoop2.7/jars/jersey-hk2-2.30.jar\n",
            "spark-3.0.2-bin-hadoop2.7/jars/jersey-container-servlet-core-2.30.jar\n",
            "spark-3.0.2-bin-hadoop2.7/jars/jersey-container-servlet-2.30.jar\n",
            "spark-3.0.2-bin-hadoop2.7/jars/jersey-common-2.30.jar\n",
            "spark-3.0.2-bin-hadoop2.7/jars/jersey-client-2.30.jar\n",
            "spark-3.0.2-bin-hadoop2.7/jars/jdo-api-3.0.1.jar\n",
            "spark-3.0.2-bin-hadoop2.7/jars/jcl-over-slf4j-1.7.30.jar\n",
            "spark-3.0.2-bin-hadoop2.7/jars/jaxb-runtime-2.3.2.jar\n",
            "spark-3.0.2-bin-hadoop2.7/jars/jaxb-api-2.2.2.jar\n",
            "spark-3.0.2-bin-hadoop2.7/jars/javolution-5.5.1.jar\n",
            "spark-3.0.2-bin-hadoop2.7/jars/javax.servlet-api-3.1.0.jar\n",
            "spark-3.0.2-bin-hadoop2.7/jars/javax.jdo-3.2.0-m3.jar\n",
            "spark-3.0.2-bin-hadoop2.7/jars/javax.inject-1.jar\n",
            "spark-3.0.2-bin-hadoop2.7/jars/javassist-3.25.0-GA.jar\n",
            "spark-3.0.2-bin-hadoop2.7/jars/janino-3.0.16.jar\n",
            "spark-3.0.2-bin-hadoop2.7/jars/jakarta.xml.bind-api-2.3.2.jar\n",
            "spark-3.0.2-bin-hadoop2.7/jars/jakarta.ws.rs-api-2.1.6.jar\n",
            "spark-3.0.2-bin-hadoop2.7/jars/jakarta.validation-api-2.0.2.jar\n",
            "spark-3.0.2-bin-hadoop2.7/jars/jakarta.inject-2.6.1.jar\n",
            "spark-3.0.2-bin-hadoop2.7/jars/jakarta.annotation-api-1.3.5.jar\n",
            "spark-3.0.2-bin-hadoop2.7/jars/jakarta.activation-api-1.2.1.jar\n",
            "spark-3.0.2-bin-hadoop2.7/jars/jackson-xc-1.9.13.jar\n",
            "spark-3.0.2-bin-hadoop2.7/jars/jackson-module-scala_2.12-2.10.0.jar\n",
            "spark-3.0.2-bin-hadoop2.7/jars/jackson-module-paranamer-2.10.0.jar\n",
            "spark-3.0.2-bin-hadoop2.7/jars/jackson-module-jaxb-annotations-2.10.0.jar\n",
            "spark-3.0.2-bin-hadoop2.7/jars/jackson-mapper-asl-1.9.13.jar\n",
            "spark-3.0.2-bin-hadoop2.7/jars/jackson-jaxrs-1.9.13.jar\n",
            "spark-3.0.2-bin-hadoop2.7/jars/jackson-datatype-jsr310-2.10.3.jar\n",
            "spark-3.0.2-bin-hadoop2.7/jars/jackson-dataformat-yaml-2.10.0.jar\n",
            "spark-3.0.2-bin-hadoop2.7/jars/jackson-databind-2.10.0.jar\n",
            "spark-3.0.2-bin-hadoop2.7/jars/jackson-core-asl-1.9.13.jar\n",
            "spark-3.0.2-bin-hadoop2.7/jars/jackson-core-2.10.0.jar\n",
            "spark-3.0.2-bin-hadoop2.7/jars/jackson-annotations-2.10.0.jar\n",
            "spark-3.0.2-bin-hadoop2.7/jars/ivy-2.4.0.jar\n",
            "spark-3.0.2-bin-hadoop2.7/jars/istack-commons-runtime-3.0.8.jar\n",
            "spark-3.0.2-bin-hadoop2.7/jars/httpcore-4.4.12.jar\n",
            "spark-3.0.2-bin-hadoop2.7/jars/httpclient-4.5.6.jar\n",
            "spark-3.0.2-bin-hadoop2.7/jars/htrace-core-3.1.0-incubating.jar\n",
            "spark-3.0.2-bin-hadoop2.7/jars/hk2-utils-2.6.1.jar\n",
            "spark-3.0.2-bin-hadoop2.7/jars/hk2-locator-2.6.1.jar\n",
            "spark-3.0.2-bin-hadoop2.7/jars/hk2-api-2.6.1.jar\n",
            "spark-3.0.2-bin-hadoop2.7/jars/hive-vector-code-gen-2.3.7.jar\n",
            "spark-3.0.2-bin-hadoop2.7/jars/hive-storage-api-2.7.1.jar\n",
            "spark-3.0.2-bin-hadoop2.7/jars/hive-shims-scheduler-2.3.7.jar\n",
            "spark-3.0.2-bin-hadoop2.7/jars/hive-shims-common-2.3.7.jar\n",
            "spark-3.0.2-bin-hadoop2.7/jars/hive-shims-2.3.7.jar\n",
            "spark-3.0.2-bin-hadoop2.7/jars/hive-shims-0.23-2.3.7.jar\n",
            "spark-3.0.2-bin-hadoop2.7/jars/hive-serde-2.3.7.jar\n",
            "spark-3.0.2-bin-hadoop2.7/jars/hive-metastore-2.3.7.jar\n",
            "spark-3.0.2-bin-hadoop2.7/jars/hive-llap-common-2.3.7.jar\n",
            "spark-3.0.2-bin-hadoop2.7/jars/hive-jdbc-2.3.7.jar\n",
            "spark-3.0.2-bin-hadoop2.7/jars/hive-exec-2.3.7-core.jar\n",
            "spark-3.0.2-bin-hadoop2.7/jars/hive-common-2.3.7.jar\n",
            "spark-3.0.2-bin-hadoop2.7/jars/hive-cli-2.3.7.jar\n",
            "spark-3.0.2-bin-hadoop2.7/jars/hive-beeline-2.3.7.jar\n",
            "spark-3.0.2-bin-hadoop2.7/jars/hadoop-yarn-server-web-proxy-2.7.4.jar\n",
            "spark-3.0.2-bin-hadoop2.7/jars/hadoop-yarn-server-common-2.7.4.jar\n",
            "spark-3.0.2-bin-hadoop2.7/jars/hadoop-yarn-common-2.7.4.jar\n",
            "spark-3.0.2-bin-hadoop2.7/jars/hadoop-yarn-client-2.7.4.jar\n",
            "spark-3.0.2-bin-hadoop2.7/jars/hadoop-yarn-api-2.7.4.jar\n",
            "spark-3.0.2-bin-hadoop2.7/jars/hadoop-mapreduce-client-shuffle-2.7.4.jar\n",
            "spark-3.0.2-bin-hadoop2.7/jars/hadoop-mapreduce-client-jobclient-2.7.4.jar\n",
            "spark-3.0.2-bin-hadoop2.7/jars/hadoop-mapreduce-client-core-2.7.4.jar\n",
            "spark-3.0.2-bin-hadoop2.7/jars/hadoop-mapreduce-client-common-2.7.4.jar\n",
            "spark-3.0.2-bin-hadoop2.7/jars/hadoop-mapreduce-client-app-2.7.4.jar\n",
            "spark-3.0.2-bin-hadoop2.7/jars/hadoop-hdfs-2.7.4.jar\n",
            "spark-3.0.2-bin-hadoop2.7/jars/hadoop-common-2.7.4.jar\n",
            "spark-3.0.2-bin-hadoop2.7/jars/hadoop-client-2.7.4.jar\n",
            "spark-3.0.2-bin-hadoop2.7/jars/hadoop-auth-2.7.4.jar\n",
            "spark-3.0.2-bin-hadoop2.7/jars/hadoop-annotations-2.7.4.jar\n",
            "spark-3.0.2-bin-hadoop2.7/jars/guice-servlet-3.0.jar\n",
            "spark-3.0.2-bin-hadoop2.7/jars/guice-3.0.jar\n",
            "spark-3.0.2-bin-hadoop2.7/jars/guava-14.0.1.jar\n",
            "spark-3.0.2-bin-hadoop2.7/jars/gson-2.2.4.jar\n",
            "spark-3.0.2-bin-hadoop2.7/jars/generex-1.0.2.jar\n",
            "spark-3.0.2-bin-hadoop2.7/jars/flatbuffers-java-1.9.0.jar\n",
            "spark-3.0.2-bin-hadoop2.7/jars/dropwizard-metrics-hadoop-metrics2-reporter-0.1.2.jar\n",
            "spark-3.0.2-bin-hadoop2.7/jars/derby-10.12.1.1.jar\n",
            "spark-3.0.2-bin-hadoop2.7/jars/datanucleus-rdbms-4.1.19.jar\n",
            "spark-3.0.2-bin-hadoop2.7/jars/datanucleus-core-4.1.17.jar\n",
            "spark-3.0.2-bin-hadoop2.7/jars/datanucleus-api-jdo-4.2.4.jar\n",
            "spark-3.0.2-bin-hadoop2.7/jars/curator-recipes-2.7.1.jar\n",
            "spark-3.0.2-bin-hadoop2.7/jars/curator-framework-2.7.1.jar\n",
            "spark-3.0.2-bin-hadoop2.7/jars/curator-client-2.7.1.jar\n",
            "spark-3.0.2-bin-hadoop2.7/jars/core-1.1.2.jar\n",
            "spark-3.0.2-bin-hadoop2.7/jars/compress-lzf-1.0.3.jar\n",
            "spark-3.0.2-bin-hadoop2.7/jars/commons-text-1.6.jar\n",
            "spark-3.0.2-bin-hadoop2.7/jars/commons-pool-1.5.4.jar\n",
            "spark-3.0.2-bin-hadoop2.7/jars/commons-net-3.1.jar\n",
            "spark-3.0.2-bin-hadoop2.7/jars/commons-math3-3.4.1.jar\n",
            "spark-3.0.2-bin-hadoop2.7/jars/commons-logging-1.1.3.jar\n",
            "spark-3.0.2-bin-hadoop2.7/jars/commons-lang3-3.9.jar\n",
            "spark-3.0.2-bin-hadoop2.7/jars/commons-lang-2.6.jar\n",
            "spark-3.0.2-bin-hadoop2.7/jars/commons-io-2.4.jar\n",
            "spark-3.0.2-bin-hadoop2.7/jars/commons-httpclient-3.1.jar\n",
            "spark-3.0.2-bin-hadoop2.7/jars/commons-digester-1.8.jar\n",
            "spark-3.0.2-bin-hadoop2.7/jars/commons-dbcp-1.4.jar\n",
            "spark-3.0.2-bin-hadoop2.7/jars/commons-crypto-1.1.0.jar\n",
            "spark-3.0.2-bin-hadoop2.7/jars/commons-configuration-1.6.jar\n",
            "spark-3.0.2-bin-hadoop2.7/jars/commons-compress-1.20.jar\n",
            "spark-3.0.2-bin-hadoop2.7/jars/commons-compiler-3.0.16.jar\n",
            "spark-3.0.2-bin-hadoop2.7/jars/commons-collections-3.2.2.jar\n",
            "spark-3.0.2-bin-hadoop2.7/jars/commons-codec-1.10.jar\n",
            "spark-3.0.2-bin-hadoop2.7/jars/commons-cli-1.2.jar\n",
            "spark-3.0.2-bin-hadoop2.7/jars/commons-beanutils-1.9.4.jar\n",
            "spark-3.0.2-bin-hadoop2.7/jars/chill_2.12-0.9.5.jar\n",
            "spark-3.0.2-bin-hadoop2.7/jars/chill-java-0.9.5.jar\n",
            "spark-3.0.2-bin-hadoop2.7/jars/cats-kernel_2.12-2.0.0-M4.jar\n",
            "spark-3.0.2-bin-hadoop2.7/jars/breeze_2.12-1.0.jar\n",
            "spark-3.0.2-bin-hadoop2.7/jars/breeze-macros_2.12-1.0.jar\n",
            "spark-3.0.2-bin-hadoop2.7/jars/bonecp-0.8.0.RELEASE.jar\n",
            "spark-3.0.2-bin-hadoop2.7/jars/avro-mapred-1.8.2-hadoop2.jar\n",
            "spark-3.0.2-bin-hadoop2.7/jars/avro-ipc-1.8.2.jar\n",
            "spark-3.0.2-bin-hadoop2.7/jars/avro-1.8.2.jar\n",
            "spark-3.0.2-bin-hadoop2.7/jars/automaton-1.11-8.jar\n",
            "spark-3.0.2-bin-hadoop2.7/jars/audience-annotations-0.5.0.jar\n",
            "spark-3.0.2-bin-hadoop2.7/jars/arrow-vector-0.15.1.jar\n",
            "spark-3.0.2-bin-hadoop2.7/jars/arrow-memory-0.15.1.jar\n",
            "spark-3.0.2-bin-hadoop2.7/jars/arrow-format-0.15.1.jar\n",
            "spark-3.0.2-bin-hadoop2.7/jars/arpack_combined_all-0.1.jar\n",
            "spark-3.0.2-bin-hadoop2.7/jars/api-util-1.0.0-M20.jar\n",
            "spark-3.0.2-bin-hadoop2.7/jars/api-asn1-api-1.0.0-M20.jar\n",
            "spark-3.0.2-bin-hadoop2.7/jars/apacheds-kerberos-codec-2.0.0-M15.jar\n",
            "spark-3.0.2-bin-hadoop2.7/jars/apacheds-i18n-2.0.0-M15.jar\n",
            "spark-3.0.2-bin-hadoop2.7/jars/aopalliance-repackaged-2.6.1.jar\n",
            "spark-3.0.2-bin-hadoop2.7/jars/aopalliance-1.0.jar\n",
            "spark-3.0.2-bin-hadoop2.7/jars/antlr4-runtime-4.7.1.jar\n",
            "spark-3.0.2-bin-hadoop2.7/jars/antlr-runtime-3.5.2.jar\n",
            "spark-3.0.2-bin-hadoop2.7/jars/algebra_2.12-2.0.0-M2.jar\n",
            "spark-3.0.2-bin-hadoop2.7/jars/aircompressor-0.10.jar\n",
            "spark-3.0.2-bin-hadoop2.7/jars/activation-1.1.1.jar\n",
            "spark-3.0.2-bin-hadoop2.7/jars/ST4-4.0.4.jar\n",
            "spark-3.0.2-bin-hadoop2.7/jars/RoaringBitmap-0.7.45.jar\n",
            "spark-3.0.2-bin-hadoop2.7/jars/JTransforms-3.1.jar\n",
            "spark-3.0.2-bin-hadoop2.7/jars/JLargeArrays-1.5.jar\n",
            "spark-3.0.2-bin-hadoop2.7/jars/HikariCP-2.5.1.jar\n",
            "spark-3.0.2-bin-hadoop2.7/jars/spark-catalyst_2.12-3.0.2.jar\n",
            "spark-3.0.2-bin-hadoop2.7/jars/snappy-java-1.1.8.2.jar\n",
            "spark-3.0.2-bin-hadoop2.7/jars/snakeyaml-1.24.jar\n",
            "spark-3.0.2-bin-hadoop2.7/jars/slf4j-log4j12-1.7.30.jar\n",
            "spark-3.0.2-bin-hadoop2.7/jars/slf4j-api-1.7.30.jar\n",
            "spark-3.0.2-bin-hadoop2.7/jars/shims-0.7.45.jar\n",
            "spark-3.0.2-bin-hadoop2.7/jars/shapeless_2.12-2.3.3.jar\n",
            "spark-3.0.2-bin-hadoop2.7/jars/scala-xml_2.12-1.2.0.jar\n",
            "spark-3.0.2-bin-hadoop2.7/RELEASE\n"
          ],
          "name": "stdout"
        }
      ]
    },
    {
      "cell_type": "code",
      "metadata": {
        "id": "gwhy0jGA033E"
      },
      "source": [
        "import os\r\n",
        "os.environ[\"JAVA_HOME\"] = \"/usr/lib/jvm/java-8-openjdk-amd64\"\r\n",
        "os.environ[\"SPARK_HOME\"] = \"/content/spark-3.0.2-bin-hadoop2.7\""
      ],
      "execution_count": 13,
      "outputs": []
    },
    {
      "cell_type": "code",
      "metadata": {
        "colab": {
          "base_uri": "https://localhost:8080/",
          "height": 36
        },
        "id": "osHKwJuW0357",
        "outputId": "d3bd878a-3f91-4f41-a119-63f53c7618a9"
      },
      "source": [
        "import findspark\r\n",
        "findspark.init()\r\n",
        "findspark.find()"
      ],
      "execution_count": 14,
      "outputs": [
        {
          "output_type": "execute_result",
          "data": {
            "application/vnd.google.colaboratory.intrinsic+json": {
              "type": "string"
            },
            "text/plain": [
              "'/content/spark-3.0.2-bin-hadoop2.7'"
            ]
          },
          "metadata": {
            "tags": []
          },
          "execution_count": 14
        }
      ]
    },
    {
      "cell_type": "code",
      "metadata": {
        "id": "Yh08C13R03_o"
      },
      "source": [
        "from pyspark.sql import SparkSession\r\n",
        "\r\n",
        "spark = SparkSession.builder\\\r\n",
        "        .master(\"local\")\\\r\n",
        "        .appName(\"Colab\")\\\r\n",
        "        .config('spark.ui.port', '4050')\\\r\n",
        "        .getOrCreate()"
      ],
      "execution_count": 15,
      "outputs": []
    },
    {
      "cell_type": "code",
      "metadata": {
        "colab": {
          "base_uri": "https://localhost:8080/",
          "height": 223
        },
        "id": "USfhbWMhjNdV",
        "outputId": "51df15ce-93b1-4fd5-bd4f-7ff2b22c419e"
      },
      "source": [
        "spark"
      ],
      "execution_count": 16,
      "outputs": [
        {
          "output_type": "execute_result",
          "data": {
            "text/html": [
              "\n",
              "            <div>\n",
              "                <p><b>SparkSession - in-memory</b></p>\n",
              "                \n",
              "        <div>\n",
              "            <p><b>SparkContext</b></p>\n",
              "\n",
              "            <p><a href=\"http://209dc9885f74:4050\">Spark UI</a></p>\n",
              "\n",
              "            <dl>\n",
              "              <dt>Version</dt>\n",
              "                <dd><code>v3.0.2</code></dd>\n",
              "              <dt>Master</dt>\n",
              "                <dd><code>local</code></dd>\n",
              "              <dt>AppName</dt>\n",
              "                <dd><code>Colab</code></dd>\n",
              "            </dl>\n",
              "        </div>\n",
              "        \n",
              "            </div>\n",
              "        "
            ],
            "text/plain": [
              "<pyspark.sql.session.SparkSession at 0x7fd8bc5e4910>"
            ]
          },
          "metadata": {
            "tags": []
          },
          "execution_count": 16
        }
      ]
    },
    {
      "cell_type": "code",
      "metadata": {
        "id": "pzHlNYjQrtgc"
      },
      "source": [
        "from pyspark.sql.functions import *"
      ],
      "execution_count": 17,
      "outputs": []
    },
    {
      "cell_type": "code",
      "metadata": {
        "id": "4uBNWQAfkU_D"
      },
      "source": [
        "data_path = \"/content/googledrive/MyDrive/Covid.csv\"\r\n",
        "support_data_path = \"/content/googledrive/MyDrive/covid_cases.csv\""
      ],
      "execution_count": 18,
      "outputs": []
    },
    {
      "cell_type": "markdown",
      "metadata": {
        "id": "6gvfyod5t4-h"
      },
      "source": [
        "## 6- Load The Datasets Into The Spark Cluster"
      ]
    },
    {
      "cell_type": "code",
      "metadata": {
        "colab": {
          "base_uri": "https://localhost:8080/"
        },
        "id": "eUZIsrxClPAb",
        "outputId": "023fc161-33cc-44ee-9157-3c3b85a13878"
      },
      "source": [
        "covid_move_data = spark.read.csv(data_path,\r\n",
        "                                 header=True,\r\n",
        "                                 inferSchema=True)\r\n",
        "covid_move_data.printSchema()"
      ],
      "execution_count": 19,
      "outputs": [
        {
          "output_type": "stream",
          "text": [
            "root\n",
            " |-- country_region_code: string (nullable = true)\n",
            " |-- country_region: string (nullable = true)\n",
            " |-- sub_region_1: string (nullable = true)\n",
            " |-- sub_region_2: string (nullable = true)\n",
            " |-- metro_area: string (nullable = true)\n",
            " |-- iso_3166_2_code: string (nullable = true)\n",
            " |-- census_fips_code: integer (nullable = true)\n",
            " |-- date: string (nullable = true)\n",
            " |-- retail_and_recreation_percent_change_from_baseline: integer (nullable = true)\n",
            " |-- grocery_and_pharmacy_percent_change_from_baseline: integer (nullable = true)\n",
            " |-- parks_percent_change_from_baseline: integer (nullable = true)\n",
            " |-- transit_stations_percent_change_from_baseline: integer (nullable = true)\n",
            " |-- workplaces_percent_change_from_baseline: integer (nullable = true)\n",
            " |-- residential_percent_change_from_baseline: integer (nullable = true)\n",
            "\n"
          ],
          "name": "stdout"
        }
      ]
    },
    {
      "cell_type": "code",
      "metadata": {
        "colab": {
          "base_uri": "https://localhost:8080/"
        },
        "id": "NUZu3t7F4LlM",
        "outputId": "de243d02-d770-4780-ef1a-b1b7f14ed3b4"
      },
      "source": [
        "covid_move_data.show(5)"
      ],
      "execution_count": 20,
      "outputs": [
        {
          "output_type": "stream",
          "text": [
            "+-------------------+--------------------+------------+------------+----------+---------------+----------------+----------+--------------------------------------------------+-------------------------------------------------+----------------------------------+---------------------------------------------+---------------------------------------+----------------------------------------+\n",
            "|country_region_code|      country_region|sub_region_1|sub_region_2|metro_area|iso_3166_2_code|census_fips_code|      date|retail_and_recreation_percent_change_from_baseline|grocery_and_pharmacy_percent_change_from_baseline|parks_percent_change_from_baseline|transit_stations_percent_change_from_baseline|workplaces_percent_change_from_baseline|residential_percent_change_from_baseline|\n",
            "+-------------------+--------------------+------------+------------+----------+---------------+----------------+----------+--------------------------------------------------+-------------------------------------------------+----------------------------------+---------------------------------------------+---------------------------------------+----------------------------------------+\n",
            "|                 AE|United Arab Emirates|        null|        null|      null|           null|            null|2020-02-15|                                                 0|                                                4|                                 5|                                            0|                                      2|                                       1|\n",
            "|                 AE|United Arab Emirates|        null|        null|      null|           null|            null|2020-02-16|                                                 1|                                                4|                                 4|                                            1|                                      2|                                       1|\n",
            "|                 AE|United Arab Emirates|        null|        null|      null|           null|            null|2020-02-17|                                                -1|                                                1|                                 5|                                            1|                                      2|                                       1|\n",
            "|                 AE|United Arab Emirates|        null|        null|      null|           null|            null|2020-02-18|                                                -2|                                                1|                                 5|                                            0|                                      2|                                       1|\n",
            "|                 AE|United Arab Emirates|        null|        null|      null|           null|            null|2020-02-19|                                                -2|                                                0|                                 4|                                           -1|                                      2|                                       1|\n",
            "+-------------------+--------------------+------------+------------+----------+---------------+----------------+----------+--------------------------------------------------+-------------------------------------------------+----------------------------------+---------------------------------------------+---------------------------------------+----------------------------------------+\n",
            "only showing top 5 rows\n",
            "\n"
          ],
          "name": "stdout"
        }
      ]
    },
    {
      "cell_type": "code",
      "metadata": {
        "id": "6cgeXMKtlTWz"
      },
      "source": [
        "covid_case_data = spark.read.csv(support_data_path, header=True, inferSchema=True)"
      ],
      "execution_count": 21,
      "outputs": []
    },
    {
      "cell_type": "code",
      "metadata": {
        "colab": {
          "base_uri": "https://localhost:8080/"
        },
        "id": "qP_Z0BculgmU",
        "outputId": "b5710e8a-add4-4c44-ad74-6406a4096f50"
      },
      "source": [
        "covid_case_data.show(5)"
      ],
      "execution_count": 22,
      "outputs": [
        {
          "output_type": "stream",
          "text": [
            "+--------+---------+-----------+----------+-----------+---------+------------------+------------+----------+-------------------+-----------------------+---------------------+------------------------------+------------------------+----------------------+-------------------------------+-----------------+------------+------------------------+-------------+-------------------------+---------------------+---------------------------------+----------------------+----------------------------------+-----------+---------+------------------------+----------------------+------------------+-------------------------------+-------------+--------------+-----------+------------------+-----------------+-----------------------+----------------+-------------------------+------------------------------+-----------------------------+-----------------------------------+-------------------------------------+----------------+-----------+------------------+----------+-------------+-------------+--------------+---------------+---------------------+-------------------+--------------+------------+----------------------+--------------------------+---------------+-----------------------+\n",
            "|iso_code|continent|   location|      date|total_cases|new_cases|new_cases_smoothed|total_deaths|new_deaths|new_deaths_smoothed|total_cases_per_million|new_cases_per_million|new_cases_smoothed_per_million|total_deaths_per_million|new_deaths_per_million|new_deaths_smoothed_per_million|reproduction_rate|icu_patients|icu_patients_per_million|hosp_patients|hosp_patients_per_million|weekly_icu_admissions|weekly_icu_admissions_per_million|weekly_hosp_admissions|weekly_hosp_admissions_per_million|total_tests|new_tests|total_tests_per_thousand|new_tests_per_thousand|new_tests_smoothed|new_tests_smoothed_per_thousand|positive_rate|tests_per_case|tests_units|total_vaccinations|people_vaccinated|people_fully_vaccinated|new_vaccinations|new_vaccinations_smoothed|total_vaccinations_per_hundred|people_vaccinated_per_hundred|people_fully_vaccinated_per_hundred|new_vaccinations_smoothed_per_million|stringency_index| population|population_density|median_age|aged_65_older|aged_70_older|gdp_per_capita|extreme_poverty|cardiovasc_death_rate|diabetes_prevalence|female_smokers|male_smokers|handwashing_facilities|hospital_beds_per_thousand|life_expectancy|human_development_index|\n",
            "+--------+---------+-----------+----------+-----------+---------+------------------+------------+----------+-------------------+-----------------------+---------------------+------------------------------+------------------------+----------------------+-------------------------------+-----------------+------------+------------------------+-------------+-------------------------+---------------------+---------------------------------+----------------------+----------------------------------+-----------+---------+------------------------+----------------------+------------------+-------------------------------+-------------+--------------+-----------+------------------+-----------------+-----------------------+----------------+-------------------------+------------------------------+-----------------------------+-----------------------------------+-------------------------------------+----------------+-----------+------------------+----------+-------------+-------------+--------------+---------------+---------------------+-------------------+--------------+------------+----------------------+--------------------------+---------------+-----------------------+\n",
            "|     AFG|     Asia|Afghanistan|2020-02-24|        1.0|      1.0|              null|        null|      null|               null|                  0.026|                0.026|                          null|                    null|                  null|                           null|             null|        null|                    null|         null|                     null|                 null|                             null|                  null|                              null|       null|     null|                    null|                  null|              null|                           null|         null|          null|       null|              null|             null|                   null|            null|                     null|                          null|                         null|                               null|                                 null|            8.33|3.8928341E7|            54.422|      18.6|        2.581|        1.337|      1803.987|           null|              597.029|               9.59|          null|        null|                37.746|                       0.5|          64.83|                  0.498|\n",
            "|     AFG|     Asia|Afghanistan|2020-02-25|        1.0|      0.0|              null|        null|      null|               null|                  0.026|                  0.0|                          null|                    null|                  null|                           null|             null|        null|                    null|         null|                     null|                 null|                             null|                  null|                              null|       null|     null|                    null|                  null|              null|                           null|         null|          null|       null|              null|             null|                   null|            null|                     null|                          null|                         null|                               null|                                 null|            8.33|3.8928341E7|            54.422|      18.6|        2.581|        1.337|      1803.987|           null|              597.029|               9.59|          null|        null|                37.746|                       0.5|          64.83|                  0.498|\n",
            "|     AFG|     Asia|Afghanistan|2020-02-26|        1.0|      0.0|              null|        null|      null|               null|                  0.026|                  0.0|                          null|                    null|                  null|                           null|             null|        null|                    null|         null|                     null|                 null|                             null|                  null|                              null|       null|     null|                    null|                  null|              null|                           null|         null|          null|       null|              null|             null|                   null|            null|                     null|                          null|                         null|                               null|                                 null|            8.33|3.8928341E7|            54.422|      18.6|        2.581|        1.337|      1803.987|           null|              597.029|               9.59|          null|        null|                37.746|                       0.5|          64.83|                  0.498|\n",
            "|     AFG|     Asia|Afghanistan|2020-02-27|        1.0|      0.0|              null|        null|      null|               null|                  0.026|                  0.0|                          null|                    null|                  null|                           null|             null|        null|                    null|         null|                     null|                 null|                             null|                  null|                              null|       null|     null|                    null|                  null|              null|                           null|         null|          null|       null|              null|             null|                   null|            null|                     null|                          null|                         null|                               null|                                 null|            8.33|3.8928341E7|            54.422|      18.6|        2.581|        1.337|      1803.987|           null|              597.029|               9.59|          null|        null|                37.746|                       0.5|          64.83|                  0.498|\n",
            "|     AFG|     Asia|Afghanistan|2020-02-28|        1.0|      0.0|              null|        null|      null|               null|                  0.026|                  0.0|                          null|                    null|                  null|                           null|             null|        null|                    null|         null|                     null|                 null|                             null|                  null|                              null|       null|     null|                    null|                  null|              null|                           null|         null|          null|       null|              null|             null|                   null|            null|                     null|                          null|                         null|                               null|                                 null|            8.33|3.8928341E7|            54.422|      18.6|        2.581|        1.337|      1803.987|           null|              597.029|               9.59|          null|        null|                37.746|                       0.5|          64.83|                  0.498|\n",
            "+--------+---------+-----------+----------+-----------+---------+------------------+------------+----------+-------------------+-----------------------+---------------------+------------------------------+------------------------+----------------------+-------------------------------+-----------------+------------+------------------------+-------------+-------------------------+---------------------+---------------------------------+----------------------+----------------------------------+-----------+---------+------------------------+----------------------+------------------+-------------------------------+-------------+--------------+-----------+------------------+-----------------+-----------------------+----------------+-------------------------+------------------------------+-----------------------------+-----------------------------------+-------------------------------------+----------------+-----------+------------------+----------+-------------+-------------+--------------+---------------+---------------------+-------------------+--------------+------------+----------------------+--------------------------+---------------+-----------------------+\n",
            "only showing top 5 rows\n",
            "\n"
          ],
          "name": "stdout"
        }
      ]
    },
    {
      "cell_type": "code",
      "metadata": {
        "colab": {
          "base_uri": "https://localhost:8080/"
        },
        "id": "znpXQZAqXp5t",
        "outputId": "4b483edb-4748-4684-e3eb-142d2a5ecf44"
      },
      "source": [
        "# Check the dimension\r\n",
        "print((covid_case_data.count(), len(covid_case_data.columns)))"
      ],
      "execution_count": 23,
      "outputs": [
        {
          "output_type": "stream",
          "text": [
            "(62407, 59)\n"
          ],
          "name": "stdout"
        }
      ]
    },
    {
      "cell_type": "code",
      "metadata": {
        "colab": {
          "base_uri": "https://localhost:8080/"
        },
        "id": "Zm0dy5akYAwm",
        "outputId": "f5190e54-2b69-4441-e5b2-3987e03121e1"
      },
      "source": [
        "# Check the types \r\n",
        "for name, dtype in covid_case_data.dtypes:\r\n",
        "    print(name, dtype)"
      ],
      "execution_count": 24,
      "outputs": [
        {
          "output_type": "stream",
          "text": [
            "iso_code string\n",
            "continent string\n",
            "location string\n",
            "date string\n",
            "total_cases double\n",
            "new_cases double\n",
            "new_cases_smoothed double\n",
            "total_deaths double\n",
            "new_deaths double\n",
            "new_deaths_smoothed double\n",
            "total_cases_per_million double\n",
            "new_cases_per_million double\n",
            "new_cases_smoothed_per_million double\n",
            "total_deaths_per_million double\n",
            "new_deaths_per_million double\n",
            "new_deaths_smoothed_per_million double\n",
            "reproduction_rate double\n",
            "icu_patients double\n",
            "icu_patients_per_million double\n",
            "hosp_patients double\n",
            "hosp_patients_per_million double\n",
            "weekly_icu_admissions double\n",
            "weekly_icu_admissions_per_million double\n",
            "weekly_hosp_admissions double\n",
            "weekly_hosp_admissions_per_million double\n",
            "total_tests double\n",
            "new_tests double\n",
            "total_tests_per_thousand double\n",
            "new_tests_per_thousand double\n",
            "new_tests_smoothed double\n",
            "new_tests_smoothed_per_thousand double\n",
            "positive_rate double\n",
            "tests_per_case double\n",
            "tests_units string\n",
            "total_vaccinations double\n",
            "people_vaccinated double\n",
            "people_fully_vaccinated double\n",
            "new_vaccinations double\n",
            "new_vaccinations_smoothed double\n",
            "total_vaccinations_per_hundred double\n",
            "people_vaccinated_per_hundred double\n",
            "people_fully_vaccinated_per_hundred double\n",
            "new_vaccinations_smoothed_per_million double\n",
            "stringency_index double\n",
            "population double\n",
            "population_density double\n",
            "median_age double\n",
            "aged_65_older double\n",
            "aged_70_older double\n",
            "gdp_per_capita double\n",
            "extreme_poverty double\n",
            "cardiovasc_death_rate double\n",
            "diabetes_prevalence double\n",
            "female_smokers double\n",
            "male_smokers double\n",
            "handwashing_facilities double\n",
            "hospital_beds_per_thousand double\n",
            "life_expectancy double\n",
            "human_development_index double\n"
          ],
          "name": "stdout"
        }
      ]
    },
    {
      "cell_type": "code",
      "metadata": {
        "id": "J0C-24Cpmpp7"
      },
      "source": [
        "all_countries_move_data = covid_move_data.selectExpr(\"country_region\").distinct().collect()"
      ],
      "execution_count": 25,
      "outputs": []
    },
    {
      "cell_type": "code",
      "metadata": {
        "id": "QA8M7uO94j92"
      },
      "source": [
        "all_countries_case_data = covid_case_data.selectExpr(\"location\").distinct().collect()"
      ],
      "execution_count": 26,
      "outputs": []
    },
    {
      "cell_type": "markdown",
      "metadata": {
        "id": "L_Ew0Q05xkn8"
      },
      "source": [
        "## 7- Connecting Australia and Brazil."
      ]
    },
    {
      "cell_type": "markdown",
      "metadata": {
        "id": "H7pYtPeQ2KMd"
      },
      "source": [
        "### How will I connect these two datasets to answer my research question? \r\n",
        "As both data sets are time-series, I use the date to connect the two datasets together. That’s the most efficient way to connect them together. In addition, we filter the data based on the required countries which are the Australia and Brazil. To do so, we use the “Location” column in the cc dataset and ‘country-region” in the mobility dataset.  \r\n",
        "\r\n",
        "\r\n",
        "### Steps I will take to find out the useful subset of the datasets:\r\n",
        "1- Filter the cc data set based on “Location” column and choose the Australia and Brazil.\r\n",
        "2- Filter the mobility data set based on “country-region” and choose the Australia and Brazil. \r\n",
        "3- Filter the mobility data set for transit_stations_percent_change_from_baseline for Australia and Brazil. \r\n"
      ]
    },
    {
      "cell_type": "code",
      "metadata": {
        "colab": {
          "base_uri": "https://localhost:8080/"
        },
        "id": "jqCH7n8YnrSk",
        "outputId": "367b403e-6395-4e16-c366-d0510ebb661f"
      },
      "source": [
        "dateFormat = \"yyyy-MM-dd\"\r\n",
        "covid_move_data = covid_move_data.withColumn(\"date\", to_timestamp(col(\"date\"), dateFormat))\r\n",
        "covid_move_data.show(2)"
      ],
      "execution_count": 27,
      "outputs": [
        {
          "output_type": "stream",
          "text": [
            "+-------------------+--------------------+------------+------------+----------+---------------+----------------+-------------------+--------------------------------------------------+-------------------------------------------------+----------------------------------+---------------------------------------------+---------------------------------------+----------------------------------------+\n",
            "|country_region_code|      country_region|sub_region_1|sub_region_2|metro_area|iso_3166_2_code|census_fips_code|               date|retail_and_recreation_percent_change_from_baseline|grocery_and_pharmacy_percent_change_from_baseline|parks_percent_change_from_baseline|transit_stations_percent_change_from_baseline|workplaces_percent_change_from_baseline|residential_percent_change_from_baseline|\n",
            "+-------------------+--------------------+------------+------------+----------+---------------+----------------+-------------------+--------------------------------------------------+-------------------------------------------------+----------------------------------+---------------------------------------------+---------------------------------------+----------------------------------------+\n",
            "|                 AE|United Arab Emirates|        null|        null|      null|           null|            null|2020-02-15 00:00:00|                                                 0|                                                4|                                 5|                                            0|                                      2|                                       1|\n",
            "|                 AE|United Arab Emirates|        null|        null|      null|           null|            null|2020-02-16 00:00:00|                                                 1|                                                4|                                 4|                                            1|                                      2|                                       1|\n",
            "+-------------------+--------------------+------------+------------+----------+---------------+----------------+-------------------+--------------------------------------------------+-------------------------------------------------+----------------------------------+---------------------------------------------+---------------------------------------+----------------------------------------+\n",
            "only showing top 2 rows\n",
            "\n"
          ],
          "name": "stdout"
        }
      ]
    },
    {
      "cell_type": "code",
      "metadata": {
        "colab": {
          "base_uri": "https://localhost:8080/"
        },
        "id": "1x28wHCsoy8D",
        "outputId": "552d3568-2c00-46fe-c40c-d7a6f8a8de9e"
      },
      "source": [
        "dateFormat = \"yyyy-MM-dd\"\r\n",
        "covid_case_data = covid_case_data.withColumn(\"date\", to_timestamp(col(\"date\"), dateFormat))\r\n",
        "covid_case_data.show(2)"
      ],
      "execution_count": 28,
      "outputs": [
        {
          "output_type": "stream",
          "text": [
            "+--------+---------+-----------+-------------------+-----------+---------+------------------+------------+----------+-------------------+-----------------------+---------------------+------------------------------+------------------------+----------------------+-------------------------------+-----------------+------------+------------------------+-------------+-------------------------+---------------------+---------------------------------+----------------------+----------------------------------+-----------+---------+------------------------+----------------------+------------------+-------------------------------+-------------+--------------+-----------+------------------+-----------------+-----------------------+----------------+-------------------------+------------------------------+-----------------------------+-----------------------------------+-------------------------------------+----------------+-----------+------------------+----------+-------------+-------------+--------------+---------------+---------------------+-------------------+--------------+------------+----------------------+--------------------------+---------------+-----------------------+\n",
            "|iso_code|continent|   location|               date|total_cases|new_cases|new_cases_smoothed|total_deaths|new_deaths|new_deaths_smoothed|total_cases_per_million|new_cases_per_million|new_cases_smoothed_per_million|total_deaths_per_million|new_deaths_per_million|new_deaths_smoothed_per_million|reproduction_rate|icu_patients|icu_patients_per_million|hosp_patients|hosp_patients_per_million|weekly_icu_admissions|weekly_icu_admissions_per_million|weekly_hosp_admissions|weekly_hosp_admissions_per_million|total_tests|new_tests|total_tests_per_thousand|new_tests_per_thousand|new_tests_smoothed|new_tests_smoothed_per_thousand|positive_rate|tests_per_case|tests_units|total_vaccinations|people_vaccinated|people_fully_vaccinated|new_vaccinations|new_vaccinations_smoothed|total_vaccinations_per_hundred|people_vaccinated_per_hundred|people_fully_vaccinated_per_hundred|new_vaccinations_smoothed_per_million|stringency_index| population|population_density|median_age|aged_65_older|aged_70_older|gdp_per_capita|extreme_poverty|cardiovasc_death_rate|diabetes_prevalence|female_smokers|male_smokers|handwashing_facilities|hospital_beds_per_thousand|life_expectancy|human_development_index|\n",
            "+--------+---------+-----------+-------------------+-----------+---------+------------------+------------+----------+-------------------+-----------------------+---------------------+------------------------------+------------------------+----------------------+-------------------------------+-----------------+------------+------------------------+-------------+-------------------------+---------------------+---------------------------------+----------------------+----------------------------------+-----------+---------+------------------------+----------------------+------------------+-------------------------------+-------------+--------------+-----------+------------------+-----------------+-----------------------+----------------+-------------------------+------------------------------+-----------------------------+-----------------------------------+-------------------------------------+----------------+-----------+------------------+----------+-------------+-------------+--------------+---------------+---------------------+-------------------+--------------+------------+----------------------+--------------------------+---------------+-----------------------+\n",
            "|     AFG|     Asia|Afghanistan|2020-02-24 00:00:00|        1.0|      1.0|              null|        null|      null|               null|                  0.026|                0.026|                          null|                    null|                  null|                           null|             null|        null|                    null|         null|                     null|                 null|                             null|                  null|                              null|       null|     null|                    null|                  null|              null|                           null|         null|          null|       null|              null|             null|                   null|            null|                     null|                          null|                         null|                               null|                                 null|            8.33|3.8928341E7|            54.422|      18.6|        2.581|        1.337|      1803.987|           null|              597.029|               9.59|          null|        null|                37.746|                       0.5|          64.83|                  0.498|\n",
            "|     AFG|     Asia|Afghanistan|2020-02-25 00:00:00|        1.0|      0.0|              null|        null|      null|               null|                  0.026|                  0.0|                          null|                    null|                  null|                           null|             null|        null|                    null|         null|                     null|                 null|                             null|                  null|                              null|       null|     null|                    null|                  null|              null|                           null|         null|          null|       null|              null|             null|                   null|            null|                     null|                          null|                         null|                               null|                                 null|            8.33|3.8928341E7|            54.422|      18.6|        2.581|        1.337|      1803.987|           null|              597.029|               9.59|          null|        null|                37.746|                       0.5|          64.83|                  0.498|\n",
            "+--------+---------+-----------+-------------------+-----------+---------+------------------+------------+----------+-------------------+-----------------------+---------------------+------------------------------+------------------------+----------------------+-------------------------------+-----------------+------------+------------------------+-------------+-------------------------+---------------------+---------------------------------+----------------------+----------------------------------+-----------+---------+------------------------+----------------------+------------------+-------------------------------+-------------+--------------+-----------+------------------+-----------------+-----------------------+----------------+-------------------------+------------------------------+-----------------------------+-----------------------------------+-------------------------------------+----------------+-----------+------------------+----------+-------------+-------------+--------------+---------------+---------------------+-------------------+--------------+------------+----------------------+--------------------------+---------------+-----------------------+\n",
            "only showing top 2 rows\n",
            "\n"
          ],
          "name": "stdout"
        }
      ]
    },
    {
      "cell_type": "code",
      "metadata": {
        "colab": {
          "base_uri": "https://localhost:8080/"
        },
        "id": "Bf-d3-YYrYzi",
        "outputId": "f2fe8380-96f5-4a51-ca99-6fe2aa48658d"
      },
      "source": [
        "australia_covid_move_data = covid_move_data.select(\"*\").where(\"country_region == 'Australia'\")\r\n",
        "australia_covid_move_data.show(2)"
      ],
      "execution_count": 29,
      "outputs": [
        {
          "output_type": "stream",
          "text": [
            "+-------------------+--------------+------------+------------+----------+---------------+----------------+-------------------+--------------------------------------------------+-------------------------------------------------+----------------------------------+---------------------------------------------+---------------------------------------+----------------------------------------+\n",
            "|country_region_code|country_region|sub_region_1|sub_region_2|metro_area|iso_3166_2_code|census_fips_code|               date|retail_and_recreation_percent_change_from_baseline|grocery_and_pharmacy_percent_change_from_baseline|parks_percent_change_from_baseline|transit_stations_percent_change_from_baseline|workplaces_percent_change_from_baseline|residential_percent_change_from_baseline|\n",
            "+-------------------+--------------+------------+------------+----------+---------------+----------------+-------------------+--------------------------------------------------+-------------------------------------------------+----------------------------------+---------------------------------------------+---------------------------------------+----------------------------------------+\n",
            "|                 AU|     Australia|        null|        null|      null|           null|            null|2020-02-15 00:00:00|                                                 4|                                                3|                                -2|                                            3|                                      3|                                       0|\n",
            "|                 AU|     Australia|        null|        null|      null|           null|            null|2020-02-16 00:00:00|                                                 3|                                                5|                                 9|                                            3|                                     -1|                                       0|\n",
            "+-------------------+--------------+------------+------------+----------+---------------+----------------+-------------------+--------------------------------------------------+-------------------------------------------------+----------------------------------+---------------------------------------------+---------------------------------------+----------------------------------------+\n",
            "only showing top 2 rows\n",
            "\n"
          ],
          "name": "stdout"
        }
      ]
    },
    {
      "cell_type": "code",
      "metadata": {
        "colab": {
          "base_uri": "https://localhost:8080/"
        },
        "id": "NniinIpa6tRm",
        "outputId": "d1d0ea5a-1f10-4b2c-c8cc-a56c2b4e53a3"
      },
      "source": [
        "brazil_covid_move_data = covid_move_data.select(\"*\").where(\"country_region == 'Brazil'\")\r\n",
        "brazil_covid_move_data.show(2)"
      ],
      "execution_count": 30,
      "outputs": [
        {
          "output_type": "stream",
          "text": [
            "+-------------------+--------------+------------+------------+----------+---------------+----------------+-------------------+--------------------------------------------------+-------------------------------------------------+----------------------------------+---------------------------------------------+---------------------------------------+----------------------------------------+\n",
            "|country_region_code|country_region|sub_region_1|sub_region_2|metro_area|iso_3166_2_code|census_fips_code|               date|retail_and_recreation_percent_change_from_baseline|grocery_and_pharmacy_percent_change_from_baseline|parks_percent_change_from_baseline|transit_stations_percent_change_from_baseline|workplaces_percent_change_from_baseline|residential_percent_change_from_baseline|\n",
            "+-------------------+--------------+------------+------------+----------+---------------+----------------+-------------------+--------------------------------------------------+-------------------------------------------------+----------------------------------+---------------------------------------------+---------------------------------------+----------------------------------------+\n",
            "|                 BR|        Brazil|        null|        null|      null|           null|            null|2020-02-15 00:00:00|                                                 5|                                                4|                                -5|                                            8|                                      6|                                       0|\n",
            "|                 BR|        Brazil|        null|        null|      null|           null|            null|2020-02-16 00:00:00|                                                 2|                                                3|                               -13|                                            3|                                      0|                                       1|\n",
            "+-------------------+--------------+------------+------------+----------+---------------+----------------+-------------------+--------------------------------------------------+-------------------------------------------------+----------------------------------+---------------------------------------------+---------------------------------------+----------------------------------------+\n",
            "only showing top 2 rows\n",
            "\n"
          ],
          "name": "stdout"
        }
      ]
    },
    {
      "cell_type": "code",
      "metadata": {
        "colab": {
          "base_uri": "https://localhost:8080/"
        },
        "id": "Lqv89XwI6duQ",
        "outputId": "8dbf5b70-9248-4fd7-d154-31887e472cca"
      },
      "source": [
        "australia_covid_case_data = covid_case_data.select(\"*\").where(\"location == 'Australia'\")\r\n",
        "australia_covid_case_data.show(2)"
      ],
      "execution_count": 31,
      "outputs": [
        {
          "output_type": "stream",
          "text": [
            "+--------+---------+---------+-------------------+-----------+---------+------------------+------------+----------+-------------------+-----------------------+---------------------+------------------------------+------------------------+----------------------+-------------------------------+-----------------+------------+------------------------+-------------+-------------------------+---------------------+---------------------------------+----------------------+----------------------------------+-----------+---------+------------------------+----------------------+------------------+-------------------------------+-------------+--------------+-----------+------------------+-----------------+-----------------------+----------------+-------------------------+------------------------------+-----------------------------+-----------------------------------+-------------------------------------+----------------+-----------+------------------+----------+-------------+-------------+--------------+---------------+---------------------+-------------------+--------------+------------+----------------------+--------------------------+---------------+-----------------------+\n",
            "|iso_code|continent| location|               date|total_cases|new_cases|new_cases_smoothed|total_deaths|new_deaths|new_deaths_smoothed|total_cases_per_million|new_cases_per_million|new_cases_smoothed_per_million|total_deaths_per_million|new_deaths_per_million|new_deaths_smoothed_per_million|reproduction_rate|icu_patients|icu_patients_per_million|hosp_patients|hosp_patients_per_million|weekly_icu_admissions|weekly_icu_admissions_per_million|weekly_hosp_admissions|weekly_hosp_admissions_per_million|total_tests|new_tests|total_tests_per_thousand|new_tests_per_thousand|new_tests_smoothed|new_tests_smoothed_per_thousand|positive_rate|tests_per_case|tests_units|total_vaccinations|people_vaccinated|people_fully_vaccinated|new_vaccinations|new_vaccinations_smoothed|total_vaccinations_per_hundred|people_vaccinated_per_hundred|people_fully_vaccinated_per_hundred|new_vaccinations_smoothed_per_million|stringency_index| population|population_density|median_age|aged_65_older|aged_70_older|gdp_per_capita|extreme_poverty|cardiovasc_death_rate|diabetes_prevalence|female_smokers|male_smokers|handwashing_facilities|hospital_beds_per_thousand|life_expectancy|human_development_index|\n",
            "+--------+---------+---------+-------------------+-----------+---------+------------------+------------+----------+-------------------+-----------------------+---------------------+------------------------------+------------------------+----------------------+-------------------------------+-----------------+------------+------------------------+-------------+-------------------------+---------------------+---------------------------------+----------------------+----------------------------------+-----------+---------+------------------------+----------------------+------------------+-------------------------------+-------------+--------------+-----------+------------------+-----------------+-----------------------+----------------+-------------------------+------------------------------+-----------------------------+-----------------------------------+-------------------------------------+----------------+-----------+------------------+----------+-------------+-------------+--------------+---------------+---------------------+-------------------+--------------+------------+----------------------+--------------------------+---------------+-----------------------+\n",
            "|     AUS|  Oceania|Australia|2020-01-26 00:00:00|        4.0|      4.0|              null|        null|      null|               null|                  0.157|                0.157|                          null|                    null|                  null|                           null|             null|        null|                    null|         null|                     null|                 null|                             null|                  null|                              null|       null|     null|                    null|                  null|              null|                           null|         null|          null|       null|              null|             null|                   null|            null|                     null|                          null|                         null|                               null|                                 null|           11.11|2.5499881E7|             3.202|      37.9|       15.504|       10.129|      44648.71|            0.5|              107.791|               5.07|          13.0|        16.5|                  null|                      3.84|          83.44|                  0.939|\n",
            "|     AUS|  Oceania|Australia|2020-01-27 00:00:00|        5.0|      1.0|              null|        null|      null|               null|                  0.196|                0.039|                          null|                    null|                  null|                           null|             null|        null|                    null|         null|                     null|                 null|                             null|                  null|                              null|       null|     null|                    null|                  null|              null|                           null|         null|          null|       null|              null|             null|                   null|            null|                     null|                          null|                         null|                               null|                                 null|           11.11|2.5499881E7|             3.202|      37.9|       15.504|       10.129|      44648.71|            0.5|              107.791|               5.07|          13.0|        16.5|                  null|                      3.84|          83.44|                  0.939|\n",
            "+--------+---------+---------+-------------------+-----------+---------+------------------+------------+----------+-------------------+-----------------------+---------------------+------------------------------+------------------------+----------------------+-------------------------------+-----------------+------------+------------------------+-------------+-------------------------+---------------------+---------------------------------+----------------------+----------------------------------+-----------+---------+------------------------+----------------------+------------------+-------------------------------+-------------+--------------+-----------+------------------+-----------------+-----------------------+----------------+-------------------------+------------------------------+-----------------------------+-----------------------------------+-------------------------------------+----------------+-----------+------------------+----------+-------------+-------------+--------------+---------------+---------------------+-------------------+--------------+------------+----------------------+--------------------------+---------------+-----------------------+\n",
            "only showing top 2 rows\n",
            "\n"
          ],
          "name": "stdout"
        }
      ]
    },
    {
      "cell_type": "code",
      "metadata": {
        "colab": {
          "base_uri": "https://localhost:8080/"
        },
        "id": "R4nJ-QSx6wFv",
        "outputId": "3b7b9d9c-fcc9-4e1e-fa52-f275b37a050b"
      },
      "source": [
        "brazil_covid_case_data = covid_case_data.select(\"*\").where(\"location == 'Brazil'\")\r\n",
        "brazil_covid_case_data.show(2)"
      ],
      "execution_count": 32,
      "outputs": [
        {
          "output_type": "stream",
          "text": [
            "+--------+-------------+--------+-------------------+-----------+---------+------------------+------------+----------+-------------------+-----------------------+---------------------+------------------------------+------------------------+----------------------+-------------------------------+-----------------+------------+------------------------+-------------+-------------------------+---------------------+---------------------------------+----------------------+----------------------------------+-----------+---------+------------------------+----------------------+------------------+-------------------------------+-------------+--------------+-----------+------------------+-----------------+-----------------------+----------------+-------------------------+------------------------------+-----------------------------+-----------------------------------+-------------------------------------+----------------+------------+------------------+----------+-------------+-------------+--------------+---------------+---------------------+-------------------+--------------+------------+----------------------+--------------------------+---------------+-----------------------+\n",
            "|iso_code|    continent|location|               date|total_cases|new_cases|new_cases_smoothed|total_deaths|new_deaths|new_deaths_smoothed|total_cases_per_million|new_cases_per_million|new_cases_smoothed_per_million|total_deaths_per_million|new_deaths_per_million|new_deaths_smoothed_per_million|reproduction_rate|icu_patients|icu_patients_per_million|hosp_patients|hosp_patients_per_million|weekly_icu_admissions|weekly_icu_admissions_per_million|weekly_hosp_admissions|weekly_hosp_admissions_per_million|total_tests|new_tests|total_tests_per_thousand|new_tests_per_thousand|new_tests_smoothed|new_tests_smoothed_per_thousand|positive_rate|tests_per_case|tests_units|total_vaccinations|people_vaccinated|people_fully_vaccinated|new_vaccinations|new_vaccinations_smoothed|total_vaccinations_per_hundred|people_vaccinated_per_hundred|people_fully_vaccinated_per_hundred|new_vaccinations_smoothed_per_million|stringency_index|  population|population_density|median_age|aged_65_older|aged_70_older|gdp_per_capita|extreme_poverty|cardiovasc_death_rate|diabetes_prevalence|female_smokers|male_smokers|handwashing_facilities|hospital_beds_per_thousand|life_expectancy|human_development_index|\n",
            "+--------+-------------+--------+-------------------+-----------+---------+------------------+------------+----------+-------------------+-----------------------+---------------------+------------------------------+------------------------+----------------------+-------------------------------+-----------------+------------+------------------------+-------------+-------------------------+---------------------+---------------------------------+----------------------+----------------------------------+-----------+---------+------------------------+----------------------+------------------+-------------------------------+-------------+--------------+-----------+------------------+-----------------+-----------------------+----------------+-------------------------+------------------------------+-----------------------------+-----------------------------------+-------------------------------------+----------------+------------+------------------+----------+-------------+-------------+--------------+---------------+---------------------+-------------------+--------------+------------+----------------------+--------------------------+---------------+-----------------------+\n",
            "|     BRA|South America|  Brazil|2020-02-26 00:00:00|        1.0|      1.0|              null|        null|      null|               null|                  0.005|                0.005|                          null|                    null|                  null|                           null|             null|        null|                    null|         null|                     null|                 null|                             null|                  null|                              null|       null|     null|                    null|                  null|              null|                           null|         null|          null|       null|              null|             null|                   null|            null|                     null|                          null|                         null|                               null|                                 null|            5.56|2.12559409E8|             25.04|      33.5|        8.552|         5.06|     14103.452|            3.4|              177.961|               8.11|          10.1|        17.9|                  null|                       2.2|          75.88|                  0.759|\n",
            "|     BRA|South America|  Brazil|2020-02-27 00:00:00|        1.0|      0.0|              null|        null|      null|               null|                  0.005|                  0.0|                          null|                    null|                  null|                           null|             null|        null|                    null|         null|                     null|                 null|                             null|                  null|                              null|       null|     null|                    null|                  null|              null|                           null|         null|          null|       null|              null|             null|                   null|            null|                     null|                          null|                         null|                               null|                                 null|            5.56|2.12559409E8|             25.04|      33.5|        8.552|         5.06|     14103.452|            3.4|              177.961|               8.11|          10.1|        17.9|                  null|                       2.2|          75.88|                  0.759|\n",
            "+--------+-------------+--------+-------------------+-----------+---------+------------------+------------+----------+-------------------+-----------------------+---------------------+------------------------------+------------------------+----------------------+-------------------------------+-----------------+------------+------------------------+-------------+-------------------------+---------------------+---------------------------------+----------------------+----------------------------------+-----------+---------+------------------------+----------------------+------------------+-------------------------------+-------------+--------------+-----------+------------------+-----------------+-----------------------+----------------+-------------------------+------------------------------+-----------------------------+-----------------------------------+-------------------------------------+----------------+------------+------------------+----------+-------------+-------------+--------------+---------------+---------------------+-------------------+--------------+------------+----------------------+--------------------------+---------------+-----------------------+\n",
            "only showing top 2 rows\n",
            "\n"
          ],
          "name": "stdout"
        }
      ]
    },
    {
      "cell_type": "code",
      "metadata": {
        "id": "_cCDm1ZTYYhm"
      },
      "source": [
        "aus_grp_move = australia_covid_move_data\\\r\n",
        ".filter(australia_covid_move_data.sub_region_1.isNull())\\\r\n",
        ".selectExpr(\"date\",\"transit_stations_percent_change_from_baseline as aus_transit\")\r\n",
        "\r\n",
        "brazil_grp_move = brazil_covid_move_data\\\r\n",
        ".filter(brazil_covid_move_data.sub_region_1.isNull())\\\r\n",
        ".selectExpr(\"date\",\"transit_stations_percent_change_from_baseline as brazil_transit\")"
      ],
      "execution_count": 33,
      "outputs": []
    },
    {
      "cell_type": "code",
      "metadata": {
        "id": "kusN_MKVu7oj"
      },
      "source": [
        "australia_grp_move_pd = aus_grp_move.toPandas()\r\n",
        "brazil_grp_move_pd = brazil_grp_move.toPandas()"
      ],
      "execution_count": 34,
      "outputs": []
    },
    {
      "cell_type": "code",
      "metadata": {
        "id": "eSnA2lQWszL9"
      },
      "source": [
        "australia_covid_case_data_pd = australia_covid_case_data.toPandas()\r\n",
        "brazil_covid_case_data_pd = brazil_covid_case_data.toPandas()"
      ],
      "execution_count": 35,
      "outputs": []
    },
    {
      "cell_type": "markdown",
      "metadata": {
        "id": "Vz2wZp6a2eN-"
      },
      "source": [
        "## 8- Visualization "
      ]
    },
    {
      "cell_type": "code",
      "metadata": {
        "colab": {
          "base_uri": "https://localhost:8080/",
          "height": 310
        },
        "id": "_ke_iy6sZpUY",
        "outputId": "a9ce1141-2be2-4fa5-fecf-ed7c049279f4"
      },
      "source": [
        "ax = australia_grp_move_pd.plot(\"date\", \"aus_transit\")\r\n",
        "brazil_grp_move_pd.plot(\"date\", \"brazil_transit\", ax = ax)"
      ],
      "execution_count": 36,
      "outputs": [
        {
          "output_type": "execute_result",
          "data": {
            "text/plain": [
              "<matplotlib.axes._subplots.AxesSubplot at 0x7fd8bc73cc90>"
            ]
          },
          "metadata": {
            "tags": []
          },
          "execution_count": 36
        },
        {
          "output_type": "display_data",
          "data": {
            "image/png": "[encoded data removed]",
            "text/plain": [
              "<Figure size 432x288 with 1 Axes>"
            ]
          },
          "metadata": {
            "tags": [],
            "needs_background": "light"
          }
        }
      ]
    },
    {
      "cell_type": "markdown",
      "metadata": {
        "id": "sIex_HyCxJ8a"
      },
      "source": [
        "We can see in the above graph that how the imposed restrictions have impacted the movement in the stations from baseline in Australia and Brazil.  For both countries, it reduced significantly in March 2020, but it has increased for Brazil since then and passed the baseline by more than 20% in November 2020. For Australia, it’s still below the baseline. "
      ]
    },
    {
      "cell_type": "code",
      "metadata": {
        "id": "8ogYnMBXcRwG"
      },
      "source": [
        "australia_covid_case_data_pd['new_cases_scale_AUS'] = australia_covid_case_data_pd['new_cases']/australia_covid_case_data_pd['new_cases'].abs().max()\r\n",
        "brazil_covid_case_data_pd['new_cases_scale_BR'] = brazil_covid_case_data_pd['new_cases']/brazil_covid_case_data_pd['new_cases'].abs().max()\r\n"
      ],
      "execution_count": 37,
      "outputs": []
    },
    {
      "cell_type": "code",
      "metadata": {
        "colab": {
          "base_uri": "https://localhost:8080/",
          "height": 310
        },
        "id": "pWYBraD6vSZL",
        "outputId": "126d8bd4-52f6-4b05-ae45-e8d26db7af81"
      },
      "source": [
        "ax = australia_covid_case_data_pd.plot(\"date\", \"new_cases_scale_AUS\")\r\n",
        "brazil_covid_case_data_pd.plot(\"date\", \"new_cases_scale_BR\", ax = ax)"
      ],
      "execution_count": 38,
      "outputs": [
        {
          "output_type": "execute_result",
          "data": {
            "text/plain": [
              "<matplotlib.axes._subplots.AxesSubplot at 0x7fd8ba490750>"
            ]
          },
          "metadata": {
            "tags": []
          },
          "execution_count": 38
        },
        {
          "output_type": "display_data",
          "data": {
            "image/png": "[encoded data removed]",
            "text/plain": [
              "<Figure size 432x288 with 1 Axes>"
            ]
          },
          "metadata": {
            "tags": [],
            "needs_background": "light"
          }
        }
      ]
    },
    {
      "cell_type": "markdown",
      "metadata": {
        "id": "DKNMvOSexNjF"
      },
      "source": [
        "The above graph shows the number of new cases in Australia and Brazil. There are two peaks to Australia, one in April 2020 and another one in August 2020. For Australia, new cases has dropped significantly since August 2020. Australia has managed the pandemic very well. On the other hand, for Brazil, we can see a very volatile graph. The peak for Brazil was in January 2021 after the new year holidays. As per the previous graph, the movement in Brazil increased in November 2020 which led to a peak of new cases in January 2021.  "
      ]
    },
    {
      "cell_type": "code",
      "metadata": {
        "id": "Qkjj8xQT9AvX"
      },
      "source": [
        "australia_grp_move_pd['AUS_transit'] = australia_grp_move_pd['aus_transit']/australia_grp_move_pd['aus_transit'].abs().max()"
      ],
      "execution_count": 39,
      "outputs": []
    },
    {
      "cell_type": "code",
      "metadata": {
        "id": "mRn2CKs690js"
      },
      "source": [
        "australia_covid_case_data_pd['new_cases_per'] = australia_covid_case_data_pd['new_cases']/australia_covid_case_data_pd['new_cases'].abs().max()"
      ],
      "execution_count": 40,
      "outputs": []
    },
    {
      "cell_type": "code",
      "metadata": {
        "colab": {
          "base_uri": "https://localhost:8080/",
          "height": 310
        },
        "id": "Zj5deTnx80T8",
        "outputId": "b545e74b-483b-4641-9fa8-5e417a2bc601"
      },
      "source": [
        "ax = australia_grp_move_pd.plot(\"date\", \"AUS_transit\")\r\n",
        "australia_covid_case_data_pd.plot(\"date\", \"new_cases_per\",ax = ax)"
      ],
      "execution_count": 41,
      "outputs": [
        {
          "output_type": "execute_result",
          "data": {
            "text/plain": [
              "<matplotlib.axes._subplots.AxesSubplot at 0x7fd8b9ebf2d0>"
            ]
          },
          "metadata": {
            "tags": []
          },
          "execution_count": 41
        },
        {
          "output_type": "display_data",
          "data": {
            "image/png": "[encoded data removed]",
            "text/plain": [
              "<Figure size 432x288 with 1 Axes>"
            ]
          },
          "metadata": {
            "tags": [],
            "needs_background": "light"
          }
        }
      ]
    },
    {
      "cell_type": "markdown",
      "metadata": {
        "id": "lVvwrvI7xRER"
      },
      "source": [
        "The above graph shows the number of new cases in Australia and the change in movement in the stations from baseline. The movement in stations has dropped significantly in March2020 and has not got back to normal yet and the number of new cases has been very less since the second wave in August 2020. "
      ]
    },
    {
      "cell_type": "code",
      "metadata": {
        "id": "B5YVChwZU5G9"
      },
      "source": [
        "brazil_grp_move_pd['BR_transit'] = brazil_grp_move_pd['brazil_transit']/brazil_grp_move_pd['brazil_transit'].abs().max()\r\n",
        "brazil_covid_case_data_pd['new_cases_per'] = brazil_covid_case_data_pd['new_cases']/brazil_covid_case_data_pd['new_cases'].abs().max()"
      ],
      "execution_count": 42,
      "outputs": []
    },
    {
      "cell_type": "code",
      "metadata": {
        "colab": {
          "base_uri": "https://localhost:8080/",
          "height": 310
        },
        "id": "bS3ALLceUgER",
        "outputId": "a741cd37-0b17-4312-b3e2-2a177aefc763"
      },
      "source": [
        "ax = brazil_grp_move_pd.plot(\"date\", \"BR_transit\")\r\n",
        "brazil_covid_case_data_pd.plot(\"date\", \"new_cases_per\",ax = ax)"
      ],
      "execution_count": 43,
      "outputs": [
        {
          "output_type": "execute_result",
          "data": {
            "text/plain": [
              "<matplotlib.axes._subplots.AxesSubplot at 0x7fd8b9d79490>"
            ]
          },
          "metadata": {
            "tags": []
          },
          "execution_count": 43
        },
        {
          "output_type": "display_data",
          "data": {
            "image/png": "[encoded data removed]",
            "text/plain": [
              "<Figure size 432x288 with 1 Axes>"
            ]
          },
          "metadata": {
            "tags": [],
            "needs_background": "light"
          }
        }
      ]
    },
    {
      "cell_type": "markdown",
      "metadata": {
        "id": "otpbL5OlxWPk"
      },
      "source": [
        "For Brazil, the new of new cases has been varied over months, and the peak was in January 2021. The movement in the stations has been increased since April 2020 and even passed the baseline by more than 20% in November 2020. "
      ]
    },
    {
      "cell_type": "markdown",
      "metadata": {
        "id": "RFaBLTUxxalk"
      },
      "source": [
        "## Findings:\r\n",
        "There were two peaks to Australia, one in April 2020 and one in August 2020. For Australia, the number of new cases has dropped significantly since August 2020. Australia has managed the pandemic very well. On the other hand, for Brazil, we can see a very volatile graph. The peak for Brazil was in January 2021 after the new year holidays. The movement in stations in Brazil increased in November 2020 which led to increase in number of new cases in January 2021.  The imposed restrictions have impacted the transit stations movements from baseline in Australia and Brazil in different ways. The movement in the stations reduced in Australia and Brazil significantly in March 2020 but it has increased for Brazil since then. For Brazil, the movement in stations has passed the baseline in November 2020 which led to a peak in number of new cases in January 2021. For Australia , the movement in stations has dropped significantly in March 2020 and has not got back to normal and the number of new cases has been very less since the second wave in August 2020. \r\n"
      ]
    },
    {
      "cell_type": "markdown",
      "metadata": {
        "id": "cx5wxBW1xh8l"
      },
      "source": [
        "## Ethics and Privacy: \r\n",
        "Privacy and the protection of personal information must be considered as human right. Under the Australian Privacy Act 1988 (Cth) (Privacy Act), consent is not necessary to collect and use COVID-19 personal information, if collection of personal information is required or authorised under by or under an Australian law (based on Australian Privacy Principles (APP) 3.4(a) under the Privacy Act) or if “permitted general situation” exists (based on Australian Privacy Principles APP 3.4(b) under the Privacy Act). Under APP chapter 5, individuals must be told when their personal information is collected. But Google creates the reports by using anonymised data sets from individuals who have the Location History setting turned on which is off by default. Also, it can be disabled in users Google Accounts. In addition, Location history data could be deleted directly from users' timelines. Furthermore, Google anonymises the data with differential privacy by adding noise to the information. Hence the identification of individuals is removed. \r\n",
        "\r\n",
        "As the personally identifiable information was removed from the cc dataset (such as an individual’s location, contacts, and movement) then it’s aligned with Australian Law.  This dataset was collected from Australian Government Department of Health and all the identifiable information was removed. Hence, its aligned with the Australia Law. \r\n"
      ]
    },
    {
      "cell_type": "code",
      "metadata": {
        "id": "RSw5VQtnxqcc"
      },
      "source": [
        ""
      ],
      "execution_count": null,
      "outputs": []
    }
  ]
}