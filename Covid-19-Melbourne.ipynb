{
 "cells": [
  {
   "cell_type": "markdown",
   "metadata": {},
   "source": [
    "## 1- Introduction\n",
    "One of the most efficient ways for reducing contact rates and preventing COVID-19 transmission is the mobility restrictions. Governments and public health officials around the world are experimenting with a verity of restrictions and still their impact is not fully understood. It is necessary to understand the impact of the new alternative policies on population mobility trends and evaluate their effectiveness.\n",
    "The data collected from the geographical positioning system (GPS) chips included in smartphones can provide a great source of information on patterns of travel. This is the backbone for many mobile applications such as Uber and other taxi companies as it allows driver to find the end-user. The end-users must permit to track their location manually to receive these types of services.\n",
    "The Community Mobility Reports have been prepared by Google to help governments make critical decisions to combat COVID-19. Google used similar type of aggregated, anonymized data which is used in products such as Google Maps to prepare these reports. The main purpose of these reports is to provide insights into the impact of alternative restriction policies. The reports show how people’s movements have changed throughout the pandemic. The reports are broken down by location and display movement trends and the change in visits to places across different types of places such as parks, transit stations, retail, and groceries. Google measures change in visitor numbers to specific categories of location (e.g. parks; train stations) relative to a baseline period which is between 3rd of January to 6th of February 2020.\n",
    "Google note that we should not compare places across different countries or regions as there may be local differences in categories which could be misleading.\n",
    "\n",
    "The data set is publicly available at the following link: https://www.google.com/covid19/mobility/\n",
    "\n",
    "Google is working to add more countries and languages and reports will be updated regularly."
   ]
  },
  {
   "cell_type": "markdown",
   "metadata": {},
   "source": [
    "## 2- How can this dataset help Australia to tackle COVID 19? \n",
    "As mentioned in the introduction section, there is an urgent need to understand the effect of early countermeasures proposed to restrict mobility during epidemics. To combat COVID-19, countries across the world have implemented different types of restriction policies, such as stay-at-home ‘lockdowns‘; restaurant, café and bar closures; school and workplace closures; cancellation of public gatherings; and restrictions on public transport.\n",
    "This dataset can help Australian government and health officials to evaluate the effectiveness of different restriction policies and the change in population mobility trends. Also, they can study the impact of the alternative policies on how different people across Australia work; live; and where they visit more often. For example government can check how the number of visitors has changed for retail and recreation sections, grocery and pharmacy stores , transit stations , parks and outdoor spaces, workplaces and residential areas . These evaluations could help\n",
    "policymakers to make decisions and alter the current restriction policies to reduce physical interactions among people and control the pandemic."
   ]
  },
  {
   "cell_type": "markdown",
   "metadata": {},
   "source": [
    "## 3- Literature review\n",
    "\n",
    "Yamamoto, N. and H. Wang (2020). \"Assess the impacts of human mobility change on COVID-19 dynamics in Arizona, US: a modeling study incorporating Google Community Mobility Reports.\" arXiv preprint arXiv:2009.02419.\n",
    "https://arxiv.org/abs/2009.02419\n",
    "\n",
    "\n",
    "da Silvaa, G. C., et al. (2020). \"Google COVID-19 community mobility reports: insights from multi-criteria decision making.\" arXiv preprint arXiv:2009.10648.\n",
    "https://arxiv.org/pdf/2009.10648.pdf\n",
    "\n",
    "\n",
    "In May 2020, the stay-at-home restriction policy was lifted in Arizona in US which led to making Arizona one of the hottest spots for COVID-19 in the world in June 2020. Hence the new restrictions were imposed, and number of COVID-19 new cases were declined. Nowadays, Arizona is considered as a good model in slowing the epidemic. Yamamoto, N. and H. Wang (2020) examined the COVID-19 pandemic in Arizona and evaluate the effect of human mobility change. The study showed that the pandemic peak time was delayed, and the extent of the it was decreased by reducing human mobility. Their study recommends that fast and efficient decision making is vital to control human mobility and, therefore, COVID-19 pandemic.\n",
    "\n",
    "In order to completely grasp the insights that Google dataset provides, a multidisciplinary approach is required, including many different domains such as time series analysis, multicriteria decision making and data visualization approaches. da Silvaa, G. C., et al. (2020) used the Google COVID-19 community mobility data set to discuss multicriteria decision making concepts that enable a multicriteria analysis of community mobility reports data. They discussed how to firstly ensure that the mobility reduction rates from different location categories are comparable, and secondly how to evaluate the mobility reduction rates from a pair of communities through different Pareto dominance relations. Furthermore, they proposed a way to cluster and rank a set of communities based on their mobility reduction rates in a Pareto-compliant approach."
   ]
  },
  {
   "cell_type": "markdown",
   "metadata": {},
   "source": [
    "## 4- Research question\n",
    "The research question is how did the imposed restriction policies during the second wave of COVID-19 in Melbourne effect the population mobility trends?\n",
    "\n",
    "Nowadays, Melbourne is considered as a good example in slowing the COVID-19 pandemic. So, we will study the second wave of the COVID-19 pandemic in Melbourne and evaluate the effect of human mobility change.\n",
    "As the current available vaccines are not accessible to everyone, one of the most effective approaches to response to the increase of new COVID-19 cases could be implementation of the mobility restrictions. Yet, social distancing and mobility restrictions are financially and mentally very expensive for the society. Imposing very severe restrictions will be economically very expensive and soft restrictions will not stop the pandemic, so imposing right dose of restrictions are very critical.\n",
    "\n",
    "It is vital to understand the effect of early countermeasures proposed to restrict mobility during epidemics. This study could help government to impose the right amount of restrictions (such as stay-at-home ‘lockdowns‘; restaurant, café and bar closures; school and workplace closures; cancellation of public gatherings; and restrictions on public transport ) to combat any future pandemic. For example government can check how the number of visitors would change for retail and recreation sections, grocery and pharmacy stores , transit stations, parks and outdoor spaces, workplaces and residential areas. These evaluations could help policymakers to make decisions and impose restriction policies to reduce physical interactions among people and control the any future pandemic."
   ]
  },
  {
   "cell_type": "code",
   "execution_count": 1,
   "metadata": {},
   "outputs": [],
   "source": [
    "import pandas as pd\n",
    "import numpy as np\n",
    "%matplotlib inline\n",
    "import matplotlib.pyplot as plt\n",
    "import pymongo\n",
    "from pymongo import MongoClient\n",
    "import seaborn as sns\n",
    "import datetime\n",
    "from bson.objectid import ObjectId"
   ]
  },
  {
   "cell_type": "code",
   "execution_count": 2,
   "metadata": {},
   "outputs": [
    {
     "name": "stderr",
     "output_type": "stream",
     "text": [
      "C:\\Users\\arjom\\anaconda3\\lib\\site-packages\\IPython\\core\\interactiveshell.py:3071: DtypeWarning: Columns (4,5) have mixed types.Specify dtype option on import or set low_memory=False.\n",
      "  has_raised = await self.run_ast_nodes(code_ast.body, cell_name,\n"
     ]
    }
   ],
   "source": [
    "df = pd.read_csv(\"Covid.csv\")"
   ]
  },
  {
   "cell_type": "code",
   "execution_count": 3,
   "metadata": {},
   "outputs": [
    {
     "data": {
      "text/plain": [
       "(3342175, 14)"
      ]
     },
     "execution_count": 3,
     "metadata": {},
     "output_type": "execute_result"
    }
   ],
   "source": [
    "df.shape"
   ]
  },
  {
   "cell_type": "code",
   "execution_count": 4,
   "metadata": {},
   "outputs": [
    {
     "data": {
      "text/html": [
       "<div>\n",
       "<style scoped>\n",
       "    .dataframe tbody tr th:only-of-type {\n",
       "        vertical-align: middle;\n",
       "    }\n",
       "\n",
       "    .dataframe tbody tr th {\n",
       "        vertical-align: top;\n",
       "    }\n",
       "\n",
       "    .dataframe thead th {\n",
       "        text-align: right;\n",
       "    }\n",
       "</style>\n",
       "<table border=\"1\" class=\"dataframe\">\n",
       "  <thead>\n",
       "    <tr style=\"text-align: right;\">\n",
       "      <th></th>\n",
       "      <th>country_region_code</th>\n",
       "      <th>country_region</th>\n",
       "      <th>sub_region_1</th>\n",
       "      <th>sub_region_2</th>\n",
       "      <th>metro_area</th>\n",
       "      <th>iso_3166_2_code</th>\n",
       "      <th>census_fips_code</th>\n",
       "      <th>date</th>\n",
       "      <th>retail_and_recreation_percent_change_from_baseline</th>\n",
       "      <th>grocery_and_pharmacy_percent_change_from_baseline</th>\n",
       "      <th>parks_percent_change_from_baseline</th>\n",
       "      <th>transit_stations_percent_change_from_baseline</th>\n",
       "      <th>workplaces_percent_change_from_baseline</th>\n",
       "      <th>residential_percent_change_from_baseline</th>\n",
       "    </tr>\n",
       "  </thead>\n",
       "  <tbody>\n",
       "    <tr>\n",
       "      <th>0</th>\n",
       "      <td>AE</td>\n",
       "      <td>United Arab Emirates</td>\n",
       "      <td>NaN</td>\n",
       "      <td>NaN</td>\n",
       "      <td>NaN</td>\n",
       "      <td>NaN</td>\n",
       "      <td>NaN</td>\n",
       "      <td>2020-02-15</td>\n",
       "      <td>0.0</td>\n",
       "      <td>4.0</td>\n",
       "      <td>5.0</td>\n",
       "      <td>0.0</td>\n",
       "      <td>2.0</td>\n",
       "      <td>1.0</td>\n",
       "    </tr>\n",
       "    <tr>\n",
       "      <th>1</th>\n",
       "      <td>AE</td>\n",
       "      <td>United Arab Emirates</td>\n",
       "      <td>NaN</td>\n",
       "      <td>NaN</td>\n",
       "      <td>NaN</td>\n",
       "      <td>NaN</td>\n",
       "      <td>NaN</td>\n",
       "      <td>2020-02-16</td>\n",
       "      <td>1.0</td>\n",
       "      <td>4.0</td>\n",
       "      <td>4.0</td>\n",
       "      <td>1.0</td>\n",
       "      <td>2.0</td>\n",
       "      <td>1.0</td>\n",
       "    </tr>\n",
       "    <tr>\n",
       "      <th>2</th>\n",
       "      <td>AE</td>\n",
       "      <td>United Arab Emirates</td>\n",
       "      <td>NaN</td>\n",
       "      <td>NaN</td>\n",
       "      <td>NaN</td>\n",
       "      <td>NaN</td>\n",
       "      <td>NaN</td>\n",
       "      <td>2020-02-17</td>\n",
       "      <td>-1.0</td>\n",
       "      <td>1.0</td>\n",
       "      <td>5.0</td>\n",
       "      <td>1.0</td>\n",
       "      <td>2.0</td>\n",
       "      <td>1.0</td>\n",
       "    </tr>\n",
       "    <tr>\n",
       "      <th>3</th>\n",
       "      <td>AE</td>\n",
       "      <td>United Arab Emirates</td>\n",
       "      <td>NaN</td>\n",
       "      <td>NaN</td>\n",
       "      <td>NaN</td>\n",
       "      <td>NaN</td>\n",
       "      <td>NaN</td>\n",
       "      <td>2020-02-18</td>\n",
       "      <td>-2.0</td>\n",
       "      <td>1.0</td>\n",
       "      <td>5.0</td>\n",
       "      <td>0.0</td>\n",
       "      <td>2.0</td>\n",
       "      <td>1.0</td>\n",
       "    </tr>\n",
       "    <tr>\n",
       "      <th>4</th>\n",
       "      <td>AE</td>\n",
       "      <td>United Arab Emirates</td>\n",
       "      <td>NaN</td>\n",
       "      <td>NaN</td>\n",
       "      <td>NaN</td>\n",
       "      <td>NaN</td>\n",
       "      <td>NaN</td>\n",
       "      <td>2020-02-19</td>\n",
       "      <td>-2.0</td>\n",
       "      <td>0.0</td>\n",
       "      <td>4.0</td>\n",
       "      <td>-1.0</td>\n",
       "      <td>2.0</td>\n",
       "      <td>1.0</td>\n",
       "    </tr>\n",
       "  </tbody>\n",
       "</table>\n",
       "</div>"
      ],
      "text/plain": [
       "  country_region_code        country_region sub_region_1 sub_region_2  \\\n",
       "0                  AE  United Arab Emirates          NaN          NaN   \n",
       "1                  AE  United Arab Emirates          NaN          NaN   \n",
       "2                  AE  United Arab Emirates          NaN          NaN   \n",
       "3                  AE  United Arab Emirates          NaN          NaN   \n",
       "4                  AE  United Arab Emirates          NaN          NaN   \n",
       "\n",
       "  metro_area iso_3166_2_code  census_fips_code        date  \\\n",
       "0        NaN             NaN               NaN  2020-02-15   \n",
       "1        NaN             NaN               NaN  2020-02-16   \n",
       "2        NaN             NaN               NaN  2020-02-17   \n",
       "3        NaN             NaN               NaN  2020-02-18   \n",
       "4        NaN             NaN               NaN  2020-02-19   \n",
       "\n",
       "   retail_and_recreation_percent_change_from_baseline  \\\n",
       "0                                                0.0    \n",
       "1                                                1.0    \n",
       "2                                               -1.0    \n",
       "3                                               -2.0    \n",
       "4                                               -2.0    \n",
       "\n",
       "   grocery_and_pharmacy_percent_change_from_baseline  \\\n",
       "0                                                4.0   \n",
       "1                                                4.0   \n",
       "2                                                1.0   \n",
       "3                                                1.0   \n",
       "4                                                0.0   \n",
       "\n",
       "   parks_percent_change_from_baseline  \\\n",
       "0                                 5.0   \n",
       "1                                 4.0   \n",
       "2                                 5.0   \n",
       "3                                 5.0   \n",
       "4                                 4.0   \n",
       "\n",
       "   transit_stations_percent_change_from_baseline  \\\n",
       "0                                            0.0   \n",
       "1                                            1.0   \n",
       "2                                            1.0   \n",
       "3                                            0.0   \n",
       "4                                           -1.0   \n",
       "\n",
       "   workplaces_percent_change_from_baseline  \\\n",
       "0                                      2.0   \n",
       "1                                      2.0   \n",
       "2                                      2.0   \n",
       "3                                      2.0   \n",
       "4                                      2.0   \n",
       "\n",
       "   residential_percent_change_from_baseline  \n",
       "0                                       1.0  \n",
       "1                                       1.0  \n",
       "2                                       1.0  \n",
       "3                                       1.0  \n",
       "4                                       1.0  "
      ]
     },
     "execution_count": 4,
     "metadata": {},
     "output_type": "execute_result"
    }
   ],
   "source": [
    "df.head()"
   ]
  },
  {
   "cell_type": "code",
   "execution_count": 5,
   "metadata": {},
   "outputs": [
    {
     "data": {
      "text/plain": [
       "(76688, 14)"
      ]
     },
     "execution_count": 5,
     "metadata": {},
     "output_type": "execute_result"
    }
   ],
   "source": [
    "data_of_australia = df[df['country_region'] == \"Australia\"]\n",
    "data_of_australia.shape"
   ]
  },
  {
   "cell_type": "code",
   "execution_count": 6,
   "metadata": {},
   "outputs": [
    {
     "data": {
      "text/plain": [
       "{'Australian Capital Territory',\n",
       " 'New South Wales',\n",
       " 'Northern Territory',\n",
       " 'Queensland',\n",
       " 'South Australia',\n",
       " 'Tasmania',\n",
       " 'Victoria',\n",
       " 'Western Australia',\n",
       " nan}"
      ]
     },
     "execution_count": 6,
     "metadata": {},
     "output_type": "execute_result"
    }
   ],
   "source": [
    "set(data_of_australia['sub_region_1'])"
   ]
  },
  {
   "cell_type": "code",
   "execution_count": 7,
   "metadata": {},
   "outputs": [],
   "source": [
    "data_of_vic = data_of_australia[data_of_australia['sub_region_1'] == \"Victoria\"]"
   ]
  },
  {
   "cell_type": "markdown",
   "metadata": {},
   "source": [
    "## 5- Useful subset of the dataset \n",
    "Dataset has 3,342,175 rows and 14 columns and we need to filter the dataset to answer our research question. As we are studying the impact of restriction policies during the second wave of COVID-19 in Melbourne, we only need the data for Victoria state of Australia. So, the country_region must be filtered be Australia and sub_region_1 must be filtered to Victoria state. Our dataset has the data for 6 sections which are retail and recreation, grocery and pharmacy, parks, transit stations , workplaces , and residential . In order to choose a small subset of the dataset, we will only consider the changes in retail and recreation, transit and stations and workplaces sections. By studying the changes in those sections, we can get a good understanding of COVID restrictions in Melbourne and answer the research question. Then we need to drop any N/A rows, reset the indexes and delete the index column. We choose the following features for our subset:\n",
    "1- sub_region_1,\n",
    "2- date,\n",
    "3- retail_and_recreation_percent_change_from_baseline,\n",
    "4- transit_stations_percent_change_from_baseline, and\n",
    "5- workplaces_percent_change_from_baseline.\n"
   ]
  },
  {
   "cell_type": "code",
   "execution_count": 8,
   "metadata": {},
   "outputs": [],
   "source": [
    "small_subset = data_of_vic[['sub_region_1','date','retail_and_recreation_percent_change_from_baseline','transit_stations_percent_change_from_baseline','workplaces_percent_change_from_baseline']]"
   ]
  },
  {
   "cell_type": "code",
   "execution_count": 9,
   "metadata": {},
   "outputs": [
    {
     "name": "stderr",
     "output_type": "stream",
     "text": [
      "<ipython-input-9-181c7cfaa160>:1: SettingWithCopyWarning: \n",
      "A value is trying to be set on a copy of a slice from a DataFrame.\n",
      "Try using .loc[row_indexer,col_indexer] = value instead\n",
      "\n",
      "See the caveats in the documentation: https://pandas.pydata.org/pandas-docs/stable/user_guide/indexing.html#returning-a-view-versus-a-copy\n",
      "  small_subset[\"date\"] = list(map(lambda x:datetime.datetime(*[int(item) for item in x.split(\"-\")]),list(small_subset[\"date\"])))\n"
     ]
    }
   ],
   "source": [
    "small_subset[\"date\"] = list(map(lambda x:datetime.datetime(*[int(item) for item in x.split(\"-\")]),list(small_subset[\"date\"])))"
   ]
  },
  {
   "cell_type": "code",
   "execution_count": 10,
   "metadata": {},
   "outputs": [
    {
     "data": {
      "text/html": [
       "<div>\n",
       "<style scoped>\n",
       "    .dataframe tbody tr th:only-of-type {\n",
       "        vertical-align: middle;\n",
       "    }\n",
       "\n",
       "    .dataframe tbody tr th {\n",
       "        vertical-align: top;\n",
       "    }\n",
       "\n",
       "    .dataframe thead th {\n",
       "        text-align: right;\n",
       "    }\n",
       "</style>\n",
       "<table border=\"1\" class=\"dataframe\">\n",
       "  <thead>\n",
       "    <tr style=\"text-align: right;\">\n",
       "      <th></th>\n",
       "      <th>sub_region_1</th>\n",
       "      <th>date</th>\n",
       "      <th>retail_and_recreation_percent_change_from_baseline</th>\n",
       "      <th>transit_stations_percent_change_from_baseline</th>\n",
       "      <th>workplaces_percent_change_from_baseline</th>\n",
       "    </tr>\n",
       "  </thead>\n",
       "  <tbody>\n",
       "    <tr>\n",
       "      <th>196972</th>\n",
       "      <td>Victoria</td>\n",
       "      <td>2020-02-15</td>\n",
       "      <td>3.0</td>\n",
       "      <td>1.0</td>\n",
       "      <td>3.0</td>\n",
       "    </tr>\n",
       "    <tr>\n",
       "      <th>196973</th>\n",
       "      <td>Victoria</td>\n",
       "      <td>2020-02-16</td>\n",
       "      <td>3.0</td>\n",
       "      <td>0.0</td>\n",
       "      <td>-2.0</td>\n",
       "    </tr>\n",
       "    <tr>\n",
       "      <th>196974</th>\n",
       "      <td>Victoria</td>\n",
       "      <td>2020-02-17</td>\n",
       "      <td>-1.0</td>\n",
       "      <td>11.0</td>\n",
       "      <td>18.0</td>\n",
       "    </tr>\n",
       "    <tr>\n",
       "      <th>196975</th>\n",
       "      <td>Victoria</td>\n",
       "      <td>2020-02-18</td>\n",
       "      <td>-6.0</td>\n",
       "      <td>5.0</td>\n",
       "      <td>13.0</td>\n",
       "    </tr>\n",
       "    <tr>\n",
       "      <th>196976</th>\n",
       "      <td>Victoria</td>\n",
       "      <td>2020-02-19</td>\n",
       "      <td>-2.0</td>\n",
       "      <td>6.0</td>\n",
       "      <td>13.0</td>\n",
       "    </tr>\n",
       "    <tr>\n",
       "      <th>...</th>\n",
       "      <td>...</td>\n",
       "      <td>...</td>\n",
       "      <td>...</td>\n",
       "      <td>...</td>\n",
       "      <td>...</td>\n",
       "    </tr>\n",
       "    <tr>\n",
       "      <th>214820</th>\n",
       "      <td>Victoria</td>\n",
       "      <td>2020-11-27</td>\n",
       "      <td>-16.0</td>\n",
       "      <td>-40.0</td>\n",
       "      <td>-18.0</td>\n",
       "    </tr>\n",
       "    <tr>\n",
       "      <th>214821</th>\n",
       "      <td>Victoria</td>\n",
       "      <td>2020-11-28</td>\n",
       "      <td>-13.0</td>\n",
       "      <td>-25.0</td>\n",
       "      <td>-6.0</td>\n",
       "    </tr>\n",
       "    <tr>\n",
       "      <th>214822</th>\n",
       "      <td>Victoria</td>\n",
       "      <td>2020-11-29</td>\n",
       "      <td>-19.0</td>\n",
       "      <td>-30.0</td>\n",
       "      <td>-13.0</td>\n",
       "    </tr>\n",
       "    <tr>\n",
       "      <th>214823</th>\n",
       "      <td>Victoria</td>\n",
       "      <td>2020-11-30</td>\n",
       "      <td>-16.0</td>\n",
       "      <td>-45.0</td>\n",
       "      <td>-16.0</td>\n",
       "    </tr>\n",
       "    <tr>\n",
       "      <th>214824</th>\n",
       "      <td>Victoria</td>\n",
       "      <td>2020-12-01</td>\n",
       "      <td>-23.0</td>\n",
       "      <td>-52.0</td>\n",
       "      <td>-22.0</td>\n",
       "    </tr>\n",
       "  </tbody>\n",
       "</table>\n",
       "<p>17853 rows × 5 columns</p>\n",
       "</div>"
      ],
      "text/plain": [
       "       sub_region_1       date  \\\n",
       "196972     Victoria 2020-02-15   \n",
       "196973     Victoria 2020-02-16   \n",
       "196974     Victoria 2020-02-17   \n",
       "196975     Victoria 2020-02-18   \n",
       "196976     Victoria 2020-02-19   \n",
       "...             ...        ...   \n",
       "214820     Victoria 2020-11-27   \n",
       "214821     Victoria 2020-11-28   \n",
       "214822     Victoria 2020-11-29   \n",
       "214823     Victoria 2020-11-30   \n",
       "214824     Victoria 2020-12-01   \n",
       "\n",
       "        retail_and_recreation_percent_change_from_baseline  \\\n",
       "196972                                                3.0    \n",
       "196973                                                3.0    \n",
       "196974                                               -1.0    \n",
       "196975                                               -6.0    \n",
       "196976                                               -2.0    \n",
       "...                                                   ...    \n",
       "214820                                              -16.0    \n",
       "214821                                              -13.0    \n",
       "214822                                              -19.0    \n",
       "214823                                              -16.0    \n",
       "214824                                              -23.0    \n",
       "\n",
       "        transit_stations_percent_change_from_baseline  \\\n",
       "196972                                            1.0   \n",
       "196973                                            0.0   \n",
       "196974                                           11.0   \n",
       "196975                                            5.0   \n",
       "196976                                            6.0   \n",
       "...                                               ...   \n",
       "214820                                          -40.0   \n",
       "214821                                          -25.0   \n",
       "214822                                          -30.0   \n",
       "214823                                          -45.0   \n",
       "214824                                          -52.0   \n",
       "\n",
       "        workplaces_percent_change_from_baseline  \n",
       "196972                                      3.0  \n",
       "196973                                     -2.0  \n",
       "196974                                     18.0  \n",
       "196975                                     13.0  \n",
       "196976                                     13.0  \n",
       "...                                         ...  \n",
       "214820                                    -18.0  \n",
       "214821                                     -6.0  \n",
       "214822                                    -13.0  \n",
       "214823                                    -16.0  \n",
       "214824                                    -22.0  \n",
       "\n",
       "[17853 rows x 5 columns]"
      ]
     },
     "execution_count": 10,
     "metadata": {},
     "output_type": "execute_result"
    }
   ],
   "source": [
    "small_subset"
   ]
  },
  {
   "cell_type": "code",
   "execution_count": 11,
   "metadata": {},
   "outputs": [],
   "source": [
    "small_subset = small_subset.dropna()"
   ]
  },
  {
   "cell_type": "code",
   "execution_count": 12,
   "metadata": {},
   "outputs": [],
   "source": [
    "small_subset.reset_index(level=0, inplace=True)"
   ]
  },
  {
   "cell_type": "code",
   "execution_count": 13,
   "metadata": {},
   "outputs": [],
   "source": [
    "del(small_subset['index'])"
   ]
  },
  {
   "cell_type": "code",
   "execution_count": 14,
   "metadata": {},
   "outputs": [
    {
     "data": {
      "text/html": [
       "<div>\n",
       "<style scoped>\n",
       "    .dataframe tbody tr th:only-of-type {\n",
       "        vertical-align: middle;\n",
       "    }\n",
       "\n",
       "    .dataframe tbody tr th {\n",
       "        vertical-align: top;\n",
       "    }\n",
       "\n",
       "    .dataframe thead th {\n",
       "        text-align: right;\n",
       "    }\n",
       "</style>\n",
       "<table border=\"1\" class=\"dataframe\">\n",
       "  <thead>\n",
       "    <tr style=\"text-align: right;\">\n",
       "      <th></th>\n",
       "      <th>sub_region_1</th>\n",
       "      <th>date</th>\n",
       "      <th>retail_and_recreation_percent_change_from_baseline</th>\n",
       "      <th>transit_stations_percent_change_from_baseline</th>\n",
       "      <th>workplaces_percent_change_from_baseline</th>\n",
       "    </tr>\n",
       "  </thead>\n",
       "  <tbody>\n",
       "    <tr>\n",
       "      <th>0</th>\n",
       "      <td>Victoria</td>\n",
       "      <td>2020-02-15</td>\n",
       "      <td>3.0</td>\n",
       "      <td>1.0</td>\n",
       "      <td>3.0</td>\n",
       "    </tr>\n",
       "    <tr>\n",
       "      <th>1</th>\n",
       "      <td>Victoria</td>\n",
       "      <td>2020-02-16</td>\n",
       "      <td>3.0</td>\n",
       "      <td>0.0</td>\n",
       "      <td>-2.0</td>\n",
       "    </tr>\n",
       "    <tr>\n",
       "      <th>2</th>\n",
       "      <td>Victoria</td>\n",
       "      <td>2020-02-17</td>\n",
       "      <td>-1.0</td>\n",
       "      <td>11.0</td>\n",
       "      <td>18.0</td>\n",
       "    </tr>\n",
       "    <tr>\n",
       "      <th>3</th>\n",
       "      <td>Victoria</td>\n",
       "      <td>2020-02-18</td>\n",
       "      <td>-6.0</td>\n",
       "      <td>5.0</td>\n",
       "      <td>13.0</td>\n",
       "    </tr>\n",
       "    <tr>\n",
       "      <th>4</th>\n",
       "      <td>Victoria</td>\n",
       "      <td>2020-02-19</td>\n",
       "      <td>-2.0</td>\n",
       "      <td>6.0</td>\n",
       "      <td>13.0</td>\n",
       "    </tr>\n",
       "    <tr>\n",
       "      <th>...</th>\n",
       "      <td>...</td>\n",
       "      <td>...</td>\n",
       "      <td>...</td>\n",
       "      <td>...</td>\n",
       "      <td>...</td>\n",
       "    </tr>\n",
       "    <tr>\n",
       "      <th>10972</th>\n",
       "      <td>Victoria</td>\n",
       "      <td>2020-11-27</td>\n",
       "      <td>-16.0</td>\n",
       "      <td>-40.0</td>\n",
       "      <td>-18.0</td>\n",
       "    </tr>\n",
       "    <tr>\n",
       "      <th>10973</th>\n",
       "      <td>Victoria</td>\n",
       "      <td>2020-11-28</td>\n",
       "      <td>-13.0</td>\n",
       "      <td>-25.0</td>\n",
       "      <td>-6.0</td>\n",
       "    </tr>\n",
       "    <tr>\n",
       "      <th>10974</th>\n",
       "      <td>Victoria</td>\n",
       "      <td>2020-11-29</td>\n",
       "      <td>-19.0</td>\n",
       "      <td>-30.0</td>\n",
       "      <td>-13.0</td>\n",
       "    </tr>\n",
       "    <tr>\n",
       "      <th>10975</th>\n",
       "      <td>Victoria</td>\n",
       "      <td>2020-11-30</td>\n",
       "      <td>-16.0</td>\n",
       "      <td>-45.0</td>\n",
       "      <td>-16.0</td>\n",
       "    </tr>\n",
       "    <tr>\n",
       "      <th>10976</th>\n",
       "      <td>Victoria</td>\n",
       "      <td>2020-12-01</td>\n",
       "      <td>-23.0</td>\n",
       "      <td>-52.0</td>\n",
       "      <td>-22.0</td>\n",
       "    </tr>\n",
       "  </tbody>\n",
       "</table>\n",
       "<p>10977 rows × 5 columns</p>\n",
       "</div>"
      ],
      "text/plain": [
       "      sub_region_1       date  \\\n",
       "0         Victoria 2020-02-15   \n",
       "1         Victoria 2020-02-16   \n",
       "2         Victoria 2020-02-17   \n",
       "3         Victoria 2020-02-18   \n",
       "4         Victoria 2020-02-19   \n",
       "...            ...        ...   \n",
       "10972     Victoria 2020-11-27   \n",
       "10973     Victoria 2020-11-28   \n",
       "10974     Victoria 2020-11-29   \n",
       "10975     Victoria 2020-11-30   \n",
       "10976     Victoria 2020-12-01   \n",
       "\n",
       "       retail_and_recreation_percent_change_from_baseline  \\\n",
       "0                                                    3.0    \n",
       "1                                                    3.0    \n",
       "2                                                   -1.0    \n",
       "3                                                   -6.0    \n",
       "4                                                   -2.0    \n",
       "...                                                  ...    \n",
       "10972                                              -16.0    \n",
       "10973                                              -13.0    \n",
       "10974                                              -19.0    \n",
       "10975                                              -16.0    \n",
       "10976                                              -23.0    \n",
       "\n",
       "       transit_stations_percent_change_from_baseline  \\\n",
       "0                                                1.0   \n",
       "1                                                0.0   \n",
       "2                                               11.0   \n",
       "3                                                5.0   \n",
       "4                                                6.0   \n",
       "...                                              ...   \n",
       "10972                                          -40.0   \n",
       "10973                                          -25.0   \n",
       "10974                                          -30.0   \n",
       "10975                                          -45.0   \n",
       "10976                                          -52.0   \n",
       "\n",
       "       workplaces_percent_change_from_baseline  \n",
       "0                                          3.0  \n",
       "1                                         -2.0  \n",
       "2                                         18.0  \n",
       "3                                         13.0  \n",
       "4                                         13.0  \n",
       "...                                        ...  \n",
       "10972                                    -18.0  \n",
       "10973                                     -6.0  \n",
       "10974                                    -13.0  \n",
       "10975                                    -16.0  \n",
       "10976                                    -22.0  \n",
       "\n",
       "[10977 rows x 5 columns]"
      ]
     },
     "execution_count": 14,
     "metadata": {},
     "output_type": "execute_result"
    }
   ],
   "source": [
    "small_subset"
   ]
  },
  {
   "cell_type": "markdown",
   "metadata": {},
   "source": [
    "## 6- Connect to Amazon Cloud"
   ]
  },
  {
   "cell_type": "code",
   "execution_count": 15,
   "metadata": {},
   "outputs": [],
   "source": [
    "import pymysql.cursors"
   ]
  },
  {
   "cell_type": "code",
   "execution_count": 16,
   "metadata": {},
   "outputs": [],
   "source": [
    "client = MongoClient('######.compute-1.amazonaws.com',\n",
    " 443,\n",
    " username = \"###\",\n",
    " password = \"###\")"
   ]
  },
  {
   "cell_type": "code",
   "execution_count": 17,
   "metadata": {},
   "outputs": [],
   "source": [
    "dictionary = small_subset.to_dict()"
   ]
  },
  {
   "cell_type": "code",
   "execution_count": 18,
   "metadata": {},
   "outputs": [],
   "source": [
    "def create_a_single_insert_format(date_retail_and_recreation_pcb_transit_stations_pcb_workplaces_pcb):\n",
    "\n",
    "\n",
    "  date,retail_and_recreation_pcb,transit_stations_pcb,workplaces_pcb = date_retail_and_recreation_pcb_transit_stations_pcb_workplaces_pcb\n",
    "\n",
    "\n",
    "  return {\n",
    "      \n",
    "      \"date\":date,\n",
    "      \"retail_and_recreation_pcb\":retail_and_recreation_pcb,\n",
    "      \"transit_stations_pcb\":transit_stations_pcb,\n",
    "      \"workplaces_pcb\":workplaces_pcb\n",
    "  }\n",
    "\n"
   ]
  },
  {
   "cell_type": "code",
   "execution_count": 19,
   "metadata": {},
   "outputs": [],
   "source": [
    "list_to_insert = list(zip(list(small_subset['date']),\n",
    "                          list(small_subset['retail_and_recreation_percent_change_from_baseline']),\n",
    "                          list(small_subset['transit_stations_percent_change_from_baseline']),\n",
    "                          list(small_subset['workplaces_percent_change_from_baseline'])))"
   ]
  },
  {
   "cell_type": "code",
   "execution_count": 20,
   "metadata": {},
   "outputs": [],
   "source": [
    "final_list= list(map(create_a_single_insert_format,list_to_insert))"
   ]
  },
  {
   "cell_type": "code",
   "execution_count": 21,
   "metadata": {},
   "outputs": [
    {
     "data": {
      "text/plain": [
       "10977"
      ]
     },
     "execution_count": 21,
     "metadata": {},
     "output_type": "execute_result"
    }
   ],
   "source": [
    "len(final_list)"
   ]
  },
  {
   "cell_type": "code",
   "execution_count": 22,
   "metadata": {},
   "outputs": [],
   "source": [
    "vic_colection = client.covid_19.vic"
   ]
  },
  {
   "cell_type": "code",
   "execution_count": 23,
   "metadata": {},
   "outputs": [
    {
     "data": {
      "text/plain": [
       "<pymongo.results.InsertManyResult at 0x1be8fcbaf40>"
      ]
     },
     "execution_count": 23,
     "metadata": {},
     "output_type": "execute_result"
    }
   ],
   "source": [
    "vic_colection.insert_many(final_list)"
   ]
  },
  {
   "cell_type": "code",
   "execution_count": 24,
   "metadata": {},
   "outputs": [
    {
     "data": {
      "text/plain": [
       "['vic']"
      ]
     },
     "execution_count": 24,
     "metadata": {},
     "output_type": "execute_result"
    }
   ],
   "source": [
    "client.covid_19.list_collection_names()"
   ]
  },
  {
   "cell_type": "code",
   "execution_count": 25,
   "metadata": {},
   "outputs": [
    {
     "data": {
      "text/html": [
       "<div>\n",
       "<style scoped>\n",
       "    .dataframe tbody tr th:only-of-type {\n",
       "        vertical-align: middle;\n",
       "    }\n",
       "\n",
       "    .dataframe tbody tr th {\n",
       "        vertical-align: top;\n",
       "    }\n",
       "\n",
       "    .dataframe thead th {\n",
       "        text-align: right;\n",
       "    }\n",
       "</style>\n",
       "<table border=\"1\" class=\"dataframe\">\n",
       "  <thead>\n",
       "    <tr style=\"text-align: right;\">\n",
       "      <th></th>\n",
       "      <th>_id</th>\n",
       "      <th>date</th>\n",
       "      <th>retail_and_recreation_pcb</th>\n",
       "      <th>transit_stations_pcb</th>\n",
       "      <th>workplaces_pcb</th>\n",
       "    </tr>\n",
       "  </thead>\n",
       "  <tbody>\n",
       "    <tr>\n",
       "      <th>0</th>\n",
       "      <td>6013f6db8ae46e58dbfa1731</td>\n",
       "      <td>2020-02-15</td>\n",
       "      <td>3.0</td>\n",
       "      <td>1.0</td>\n",
       "      <td>3.0</td>\n",
       "    </tr>\n",
       "    <tr>\n",
       "      <th>1</th>\n",
       "      <td>6013f6db8ae46e58dbfa1854</td>\n",
       "      <td>2020-02-15</td>\n",
       "      <td>8.0</td>\n",
       "      <td>27.0</td>\n",
       "      <td>8.0</td>\n",
       "    </tr>\n",
       "    <tr>\n",
       "      <th>2</th>\n",
       "      <td>6013f6db8ae46e58dbfa195e</td>\n",
       "      <td>2020-02-15</td>\n",
       "      <td>13.0</td>\n",
       "      <td>14.0</td>\n",
       "      <td>2.0</td>\n",
       "    </tr>\n",
       "    <tr>\n",
       "      <th>3</th>\n",
       "      <td>6013f6db8ae46e58dbfa1ae5</td>\n",
       "      <td>2020-02-15</td>\n",
       "      <td>4.0</td>\n",
       "      <td>-12.0</td>\n",
       "      <td>7.0</td>\n",
       "    </tr>\n",
       "    <tr>\n",
       "      <th>4</th>\n",
       "      <td>6013f6db8ae46e58dbfa1bef</td>\n",
       "      <td>2020-02-15</td>\n",
       "      <td>7.0</td>\n",
       "      <td>6.0</td>\n",
       "      <td>7.0</td>\n",
       "    </tr>\n",
       "    <tr>\n",
       "      <th>...</th>\n",
       "      <td>...</td>\n",
       "      <td>...</td>\n",
       "      <td>...</td>\n",
       "      <td>...</td>\n",
       "      <td>...</td>\n",
       "    </tr>\n",
       "    <tr>\n",
       "      <th>32926</th>\n",
       "      <td>6037896dc2f90c7de3be9ec6</td>\n",
       "      <td>2020-12-01</td>\n",
       "      <td>-22.0</td>\n",
       "      <td>-26.0</td>\n",
       "      <td>-11.0</td>\n",
       "    </tr>\n",
       "    <tr>\n",
       "      <th>32927</th>\n",
       "      <td>6037896dc2f90c7de3be9fe3</td>\n",
       "      <td>2020-12-01</td>\n",
       "      <td>-23.0</td>\n",
       "      <td>-55.0</td>\n",
       "      <td>-51.0</td>\n",
       "    </tr>\n",
       "    <tr>\n",
       "      <th>32928</th>\n",
       "      <td>6037896dc2f90c7de3bea103</td>\n",
       "      <td>2020-12-01</td>\n",
       "      <td>-19.0</td>\n",
       "      <td>-39.0</td>\n",
       "      <td>-35.0</td>\n",
       "    </tr>\n",
       "    <tr>\n",
       "      <th>32929</th>\n",
       "      <td>6037896dc2f90c7de3bea220</td>\n",
       "      <td>2020-12-01</td>\n",
       "      <td>-5.0</td>\n",
       "      <td>-40.0</td>\n",
       "      <td>-21.0</td>\n",
       "    </tr>\n",
       "    <tr>\n",
       "      <th>32930</th>\n",
       "      <td>6037896dc2f90c7de3bea32a</td>\n",
       "      <td>2020-12-01</td>\n",
       "      <td>-23.0</td>\n",
       "      <td>-52.0</td>\n",
       "      <td>-22.0</td>\n",
       "    </tr>\n",
       "  </tbody>\n",
       "</table>\n",
       "<p>32931 rows × 5 columns</p>\n",
       "</div>"
      ],
      "text/plain": [
       "                            _id       date  retail_and_recreation_pcb  \\\n",
       "0      6013f6db8ae46e58dbfa1731 2020-02-15                        3.0   \n",
       "1      6013f6db8ae46e58dbfa1854 2020-02-15                        8.0   \n",
       "2      6013f6db8ae46e58dbfa195e 2020-02-15                       13.0   \n",
       "3      6013f6db8ae46e58dbfa1ae5 2020-02-15                        4.0   \n",
       "4      6013f6db8ae46e58dbfa1bef 2020-02-15                        7.0   \n",
       "...                         ...        ...                        ...   \n",
       "32926  6037896dc2f90c7de3be9ec6 2020-12-01                      -22.0   \n",
       "32927  6037896dc2f90c7de3be9fe3 2020-12-01                      -23.0   \n",
       "32928  6037896dc2f90c7de3bea103 2020-12-01                      -19.0   \n",
       "32929  6037896dc2f90c7de3bea220 2020-12-01                       -5.0   \n",
       "32930  6037896dc2f90c7de3bea32a 2020-12-01                      -23.0   \n",
       "\n",
       "       transit_stations_pcb  workplaces_pcb  \n",
       "0                       1.0             3.0  \n",
       "1                      27.0             8.0  \n",
       "2                      14.0             2.0  \n",
       "3                     -12.0             7.0  \n",
       "4                       6.0             7.0  \n",
       "...                     ...             ...  \n",
       "32926                 -26.0           -11.0  \n",
       "32927                 -55.0           -51.0  \n",
       "32928                 -39.0           -35.0  \n",
       "32929                 -40.0           -21.0  \n",
       "32930                 -52.0           -22.0  \n",
       "\n",
       "[32931 rows x 5 columns]"
      ]
     },
     "execution_count": 25,
     "metadata": {},
     "output_type": "execute_result"
    }
   ],
   "source": [
    "query = {\"date\": {\"$gt\": datetime.datetime(2020,1,1)}}\n",
    "\n",
    "sub_v_data = pd.DataFrame(list(vic_colection.find(query).sort(\"date\")))\n",
    "sub_v_data"
   ]
  },
  {
   "cell_type": "markdown",
   "metadata": {},
   "source": [
    "## 7- Visualisation "
   ]
  },
  {
   "cell_type": "markdown",
   "metadata": {},
   "source": [
    "The second wave of Covid-19 hit Melbourne in June 2020 and the state government placed Melbourne into “stage3” lockdown on July 9. Stage 3 includes closure of entertainment venues, bars, worship places, restaurants, cafes, and limiting public gatherings to two people. The city exited it lockdown on Wednesday 26th of October 2020. So, the question is how did the impose restriction policies during the second wave of COVID-19 in Melbourne effect the population mobility trends? To answer this question, we will check the retail and recreation, workplace, and transit sections.\n",
    "\n",
    "As per the below graph, the retail and recreation visit dropped sharply in March when the COVID-19 hit Melbourne for the first time and then in August when the COVID-19 hit Melbourne for the second time. This section kept declining from August to till late September then the it increased sharply in November when people starting shopping for Christmas."
   ]
  },
  {
   "cell_type": "code",
   "execution_count": 26,
   "metadata": {},
   "outputs": [
    {
     "data": {
      "image/png": "[encoded data removed]",
      "text/plain": [
       "<Figure size 432x288 with 1 Axes>"
      ]
     },
     "metadata": {
      "needs_background": "light"
     },
     "output_type": "display_data"
    }
   ],
   "source": [
    "sns.lineplot(x = \"date\", y = \"retail_and_recreation_pcb\", data=sub_v_data)\n",
    "plt.xticks(rotation=90)\n",
    "plt.tight_layout()\n",
    "plt.show()"
   ]
  },
  {
   "cell_type": "markdown",
   "metadata": {},
   "source": [
    "A same scenario happened for the workplace section and the graph dropped very sharply in March and April when the COVID hit Melbourne for the first time and then in June when the second wave hit Melbourne. Interestingly the graph went up and down in a similar scale from late June to late October. Probably that’s the result of working from home every other week."
   ]
  },
  {
   "cell_type": "code",
   "execution_count": 27,
   "metadata": {},
   "outputs": [
    {
     "data": {
      "image/png": "[encoded data removed]",
      "text/plain": [
       "<Figure size 432x288 with 1 Axes>"
      ]
     },
     "metadata": {
      "needs_background": "light"
     },
     "output_type": "display_data"
    }
   ],
   "source": [
    "sns.lineplot(x = \"date\", y = \"workplaces_pcb\", data=sub_v_data)\n",
    "plt.xticks(rotation=90)\n",
    "plt.tight_layout()\n",
    "plt.show()"
   ]
  },
  {
   "cell_type": "markdown",
   "metadata": {},
   "source": [
    "The transit and station graph follows a same shape. It declined rapidly in March and then in July."
   ]
  },
  {
   "cell_type": "code",
   "execution_count": 28,
   "metadata": {},
   "outputs": [
    {
     "data": {
      "image/png": "[encoded data removed]",
      "text/plain": [
       "<Figure size 432x288 with 1 Axes>"
      ]
     },
     "metadata": {
      "needs_background": "light"
     },
     "output_type": "display_data"
    }
   ],
   "source": [
    "sns.lineplot(x = \"date\", y = \"transit_stations_pcb\", data=sub_v_data)\n",
    "plt.xticks(rotation=90)\n",
    "plt.tight_layout()\n",
    "plt.show()"
   ]
  },
  {
   "cell_type": "markdown",
   "metadata": {},
   "source": [
    "We can see that all sections almost follow a same shape and rapid declines happen almost at the same time. So, the imposed restrictions were effective and people obeyed the rule."
   ]
  },
  {
   "cell_type": "markdown",
   "metadata": {},
   "source": [
    "## 8. Findings:\n",
    "\n",
    "As per the above graphs, People really obeyed the rules in Melbourne and as the result of that the restrictions were eases on 26th of October. We can see a rapid dropped in March and June in all different sections. People followed the rule, practiced social distancing and avoided optional and not important travels and as the result of that the state government eased the restriction in October. We can see that all sections almost follow a same shape and rapid declines happen almost at the same time. So, the imposed restrictions were effective and people obeyed the rule.\n",
    "\n",
    "\n",
    "## 9. Ethics and Privacy:\n",
    "The aggregation and anonymization process were described at the following paper:\n",
    "Aktay, A., et al. (2020). \"Google COVID-19 community mobility reports: Anonymization process description (version 1.0).\" arXiv preprint arXiv:2004.04145.\n",
    "Available at: https://arxiv.org/pdf/2004.04145.pdf\n",
    "\n",
    "Google removes the personally identifiable information, such as an individual’s location, contacts, and movement. This information will not be made available at any point. The Location history setting is off by default and if the end-user turns it on manually then it allows Google to collect the data. Google creates these reports with aggregated, anonymized sets of data from users who have turned on the Location History setting. Also individuals can turn off the Location History at any time from their Google Account and can always delete Location History data directly from their Timeline\n",
    "In addition, Google uses anonymization technology in their products to keep end-user’s activity data private and secure which includes differential privacy system. This system adds artificial noise to Google datasets which allows Google to generate insights while preventing the identification of any individual person.\n",
    "\n",
    "\n",
    "Privacy and the protection of personal information must be considered as human right. Under the Australian Privacy Act 1988 (Cth) (Privacy Act), consent is not necessary to collect and use COVID-19 personal information, if collection of personal information is required or authorised under by or under an Australian law (based on Australian Privacy Principles (APP) 3.4(a) under the Privacy Act) or if “permitted general situation” exists (based on Australian Privacy Principles APP 3.4(b) under the Privacy Act). Under APP chapter 5, individuals must be told when their personal information is collected. But Google creates the reports by using anonymised data sets from individuals who have the Location History setting turned on which is off by default. Also, it can be disabled in users Google Accounts. In addition, Location history data could be deleted directly from users' timelines. Furthermore, Google anonymises the data with differential privacy by adding noise to the information. Hence the identification of individuals is removed."
   ]
  },
  {
   "cell_type": "code",
   "execution_count": null,
   "metadata": {},
   "outputs": [],
   "source": []
  }
 ],
 "metadata": {
  "kernelspec": {
   "display_name": "Python 3",
   "language": "python",
   "name": "python3"
  },
  "language_info": {
   "codemirror_mode": {
    "name": "ipython",
    "version": 3
   },
   "file_extension": ".py",
   "mimetype": "text/x-python",
   "name": "python",
   "nbconvert_exporter": "python",
   "pygments_lexer": "ipython3",
   "version": "3.8.3"
  }
 },
 "nbformat": 4,
 "nbformat_minor": 4
}
